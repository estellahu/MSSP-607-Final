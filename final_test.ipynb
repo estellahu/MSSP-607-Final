{
  "nbformat": 4,
  "nbformat_minor": 0,
  "metadata": {
    "colab": {
      "name": "final test",
      "provenance": [],
      "authorship_tag": "ABX9TyNfe7fYi8ZdfX8VwdZfraZ2",
      "include_colab_link": true
    },
    "kernelspec": {
      "name": "python3",
      "display_name": "Python 3"
    },
    "language_info": {
      "name": "python"
    }
  },
  "cells": [
    {
      "cell_type": "markdown",
      "metadata": {
        "id": "view-in-github",
        "colab_type": "text"
      },
      "source": [
        "<a href=\"https://colab.research.google.com/github/estellahu/MSSP-607-Final/blob/main/final_test.ipynb\" target=\"_parent\"><img src=\"https://colab.research.google.com/assets/colab-badge.svg\" alt=\"Open In Colab\"/></a>"
      ]
    },
    {
      "cell_type": "code",
      "execution_count": null,
      "metadata": {
        "id": "nmD90H1AcDEv"
      },
      "outputs": [],
      "source": [
        "import numpy as np # linear algebra\n",
        "import pandas as pd # data processing, CSV file I/O (e.g. pd.read_csv)"
      ]
    },
    {
      "cell_type": "code",
      "source": [
        "import numpy as np\n",
        "import pandas as pd\n",
        "import seaborn as sns\n",
        "import matplotlib.pyplot as plt\n",
        "\n",
        "from plotly.offline import init_notebook_mode, iplot, plot\n",
        "import plotly as py\n",
        "init_notebook_mode(connected=True)\n",
        "import plotly.graph_objs as go\n",
        "from wordcloud import WordCloud\n",
        "import plotly.express as px"
      ],
      "metadata": {
        "colab": {
          "base_uri": "https://localhost:8080/",
          "height": 17
        },
        "id": "DxJQZ6nhcFIK",
        "outputId": "d4f0004d-ed3c-441c-b23d-ad3d83c80333"
      },
      "execution_count": null,
      "outputs": [
        {
          "output_type": "display_data",
          "data": {
            "text/html": [
              "        <script type=\"text/javascript\">\n",
              "        window.PlotlyConfig = {MathJaxConfig: 'local'};\n",
              "        if (window.MathJax) {MathJax.Hub.Config({SVG: {font: \"STIX-Web\"}});}\n",
              "        if (typeof require !== 'undefined') {\n",
              "        require.undef(\"plotly\");\n",
              "        requirejs.config({\n",
              "            paths: {\n",
              "                'plotly': ['https://cdn.plot.ly/plotly-latest.min']\n",
              "            }\n",
              "        });\n",
              "        require(['plotly'], function(Plotly) {\n",
              "            window._Plotly = Plotly;\n",
              "        });\n",
              "        }\n",
              "        </script>\n",
              "        "
            ]
          },
          "metadata": {}
        }
      ]
    },
    {
      "cell_type": "code",
      "source": [
        "!pip install --upgrade plotly"
      ],
      "metadata": {
        "colab": {
          "base_uri": "https://localhost:8080/",
          "height": 342
        },
        "id": "2NszPnUGo--y",
        "outputId": "f480c92a-dd5b-4c92-bd7c-11128a6ae47b"
      },
      "execution_count": null,
      "outputs": [
        {
          "output_type": "stream",
          "name": "stdout",
          "text": [
            "Requirement already satisfied: plotly in /usr/local/lib/python3.7/dist-packages (4.4.1)\n",
            "Collecting plotly\n",
            "  Downloading plotly-5.4.0-py2.py3-none-any.whl (25.3 MB)\n",
            "\u001b[K     |████████████████████████████████| 25.3 MB 1.8 MB/s \n",
            "\u001b[?25hCollecting tenacity>=6.2.0\n",
            "  Downloading tenacity-8.0.1-py3-none-any.whl (24 kB)\n",
            "Requirement already satisfied: six in /usr/local/lib/python3.7/dist-packages (from plotly) (1.15.0)\n",
            "Installing collected packages: tenacity, plotly\n",
            "  Attempting uninstall: plotly\n",
            "    Found existing installation: plotly 4.4.1\n",
            "    Uninstalling plotly-4.4.1:\n",
            "      Successfully uninstalled plotly-4.4.1\n",
            "Successfully installed plotly-5.4.0 tenacity-8.0.1\n"
          ]
        },
        {
          "output_type": "display_data",
          "data": {
            "application/vnd.colab-display-data+json": {
              "pip_warning": {
                "packages": [
                  "_plotly_utils",
                  "plotly"
                ]
              }
            }
          },
          "metadata": {}
        }
      ]
    },
    {
      "cell_type": "code",
      "source": [
        "from google.colab import files\n",
        "files.upload()"
      ],
      "metadata": {
        "colab": {
          "resources": {
            "http://localhost:8080/nbextensions/google.colab/files.js": {
              "data": "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",
              "ok": true,
              "headers": [
                [
                  "content-type",
                  "application/javascript"
                ]
              ],
              "status": 200,
              "status_text": ""
            }
          },
          "base_uri": "https://localhost:8080/",
          "height": 380
        },
        "id": "_UNqZcGkihcZ",
        "outputId": "56123eb5-f7b8-49c3-d687-2ac1cf88cc7b"
      },
      "execution_count": null,
      "outputs": [
        {
          "output_type": "display_data",
          "data": {
            "text/html": [
              "\n",
              "     <input type=\"file\" id=\"files-603dc685-2779-4e41-812f-ec8628096bf8\" name=\"files[]\" multiple disabled\n",
              "        style=\"border:none\" />\n",
              "     <output id=\"result-603dc685-2779-4e41-812f-ec8628096bf8\">\n",
              "      Upload widget is only available when the cell has been executed in the\n",
              "      current browser session. Please rerun this cell to enable.\n",
              "      </output>\n",
              "      <script src=\"/nbextensions/google.colab/files.js\"></script> "
            ],
            "text/plain": [
              "<IPython.core.display.HTML object>"
            ]
          },
          "metadata": {}
        },
        {
          "output_type": "stream",
          "name": "stdout",
          "text": [
            "Saving 2015.csv to 2015.csv\n",
            "Saving 2016.csv to 2016.csv\n",
            "Saving 2017.csv to 2017.csv\n",
            "Saving 2018.csv to 2018.csv\n",
            "Saving 2019.csv to 2019.csv\n",
            "Saving 2020.csv to 2020.csv\n"
          ]
        },
        {
          "output_type": "execute_result",
          "data": {
            "text/plain": [
              "{'2015.csv': b'Country,Region,Happiness Rank,Happiness Score,Standard Error,Economy (GDP per Capita),Family,Health (Life Expectancy),Freedom,Trust (Government Corruption),Generosity,Dystopia Residual\\nSwitzerland,Western Europe,1,7.587,0.03411,1.39651,1.34951,0.94143,0.66557,0.41978,0.29678,2.51738\\nIceland,Western Europe,2,7.561,0.04884,1.30232,1.40223,0.94784,0.62877,0.14145,0.4363,2.70201\\nDenmark,Western Europe,3,7.527,0.03328,1.32548,1.36058,0.87464,0.64938,0.48357,0.34139,2.49204\\nNorway,Western Europe,4,7.522,0.0388,1.459,1.33095,0.88521,0.66973,0.36503,0.34699,2.46531\\nCanada,North America,5,7.427,0.03553,1.32629,1.32261,0.90563,0.63297,0.32957,0.45811,2.45176\\nFinland,Western Europe,6,7.406,0.0314,1.29025,1.31826,0.88911,0.64169,0.41372,0.23351,2.61955\\nNetherlands,Western Europe,7,7.378,0.02799,1.32944,1.28017,0.89284,0.61576,0.31814,0.4761,2.4657\\nSweden,Western Europe,8,7.364,0.03157,1.33171,1.28907,0.91087,0.6598,0.43844,0.36262,2.37119\\nNew Zealand,Australia and New Zealand,9,7.286,0.03371,1.25018,1.31967,0.90837,0.63938,0.42922,0.47501,2.26425\\nAustralia,Australia and New Zealand,10,7.284,0.04083,1.33358,1.30923,0.93156,0.65124,0.35637,0.43562,2.26646\\nIsrael,Middle East and Northern Africa,11,7.278,0.0347,1.22857,1.22393,0.91387,0.41319,0.07785,0.33172,3.08854\\nCosta Rica,Latin America and Caribbean,12,7.226,0.04454,0.95578,1.23788,0.86027,0.63376,0.10583,0.25497,3.17728\\nAustria,Western Europe,13,7.2,0.03751,1.33723,1.29704,0.89042,0.62433,0.18676,0.33088,2.5332\\nMexico,Latin America and Caribbean,14,7.187,0.04176,1.02054,0.91451,0.81444,0.48181,0.21312,0.14074,3.60214\\nUnited States,North America,15,7.119,0.03839,1.39451,1.24711,0.86179,0.54604,0.1589,0.40105,2.51011\\nBrazil,Latin America and Caribbean,16,6.983,0.04076,0.98124,1.23287,0.69702,0.49049,0.17521,0.14574,3.26001\\nLuxembourg,Western Europe,17,6.946,0.03499,1.56391,1.21963,0.91894,0.61583,0.37798,0.28034,1.96961\\nIreland,Western Europe,18,6.94,0.03676,1.33596,1.36948,0.89533,0.61777,0.28703,0.45901,1.9757\\nBelgium,Western Europe,19,6.937,0.03595,1.30782,1.28566,0.89667,0.5845,0.2254,0.2225,2.41484\\nUnited Arab Emirates,Middle East and Northern Africa,20,6.901,0.03729,1.42727,1.12575,0.80925,0.64157,0.38583,0.26428,2.24743\\nUnited Kingdom,Western Europe,21,6.867,0.01866,1.26637,1.28548,0.90943,0.59625,0.32067,0.51912,1.96994\\nOman,Middle East and Northern Africa,22,6.853,0.05335,1.36011,1.08182,0.76276,0.63274,0.32524,0.21542,2.47489\\nVenezuela,Latin America and Caribbean,23,6.81,0.06476,1.04424,1.25596,0.72052,0.42908,0.11069,0.05841,3.19131\\nSingapore,Southeastern Asia,24,6.798,0.0378,1.52186,1.02,1.02525,0.54252,0.4921,0.31105,1.88501\\nPanama,Latin America and Caribbean,25,6.786,0.0491,1.06353,1.1985,0.79661,0.5421,0.0927,0.24434,2.84848\\nGermany,Western Europe,26,6.75,0.01848,1.32792,1.29937,0.89186,0.61477,0.21843,0.28214,2.11569\\nChile,Latin America and Caribbean,27,6.67,0.058,1.10715,1.12447,0.85857,0.44132,0.12869,0.33363,2.67585\\nQatar,Middle East and Northern Africa,28,6.611,0.06257,1.69042,1.0786,0.79733,0.6404,0.52208,0.32573,1.55674\\nFrance,Western Europe,29,6.575,0.03512,1.27778,1.26038,0.94579,0.55011,0.20646,0.12332,2.21126\\nArgentina,Latin America and Caribbean,30,6.574,0.04612,1.05351,1.24823,0.78723,0.44974,0.08484,0.11451,2.836\\nCzech Republic,Central and Eastern Europe,31,6.505,0.04168,1.17898,1.20643,0.84483,0.46364,0.02652,0.10686,2.67782\\nUruguay,Latin America and Caribbean,32,6.485,0.04539,1.06166,1.2089,0.8116,0.60362,0.24558,0.2324,2.32142\\nColombia,Latin America and Caribbean,33,6.477,0.05051,0.91861,1.24018,0.69077,0.53466,0.0512,0.18401,2.85737\\nThailand,Southeastern Asia,34,6.455,0.03557,0.9669,1.26504,0.7385,0.55664,0.03187,0.5763,2.31945\\nSaudi Arabia,Middle East and Northern Africa,35,6.411,0.04633,1.39541,1.08393,0.72025,0.31048,0.32524,0.13706,2.43872\\nSpain,Western Europe,36,6.329,0.03468,1.23011,1.31379,0.95562,0.45951,0.06398,0.18227,2.12367\\nMalta,Western Europe,37,6.302,0.04206,1.2074,1.30203,0.88721,0.60365,0.13586,0.51752,1.6488\\nTaiwan,Eastern Asia,38,6.298,0.03868,1.29098,1.07617,0.8753,0.3974,0.08129,0.25376,2.32323\\nKuwait,Middle East and Northern Africa,39,6.295,0.04456,1.55422,1.16594,0.72492,0.55499,0.25609,0.16228,1.87634\\nSuriname,Latin America and Caribbean,40,6.269,0.09811,0.99534,0.972,0.6082,0.59657,0.13633,0.16991,2.79094\\nTrinidad and Tobago,Latin America and Caribbean,41,6.168,0.10895,1.21183,1.18354,0.61483,0.55884,0.0114,0.31844,2.26882\\nEl Salvador,Latin America and Caribbean,42,6.13,0.05618,0.76454,1.02507,0.67737,0.4035,0.11776,0.10692,3.035\\nGuatemala,Latin America and Caribbean,43,6.123,0.05224,0.74553,1.04356,0.64425,0.57733,0.09472,0.27489,2.74255\\nUzbekistan,Central and Eastern Europe,44,6.003,0.04361,0.63244,1.34043,0.59772,0.65821,0.30826,0.22837,2.23741\\nSlovakia,Central and Eastern Europe,45,5.995,0.04267,1.16891,1.26999,0.78902,0.31751,0.03431,0.16893,2.24639\\nJapan,Eastern Asia,46,5.987,0.03581,1.27074,1.25712,0.99111,0.49615,0.1806,0.10705,1.68435\\nSouth Korea,Eastern Asia,47,5.984,0.04098,1.24461,0.95774,0.96538,0.33208,0.07857,0.18557,2.21978\\nEcuador,Latin America and Caribbean,48,5.975,0.04528,0.86402,0.99903,0.79075,0.48574,0.1809,0.11541,2.53942\\nBahrain,Middle East and Northern Africa,49,5.96,0.05412,1.32376,1.21624,0.74716,0.45492,0.306,0.17362,1.73797\\nItaly,Western Europe,50,5.948,0.03914,1.25114,1.19777,0.95446,0.26236,0.02901,0.22823,2.02518\\nBolivia,Latin America and Caribbean,51,5.89,0.05642,0.68133,0.97841,0.5392,0.57414,0.088,0.20536,2.82334\\nMoldova,Central and Eastern Europe,52,5.889,0.03799,0.59448,1.01528,0.61826,0.32818,0.01615,0.20951,3.10712\\nParaguay,Latin America and Caribbean,53,5.878,0.04563,0.75985,1.30477,0.66098,0.53899,0.08242,0.3424,2.18896\\nKazakhstan,Central and Eastern Europe,54,5.855,0.04114,1.12254,1.12241,0.64368,0.51649,0.08454,0.11827,2.24729\\nSlovenia,Central and Eastern Europe,55,5.848,0.04251,1.18498,1.27385,0.87337,0.60855,0.03787,0.25328,1.61583\\nLithuania,Central and Eastern Europe,56,5.833,0.03843,1.14723,1.25745,0.73128,0.21342,0.01031,0.02641,2.44649\\nNicaragua,Latin America and Caribbean,57,5.828,0.05371,0.59325,1.14184,0.74314,0.55475,0.19317,0.27815,2.32407\\nPeru,Latin America and Caribbean,58,5.824,0.04615,0.90019,0.97459,0.73017,0.41496,0.05989,0.14982,2.5945\\nBelarus,Central and Eastern Europe,59,5.813,0.03938,1.03192,1.23289,0.73608,0.37938,0.1909,0.11046,2.1309\\nPoland,Central and Eastern Europe,60,5.791,0.04263,1.12555,1.27948,0.77903,0.53122,0.04212,0.16759,1.86565\\nMalaysia,Southeastern Asia,61,5.77,0.0433,1.12486,1.07023,0.72394,0.53024,0.10501,0.33075,1.88541\\nCroatia,Central and Eastern Europe,62,5.759,0.04394,1.08254,0.79624,0.78805,0.25883,0.0243,0.05444,2.75414\\nLibya,Middle East and Northern Africa,63,5.754,0.07832,1.13145,1.11862,0.7038,0.41668,0.11023,0.18295,2.09066\\nRussia,Central and Eastern Europe,64,5.716,0.03135,1.13764,1.23617,0.66926,0.36679,0.03005,0.00199,2.27394\\nJamaica,Latin America and Caribbean,65,5.709,0.13693,0.81038,1.15102,0.68741,0.50442,0.02299,0.2123,2.32038\\nNorth Cyprus,Western Europe,66,5.695,0.05635,1.20806,1.07008,0.92356,0.49027,0.1428,0.26169,1.59888\\nCyprus,Western Europe,67,5.689,0.0558,1.20813,0.89318,0.92356,0.40672,0.06146,0.30638,1.88931\\nAlgeria,Middle East and Northern Africa,68,5.605,0.05099,0.93929,1.07772,0.61766,0.28579,0.17383,0.07822,2.43209\\nKosovo,Central and Eastern Europe,69,5.589,0.05018,0.80148,0.81198,0.63132,0.24749,0.04741,0.2831,2.76579\\nTurkmenistan,Central and Eastern Europe,70,5.548,0.04175,0.95847,1.22668,0.53886,0.4761,0.30844,0.16979,1.86984\\nMauritius,Sub-Saharan Africa,71,5.477,0.07197,1.00761,0.98521,0.7095,0.56066,0.07521,0.37744,1.76145\\nHong Kong,Eastern Asia,72,5.474,0.05051,1.38604,1.05818,1.01328,0.59608,0.37124,0.39478,0.65429\\nEstonia,Central and Eastern Europe,73,5.429,0.04013,1.15174,1.22791,0.77361,0.44888,0.15184,0.0868,1.58782\\nIndonesia,Southeastern Asia,74,5.399,0.02596,0.82827,1.08708,0.63793,0.46611,0,0.51535,1.86399\\nVietnam,Southeastern Asia,75,5.36,0.03107,0.63216,0.91226,0.74676,0.59444,0.10441,0.1686,2.20173\\nTurkey,Middle East and Northern Africa,76,5.332,0.03864,1.06098,0.94632,0.73172,0.22815,0.15746,0.12253,2.08528\\nKyrgyzstan,Central and Eastern Europe,77,5.286,0.03823,0.47428,1.15115,0.65088,0.43477,0.04232,0.3003,2.2327\\nNigeria,Sub-Saharan Africa,78,5.268,0.04192,0.65435,0.90432,0.16007,0.34334,0.0403,0.27233,2.89319\\nBhutan,Southern Asia,79,5.253,0.03225,0.77042,1.10395,0.57407,0.53206,0.15445,0.47998,1.63794\\nAzerbaijan,Central and Eastern Europe,80,5.212,0.03363,1.02389,0.93793,0.64045,0.3703,0.16065,0.07799,2.00073\\nPakistan,Southern Asia,81,5.194,0.03726,0.59543,0.41411,0.51466,0.12102,0.10464,0.33671,3.10709\\nJordan,Middle East and Northern Africa,82,5.192,0.04524,0.90198,1.05392,0.69639,0.40661,0.14293,0.11053,1.87996\\nMontenegro,Central and Eastern Europe,82,5.192,0.05235,0.97438,0.90557,0.72521,0.1826,0.14296,0.1614,2.10017\\nChina,Eastern Asia,84,5.14,0.02424,0.89012,0.94675,0.81658,0.51697,0.02781,0.08185,1.8604\\nZambia,Sub-Saharan Africa,85,5.129,0.06988,0.47038,0.91612,0.29924,0.48827,0.12468,0.19591,2.6343\\nRomania,Central and Eastern Europe,86,5.124,0.06607,1.04345,0.88588,0.7689,0.35068,0.00649,0.13748,1.93129\\nSerbia,Central and Eastern Europe,87,5.123,0.04864,0.92053,1.00964,0.74836,0.20107,0.02617,0.19231,2.025\\nPortugal,Western Europe,88,5.102,0.04802,1.15991,1.13935,0.87519,0.51469,0.01078,0.13719,1.26462\\nLatvia,Central and Eastern Europe,89,5.098,0.0464,1.11312,1.09562,0.72437,0.29671,0.06332,0.18226,1.62215\\nPhilippines,Southeastern Asia,90,5.073,0.04934,0.70532,1.03516,0.58114,0.62545,0.12279,0.24991,1.7536\\nSomaliland region,Sub-Saharan Africa,91,5.057,0.06161,0.18847,0.95152,0.43873,0.46582,0.39928,0.50318,2.11032\\nMorocco,Middle East and Northern Africa,92,5.013,0.0342,0.73479,0.64095,0.60954,0.41691,0.08546,0.07172,2.45373\\nMacedonia,Central and Eastern Europe,93,5.007,0.05376,0.91851,1.00232,0.73545,0.33457,0.05327,0.22359,1.73933\\nMozambique,Sub-Saharan Africa,94,4.971,0.07896,0.08308,1.02626,0.09131,0.34037,0.15603,0.22269,3.05137\\nAlbania,Central and Eastern Europe,95,4.959,0.05013,0.87867,0.80434,0.81325,0.35733,0.06413,0.14272,1.89894\\nBosnia and Herzegovina,Central and Eastern Europe,96,4.949,0.06913,0.83223,0.91916,0.79081,0.09245,0.00227,0.24808,2.06367\\nLesotho,Sub-Saharan Africa,97,4.898,0.09438,0.37545,1.04103,0.07612,0.31767,0.12504,0.16388,2.79832\\nDominican Republic,Latin America and Caribbean,98,4.885,0.07446,0.89537,1.17202,0.66825,0.57672,0.14234,0.21684,1.21305\\nLaos,Southeastern Asia,99,4.876,0.06698,0.59066,0.73803,0.54909,0.59591,0.24249,0.42192,1.73799\\nMongolia,Eastern Asia,100,4.874,0.03313,0.82819,1.3006,0.60268,0.43626,0.02666,0.3323,1.34759\\nSwaziland,Sub-Saharan Africa,101,4.867,0.08742,0.71206,1.07284,0.07566,0.30658,0.0306,0.18259,2.48676\\nGreece,Western Europe,102,4.857,0.05062,1.15406,0.92933,0.88213,0.07699,0.01397,0,1.80101\\nLebanon,Middle East and Northern Africa,103,4.839,0.04337,1.02564,0.80001,0.83947,0.33916,0.04582,0.21854,1.57059\\nHungary,Central and Eastern Europe,104,4.8,0.06107,1.12094,1.20215,0.75905,0.32112,0.02758,0.128,1.24074\\nHonduras,Latin America and Caribbean,105,4.788,0.05648,0.59532,0.95348,0.6951,0.40148,0.06825,0.23027,1.84408\\nTajikistan,Central and Eastern Europe,106,4.786,0.03198,0.39047,0.85563,0.57379,0.47216,0.15072,0.22974,2.11399\\nTunisia,Middle East and Northern Africa,107,4.739,0.03589,0.88113,0.60429,0.73793,0.26268,0.06358,0.06431,2.12466\\nPalestinian Territories,Middle East and Northern Africa,108,4.715,0.04394,0.59867,0.92558,0.66015,0.24499,0.12905,0.11251,2.04384\\nBangladesh,Southern Asia,109,4.694,0.03077,0.39753,0.43106,0.60164,0.4082,0.12569,0.21222,2.51767\\nIran,Middle East and Northern Africa,110,4.686,0.04449,1.0088,0.54447,0.69805,0.30033,0.05863,0.38086,1.6944\\nUkraine,Central and Eastern Europe,111,4.681,0.04412,0.79907,1.20278,0.6739,0.25123,0.02961,0.15275,1.5714\\nIraq,Middle East and Northern Africa,112,4.677,0.05232,0.98549,0.81889,0.60237,0,0.13788,0.17922,1.95335\\nSouth Africa,Sub-Saharan Africa,113,4.642,0.04585,0.92049,1.18468,0.27688,0.33207,0.08884,0.11973,1.71956\\nGhana,Sub-Saharan Africa,114,4.633,0.04742,0.54558,0.67954,0.40132,0.42342,0.04355,0.23087,2.30919\\nZimbabwe,Sub-Saharan Africa,115,4.61,0.0429,0.271,1.03276,0.33475,0.25861,0.08079,0.18987,2.44191\\nLiberia,Sub-Saharan Africa,116,4.571,0.11068,0.0712,0.78968,0.34201,0.28531,0.06232,0.24362,2.77729\\nIndia,Southern Asia,117,4.565,0.02043,0.64499,0.38174,0.51529,0.39786,0.08492,0.26475,2.27513\\nSudan,Sub-Saharan Africa,118,4.55,0.0674,0.52107,1.01404,0.36878,0.10081,0.1466,0.19062,2.20857\\nHaiti,Latin America and Caribbean,119,4.518,0.07331,0.26673,0.74302,0.38847,0.24425,0.17175,0.46187,2.24173\\nCongo (Kinshasa),Sub-Saharan Africa,120,4.517,0.0368,0,1.0012,0.09806,0.22605,0.07625,0.24834,2.86712\\nNepal,Southern Asia,121,4.514,0.03607,0.35997,0.86449,0.56874,0.38282,0.05907,0.32296,1.95637\\nEthiopia,Sub-Saharan Africa,122,4.512,0.0378,0.19073,0.60406,0.44055,0.4345,0.15048,0.24325,2.44876\\nSierra Leone,Sub-Saharan Africa,123,4.507,0.07068,0.33024,0.95571,0,0.4084,0.08786,0.21488,2.51009\\nMauritania,Sub-Saharan Africa,124,4.436,0.03947,0.45407,0.86908,0.35874,0.24232,0.17461,0.219,2.11773\\nKenya,Sub-Saharan Africa,125,4.419,0.04734,0.36471,0.99876,0.41435,0.42215,0.05839,0.37542,1.78555\\nDjibouti,Sub-Saharan Africa,126,4.369,0.08096,0.44025,0.59207,0.36291,0.46074,0.28105,0.18093,2.05125\\nArmenia,Central and Eastern Europe,127,4.35,0.04763,0.76821,0.77711,0.7299,0.19847,0.039,0.07855,1.75873\\nBotswana,Sub-Saharan Africa,128,4.332,0.04934,0.99355,1.10464,0.04776,0.49495,0.12474,0.10461,1.46181\\nMyanmar,Southeastern Asia,129,4.307,0.04351,0.27108,0.70905,0.48246,0.44017,0.19034,0.79588,1.41805\\nGeorgia,Central and Eastern Europe,130,4.297,0.04221,0.7419,0.38562,0.72926,0.40577,0.38331,0.05547,1.59541\\nMalawi,Sub-Saharan Africa,131,4.292,0.0613,0.01604,0.41134,0.22562,0.43054,0.06977,0.33128,2.80791\\nSri Lanka,Southern Asia,132,4.271,0.03751,0.83524,1.01905,0.70806,0.53726,0.09179,0.40828,0.67108\\nCameroon,Sub-Saharan Africa,133,4.252,0.04678,0.4225,0.88767,0.23402,0.49309,0.05786,0.20618,1.95071\\nBulgaria,Central and Eastern Europe,134,4.218,0.04828,1.01216,1.10614,0.76649,0.30587,0.00872,0.11921,0.89991\\nEgypt,Middle East and Northern Africa,135,4.194,0.0326,0.8818,0.747,0.61712,0.17288,0.06324,0.11291,1.59927\\nYemen,Middle East and Northern Africa,136,4.077,0.04367,0.54649,0.68093,0.40064,0.35571,0.07854,0.09131,1.92313\\nAngola,Sub-Saharan Africa,137,4.033,0.04758,0.75778,0.8604,0.16683,0.10384,0.07122,0.12344,1.94939\\nMali,Sub-Saharan Africa,138,3.995,0.05602,0.26074,1.03526,0.20583,0.38857,0.12352,0.18798,1.79293\\nCongo (Brazzaville),Sub-Saharan Africa,139,3.989,0.06682,0.67866,0.6629,0.31051,0.41466,0.11686,0.12388,1.68135\\nComoros,Sub-Saharan Africa,140,3.956,0.04797,0.23906,0.79273,0.36315,0.22917,0.199,0.17441,1.95812\\nUganda,Sub-Saharan Africa,141,3.931,0.04317,0.21102,1.13299,0.33861,0.45727,0.07267,0.29066,1.42766\\nSenegal,Sub-Saharan Africa,142,3.904,0.03608,0.36498,0.97619,0.4354,0.36772,0.10713,0.20843,1.44395\\nGabon,Sub-Saharan Africa,143,3.896,0.04547,1.06024,0.90528,0.43372,0.31914,0.11091,0.06822,0.99895\\nNiger,Sub-Saharan Africa,144,3.845,0.03602,0.0694,0.77265,0.29707,0.47692,0.15639,0.19387,1.87877\\nCambodia,Southeastern Asia,145,3.819,0.05069,0.46038,0.62736,0.61114,0.66246,0.07247,0.40359,0.98195\\nTanzania,Sub-Saharan Africa,146,3.781,0.05061,0.2852,1.00268,0.38215,0.32878,0.05747,0.34377,1.38079\\nMadagascar,Sub-Saharan Africa,147,3.681,0.03633,0.20824,0.66801,0.46721,0.19184,0.08124,0.21333,1.851\\nCentral African Republic,Sub-Saharan Africa,148,3.678,0.06112,0.0785,0,0.06699,0.48879,0.08289,0.23835,2.7223\\nChad,Sub-Saharan Africa,149,3.667,0.0383,0.34193,0.76062,0.1501,0.23501,0.05269,0.18386,1.94296\\nGuinea,Sub-Saharan Africa,150,3.656,0.0359,0.17417,0.46475,0.24009,0.37725,0.12139,0.28657,1.99172\\nIvory Coast,Sub-Saharan Africa,151,3.655,0.05141,0.46534,0.77115,0.15185,0.46866,0.17922,0.20165,1.41723\\nBurkina Faso,Sub-Saharan Africa,152,3.587,0.04324,0.25812,0.85188,0.27125,0.39493,0.12832,0.21747,1.46494\\nAfghanistan,Southern Asia,153,3.575,0.03084,0.31982,0.30285,0.30335,0.23414,0.09719,0.3651,1.9521\\nRwanda,Sub-Saharan Africa,154,3.465,0.03464,0.22208,0.7737,0.42864,0.59201,0.55191,0.22628,0.67042\\nBenin,Sub-Saharan Africa,155,3.34,0.03656,0.28665,0.35386,0.3191,0.4845,0.0801,0.1826,1.63328\\nSyria,Middle East and Northern Africa,156,3.006,0.05015,0.6632,0.47489,0.72193,0.15684,0.18906,0.47179,0.32858\\nBurundi,Sub-Saharan Africa,157,2.905,0.08658,0.0153,0.41587,0.22396,0.1185,0.10062,0.19727,1.83302\\nTogo,Sub-Saharan Africa,158,2.839,0.06727,0.20868,0.13995,0.28443,0.36453,0.10731,0.16681,1.56726\\n',\n",
              " '2016.csv': b'Country,Region,Happiness Rank,Happiness Score,Lower Confidence Interval,Upper Confidence Interval,Economy (GDP per Capita),Family,Health (Life Expectancy),Freedom,Trust (Government Corruption),Generosity,Dystopia Residual\\nDenmark,Western Europe,1,7.526,7.46,7.592,1.44178,1.16374,0.79504,0.57941,0.44453,0.36171,2.73939\\nSwitzerland,Western Europe,2,7.509,7.428,7.59,1.52733,1.14524,0.86303,0.58557,0.41203,0.28083,2.69463\\nIceland,Western Europe,3,7.501,7.333,7.669,1.42666,1.18326,0.86733,0.56624,0.14975,0.47678,2.83137\\nNorway,Western Europe,4,7.498,7.421,7.575,1.57744,1.1269,0.79579,0.59609,0.35776,0.37895,2.66465\\nFinland,Western Europe,5,7.413,7.351,7.475,1.40598,1.13464,0.81091,0.57104,0.41004,0.25492,2.82596\\nCanada,North America,6,7.404,7.335,7.473,1.44015,1.0961,0.8276,0.5737,0.31329,0.44834,2.70485\\nNetherlands,Western Europe,7,7.339,7.284,7.394,1.46468,1.02912,0.81231,0.55211,0.29927,0.47416,2.70749\\nNew Zealand,Australia and New Zealand,8,7.334,7.264,7.404,1.36066,1.17278,0.83096,0.58147,0.41904,0.49401,2.47553\\nAustralia,Australia and New Zealand,9,7.313,7.241,7.385,1.44443,1.10476,0.8512,0.56837,0.32331,0.47407,2.5465\\nSweden,Western Europe,10,7.291,7.227,7.355,1.45181,1.08764,0.83121,0.58218,0.40867,0.38254,2.54734\\nIsrael,Middle East and Northern Africa,11,7.267,7.199,7.335,1.33766,0.99537,0.84917,0.36432,0.08728,0.32288,3.31029\\nAustria,Western Europe,12,7.119,7.045,7.193,1.45038,1.08383,0.80565,0.54355,0.21348,0.32865,2.69343\\nUnited States,North America,13,7.104,7.02,7.188,1.50796,1.04782,0.779,0.48163,0.14868,0.41077,2.72782\\nCosta Rica,Latin America and Caribbean,14,7.087,6.999,7.175,1.06879,1.02152,0.76146,0.55225,0.10547,0.22553,3.35168\\nPuerto Rico,Latin America and Caribbean,15,7.039,6.794,7.284,1.35943,1.08113,0.77758,0.46823,0.12275,0.22202,3.0076\\nGermany,Western Europe,16,6.994,6.93,7.058,1.44787,1.09774,0.81487,0.53466,0.28551,0.30452,2.50931\\nBrazil,Latin America and Caribbean,17,6.952,6.875,7.029,1.08754,1.03938,0.61415,0.40425,0.14166,0.15776,3.50733\\nBelgium,Western Europe,18,6.929,6.861,6.997,1.42539,1.05249,0.81959,0.51354,0.26248,0.2424,2.61355\\nIreland,Western Europe,19,6.907,6.836,6.978,1.48341,1.16157,0.81455,0.54008,0.29754,0.44963,2.15988\\nLuxembourg,Western Europe,20,6.871,6.804,6.938,1.69752,1.03999,0.84542,0.5487,0.35329,0.27571,2.11055\\nMexico,Latin America and Caribbean,21,6.778,6.68,6.876,1.11508,0.7146,0.71143,0.37709,0.18355,0.11735,3.55906\\nSingapore,Southeastern Asia,22,6.739,6.674,6.804,1.64555,0.86758,0.94719,0.4877,0.46987,0.32706,1.99375\\nUnited Kingdom,Western Europe,23,6.725,6.647,6.803,1.40283,1.08672,0.80991,0.50036,0.27399,0.50156,2.14999\\nChile,Latin America and Caribbean,24,6.705,6.615,6.795,1.2167,0.90587,0.81883,0.37789,0.11451,0.31595,2.95505\\nPanama,Latin America and Caribbean,25,6.701,6.601,6.801,1.18306,0.98912,0.70835,0.48927,0.08423,0.2418,3.00559\\nArgentina,Latin America and Caribbean,26,6.65,6.56,6.74,1.15137,1.06612,0.69711,0.42284,0.07296,0.10989,3.12985\\nCzech Republic,Central and Eastern Europe,27,6.596,6.515,6.677,1.30915,1.00793,0.76376,0.41418,0.03986,0.09929,2.96211\\nUnited Arab Emirates,Middle East and Northern Africa,28,6.573,6.494,6.652,1.57352,0.87114,0.72993,0.56215,0.35561,0.26591,2.21507\\nUruguay,Latin America and Caribbean,29,6.545,6.456,6.634,1.18157,1.03143,0.72183,0.54388,0.21394,0.18056,2.67139\\nMalta,Western Europe,30,6.488,6.409,6.567,1.30782,1.09879,0.80315,0.54994,0.17554,0.56237,1.99032\\nColombia,Latin America and Caribbean,31,6.481,6.384,6.578,1.03032,1.02169,0.59659,0.44735,0.05399,0.15626,3.17471\\nFrance,Western Europe,32,6.478,6.397,6.559,1.39488,1.00508,0.83795,0.46562,0.17808,0.1216,2.4744\\nThailand,Southeastern Asia,33,6.474,6.396,6.552,1.0893,1.04477,0.64915,0.49553,0.02833,0.58696,2.5796\\nSaudi Arabia,Middle East and Northern Africa,34,6.379,6.287,6.471,1.48953,0.84829,0.59267,0.37904,0.30008,0.15457,2.61482\\nTaiwan,Eastern Asia,34,6.379,6.305,6.453,1.39729,0.92624,0.79565,0.32377,0.0663,0.25495,2.61523\\nQatar,Middle East and Northern Africa,36,6.375,6.178,6.572,1.82427,0.87964,0.71723,0.56679,0.48049,0.32388,1.58224\\nSpain,Western Europe,37,6.361,6.288,6.434,1.34253,1.12945,0.87896,0.37545,0.06137,0.17665,2.39663\\nAlgeria,Middle East and Northern Africa,38,6.355,6.227,6.483,1.05266,0.83309,0.61804,0.21006,0.16157,0.07044,3.40904\\nGuatemala,Latin America and Caribbean,39,6.324,6.213,6.435,0.83454,0.87119,0.54039,0.50379,0.08701,0.28808,3.19863\\nSuriname,Latin America and Caribbean,40,6.269,6.073,6.465,1.09686,0.77866,0.50933,0.52234,0.12692,0.16665,3.06852\\nKuwait,Middle East and Northern Africa,41,6.239,6.154,6.324,1.61714,0.87758,0.63569,0.43166,0.23669,0.15965,2.28085\\nBahrain,Middle East and Northern Africa,42,6.218,6.128,6.308,1.44024,0.94397,0.65696,0.47375,0.25772,0.17147,2.27405\\nTrinidad and Tobago,Latin America and Caribbean,43,6.168,5.95,6.386,1.32572,0.98569,0.52608,0.48453,0.01241,0.31935,2.51394\\nVenezuela,Latin America and Caribbean,44,6.084,5.973,6.195,1.13367,1.03302,0.61904,0.19847,0.08304,0.0425,2.97468\\nSlovakia,Central and Eastern Europe,45,6.078,5.996,6.16,1.27973,1.08268,0.70367,0.23391,0.02947,0.13837,2.61065\\nEl Salvador,Latin America and Caribbean,46,6.068,5.967,6.169,0.8737,0.80975,0.596,0.37269,0.10613,0.08877,3.22134\\nMalaysia,Southeastern Asia,47,6.005,5.921,6.089,1.25142,0.88025,0.62366,0.39031,0.09081,0.41474,2.35384\\nNicaragua,Latin America and Caribbean,48,5.992,5.877,6.107,0.69384,0.89521,0.65213,0.46582,0.16292,0.29773,2.82428\\nUzbekistan,Central and Eastern Europe,49,5.987,5.896,6.078,0.73591,1.1681,0.50163,0.60848,0.28333,0.34326,2.34638\\nItaly,Western Europe,50,5.977,5.898,6.056,1.35495,1.04167,0.85102,0.18827,0.02556,0.16684,2.34918\\nEcuador,Latin America and Caribbean,51,5.976,5.88,6.072,0.97306,0.85974,0.68613,0.4027,0.18037,0.10074,2.77366\\nBelize,Latin America and Caribbean,52,5.956,5.71,6.202,0.87616,0.68655,0.45569,0.51231,0.10771,0.23684,3.08039\\nJapan,Eastern Asia,53,5.921,5.85,5.992,1.38007,1.06054,0.91491,0.46761,0.18985,0.10224,1.80584\\nKazakhstan,Central and Eastern Europe,54,5.919,5.837,6.001,1.22943,0.95544,0.57386,0.4052,0.11132,0.15011,2.49325\\nMoldova,Central and Eastern Europe,55,5.897,5.823,5.971,0.69177,0.83132,0.52309,0.25202,0.01903,0.19997,3.38007\\nRussia,Central and Eastern Europe,56,5.856,5.789,5.923,1.23228,1.05261,0.58991,0.32682,0.03586,0.02736,2.59115\\nPoland,Central and Eastern Europe,57,5.835,5.749,5.921,1.24585,1.04685,0.69058,0.4519,0.055,0.14443,2.20035\\nSouth Korea,Eastern Asia,57,5.835,5.747,5.923,1.35948,0.72194,0.88645,0.25168,0.07716,0.18824,2.35015\\nBolivia,Latin America and Caribbean,59,5.822,5.74,5.904,0.79422,0.83779,0.4697,0.50961,0.07746,0.21698,2.91635\\nLithuania,Central and Eastern Europe,60,5.813,5.734,5.892,1.2692,1.06411,0.64674,0.18929,0.0182,0.02025,2.60525\\nBelarus,Central and Eastern Europe,61,5.802,5.723,5.881,1.13062,1.04993,0.63104,0.29091,0.17457,0.13942,2.38582\\nNorth Cyprus,Western Europe,62,5.771,5.67,5.872,1.31141,0.81826,0.84142,0.43596,0.16578,0.26322,1.93447\\nSlovenia,Central and Eastern Europe,63,5.768,5.683,5.853,1.29947,1.05613,0.79151,0.53164,0.03635,0.25738,1.79522\\nPeru,Latin America and Caribbean,64,5.743,5.647,5.839,0.99602,0.81255,0.62994,0.37502,0.05292,0.14527,2.73117\\nTurkmenistan,Central and Eastern Europe,65,5.658,5.58,5.736,1.08017,1.03817,0.44006,0.37408,0.28467,0.22567,2.21489\\nMauritius,Sub-Saharan Africa,66,5.648,5.507,5.789,1.14372,0.75695,0.66189,0.46145,0.05203,0.36951,2.20223\\nLibya,Middle East and Northern Africa,67,5.615,5.406,5.824,1.06688,0.95076,0.52304,0.40672,0.10339,0.17087,2.39374\\nLatvia,Central and Eastern Europe,68,5.56,5.486,5.634,1.21788,0.95025,0.63952,0.27996,0.0889,0.17445,2.20859\\nCyprus,Western Europe,69,5.546,5.442,5.65,1.31857,0.70697,0.8488,0.29507,0.05228,0.27906,2.04497\\nParaguay,Latin America and Caribbean,70,5.538,5.453,5.623,0.89373,1.11111,0.58295,0.46235,0.07396,0.25296,2.16091\\nRomania,Central and Eastern Europe,71,5.528,5.427,5.629,1.1697,0.72803,0.67602,0.36712,0.00679,0.12889,2.45184\\nEstonia,Central and Eastern Europe,72,5.517,5.437,5.597,1.27964,1.05163,0.68098,0.41511,0.18519,0.08423,1.81985\\nJamaica,Latin America and Caribbean,73,5.51,5.315,5.705,0.89333,0.96372,0.59469,0.43597,0.04294,0.22245,2.35682\\nCroatia,Central and Eastern Europe,74,5.488,5.402,5.574,1.18649,0.60809,0.70524,0.23907,0.04002,0.18434,2.52462\\nHong Kong,Eastern Asia,75,5.458,5.362,5.554,1.5107,0.87021,0.95277,0.48079,0.31647,0.40097,0.92614\\nSomalia,Sub-Saharan Africa,76,5.44,5.321,5.559,0,0.33613,0.11466,0.56778,0.3118,0.27225,3.83772\\nKosovo,Central and Eastern Europe,77,5.401,5.308,5.494,0.90145,0.66062,0.54,0.14396,0.06547,0.27992,2.80998\\nTurkey,Middle East and Northern Africa,78,5.389,5.295,5.483,1.16492,0.87717,0.64718,0.23889,0.12348,0.04707,2.29074\\nIndonesia,Southeastern Asia,79,5.314,5.237,5.391,0.95104,0.87625,0.49374,0.39237,0.00322,0.56521,2.03171\\nJordan,Middle East and Northern Africa,80,5.303,5.187,5.419,0.99673,0.86216,0.60712,0.36023,0.13297,0.14262,2.20142\\nAzerbaijan,Central and Eastern Europe,81,5.291,5.226,5.356,1.12373,0.76042,0.54504,0.35327,0.17914,0.0564,2.2735\\nPhilippines,Southeastern Asia,82,5.279,5.16,5.398,0.81217,0.87877,0.47036,0.54854,0.11757,0.21674,2.23484\\nChina,Eastern Asia,83,5.245,5.199,5.291,1.0278,0.79381,0.73561,0.44012,0.02745,0.04959,2.17087\\nBhutan,Southern Asia,84,5.196,5.138,5.254,0.8527,0.90836,0.49759,0.46074,0.1616,0.48546,1.82916\\nKyrgyzstan,Central and Eastern Europe,85,5.185,5.103,5.267,0.56044,0.95434,0.55449,0.40212,0.04762,0.38432,2.28136\\nSerbia,Central and Eastern Europe,86,5.177,5.083,5.271,1.03437,0.81329,0.6458,0.15718,0.04339,0.20737,2.27539\\nBosnia and Herzegovina,Central and Eastern Europe,87,5.163,5.063,5.263,0.93383,0.64367,0.70766,0.09511,0,0.29889,2.48406\\nMontenegro,Central and Eastern Europe,88,5.161,5.055,5.267,1.07838,0.74173,0.63533,0.15111,0.12721,0.17191,2.25531\\nDominican Republic,Latin America and Caribbean,89,5.155,5.037,5.273,1.02787,0.99496,0.57669,0.52259,0.12372,0.21286,1.69626\\nMorocco,Middle East and Northern Africa,90,5.151,5.058,5.244,0.84058,0.38595,0.59471,0.25646,0.08404,0.04053,2.94891\\nHungary,Central and Eastern Europe,91,5.145,5.056,5.234,1.24142,0.93164,0.67608,0.1977,0.04472,0.099,1.95473\\nPakistan,Southern Asia,92,5.132,5.038,5.226,0.68816,0.26135,0.40306,0.14622,0.1388,0.31185,3.18286\\nLebanon,Middle East and Northern Africa,93,5.129,5.031,5.227,1.12268,0.64184,0.76171,0.26228,0.03061,0.23693,2.07339\\nPortugal,Western Europe,94,5.123,5.03,5.216,1.27607,0.94367,0.79363,0.44727,0.01521,0.11691,1.53015\\nMacedonia,Central and Eastern Europe,95,5.121,5.017,5.225,1.0193,0.78236,0.64738,0.27668,0.07047,0.23507,2.08947\\nVietnam,Southeastern Asia,96,5.061,4.991,5.131,0.74037,0.79117,0.66157,0.55954,0.11556,0.25075,1.9418\\nSomaliland Region,Sub-Saharan Africa,97,5.057,4.934,5.18,0.25558,0.75862,0.33108,0.3913,0.36794,0.51479,2.43801\\nTunisia,Middle East and Northern Africa,98,5.045,4.965,5.125,0.97724,0.43165,0.59577,0.23553,0.0817,0.03936,2.68413\\nGreece,Western Europe,99,5.033,4.935,5.131,1.24886,0.75473,0.80029,0.05822,0.04127,0,2.12944\\nTajikistan,Central and Eastern Europe,100,4.996,4.923,5.069,0.48835,0.75602,0.53119,0.43408,0.13509,0.25998,2.39106\\nMongolia,Eastern Asia,101,4.907,4.838,4.976,0.98853,1.08983,0.55469,0.35972,0.03285,0.34539,1.53586\\nLaos,Southeastern Asia,102,4.876,4.742,5.01,0.68042,0.5497,0.38291,0.52168,0.22423,0.43079,2.08637\\nNigeria,Sub-Saharan Africa,103,4.875,4.75,5,0.75216,0.64498,0.05108,0.27854,0.0305,0.23219,2.88586\\nHonduras,Latin America and Caribbean,104,4.871,4.75,4.992,0.69429,0.75596,0.58383,0.26755,0.06906,0.2044,2.29551\\nIran,Middle East and Northern Africa,105,4.813,4.703,4.923,1.11758,0.38857,0.64232,0.22544,0.0557,0.38538,1.99817\\nZambia,Sub-Saharan Africa,106,4.795,4.645,4.945,0.61202,0.6376,0.23573,0.42662,0.11479,0.17866,2.58991\\nNepal,Southern Asia,107,4.793,4.698,4.888,0.44626,0.69699,0.50073,0.37012,0.07008,0.3816,2.32694\\nPalestinian Territories,Middle East and Northern Africa,108,4.754,4.649,4.859,0.67024,0.71629,0.56844,0.17744,0.10613,0.11154,2.40364\\nAlbania,Central and Eastern Europe,109,4.655,4.546,4.764,0.9553,0.50163,0.73007,0.31866,0.05301,0.1684,1.92816\\nBangladesh,Southern Asia,110,4.643,4.56,4.726,0.54177,0.24749,0.52989,0.39778,0.12583,0.19132,2.60904\\nSierra Leone,Sub-Saharan Africa,111,4.635,4.505,4.765,0.36485,0.628,0,0.30685,0.08196,0.23897,3.01402\\nIraq,Middle East and Northern Africa,112,4.575,4.446,4.704,1.07474,0.59205,0.51076,0.24856,0.13636,0.19589,1.81657\\nNamibia,Sub-Saharan Africa,113,4.574,4.374,4.774,0.93287,0.70362,0.34745,0.48614,0.10398,0.07795,1.92198\\nCameroon,Sub-Saharan Africa,114,4.513,4.417,4.609,0.52497,0.62542,0.12698,0.42736,0.06126,0.2268,2.5198\\nEthiopia,Sub-Saharan Africa,115,4.508,4.425,4.591,0.29283,0.37932,0.34578,0.36703,0.1717,0.29522,2.65614\\nSouth Africa,Sub-Saharan Africa,116,4.459,4.371,4.547,1.02416,0.96053,0.18611,0.42483,0.08415,0.13656,1.64227\\nSri Lanka,Southern Asia,117,4.415,4.322,4.508,0.97318,0.84783,0.62007,0.50817,0.07964,0.46978,0.91681\\nIndia,Southern Asia,118,4.404,4.351,4.457,0.74036,0.29247,0.45091,0.40285,0.08722,0.25028,2.18032\\nMyanmar,Southeastern Asia,119,4.395,4.327,4.463,0.34112,0.69981,0.3988,0.42692,0.20243,0.81971,1.50655\\nEgypt,Middle East and Northern Africa,120,4.362,4.259,4.465,0.95395,0.49813,0.52116,0.18847,0.10393,0.12706,1.96895\\nArmenia,Central and Eastern Europe,121,4.36,4.266,4.454,0.86086,0.62477,0.64083,0.14037,0.03616,0.07793,1.97864\\nKenya,Sub-Saharan Africa,122,4.356,4.259,4.453,0.52267,0.7624,0.30147,0.40576,0.06686,0.41328,1.88326\\nUkraine,Central and Eastern Europe,123,4.324,4.236,4.412,0.87287,1.01413,0.58628,0.12859,0.01829,0.20363,1.50066\\nGhana,Sub-Saharan Africa,124,4.276,4.185,4.367,0.63107,0.49353,0.29681,0.40973,0.0326,0.21203,2.2002\\nCongo (Kinshasa),Sub-Saharan Africa,125,4.272,4.191,4.353,0.05661,0.80676,0.188,0.15602,0.06075,0.25458,2.74924\\nGeorgia,Central and Eastern Europe,126,4.252,4.164,4.34,0.83792,0.19249,0.64035,0.32461,0.3188,0.06786,1.87031\\nCongo (Brazzaville),Sub-Saharan Africa,127,4.236,4.107,4.365,0.77109,0.47799,0.28212,0.37938,0.09753,0.12077,2.10681\\nSenegal,Sub-Saharan Africa,128,4.219,4.151,4.287,0.44314,0.77416,0.40457,0.31056,0.11681,0.19103,1.97861\\nBulgaria,Central and Eastern Europe,129,4.217,4.104,4.33,1.11306,0.92542,0.67806,0.21219,0.00615,0.12793,1.15377\\nMauritania,Sub-Saharan Africa,130,4.201,4.127,4.275,0.61391,0.84142,0.28639,0.1268,0.17955,0.22686,1.9263\\nZimbabwe,Sub-Saharan Africa,131,4.193,4.101,4.285,0.35041,0.71478,0.1595,0.25429,0.08582,0.18503,2.4427\\nMalawi,Sub-Saharan Africa,132,4.156,4.041,4.271,0.08709,0.147,0.29364,0.4143,0.07564,0.30968,2.82859\\nSudan,Sub-Saharan Africa,133,4.139,3.928,4.35,0.63069,0.81928,0.29759,0,0.10039,0.18077,2.10995\\nGabon,Sub-Saharan Africa,134,4.121,4.03,4.212,1.15851,0.72368,0.3494,0.28098,0.09314,0.06244,1.45332\\nMali,Sub-Saharan Africa,135,4.073,3.988,4.158,0.31292,0.86333,0.16347,0.27544,0.13647,0.21064,2.11087\\nHaiti,Latin America and Caribbean,136,4.028,3.893,4.163,0.34097,0.29561,0.27494,0.12072,0.14476,0.47958,2.37116\\nBotswana,Sub-Saharan Africa,137,3.974,3.875,4.073,1.09426,0.89186,0.34752,0.44089,0.10769,0.12425,0.96741\\nComoros,Sub-Saharan Africa,138,3.956,3.86,4.052,0.27509,0.60323,0.29981,0.15412,0.18437,0.1827,2.25632\\nIvory Coast,Sub-Saharan Africa,139,3.916,3.826,4.006,0.55507,0.57576,0.04476,0.40663,0.1553,0.20338,1.97478\\nCambodia,Southeastern Asia,140,3.907,3.798,4.016,0.55604,0.5375,0.42494,0.58852,0.08092,0.40339,1.31573\\nAngola,Sub-Saharan Africa,141,3.866,3.753,3.979,0.84731,0.66366,0.04991,0.00589,0.08434,0.12071,2.09459\\nNiger,Sub-Saharan Africa,142,3.856,3.781,3.931,0.1327,0.6053,0.26162,0.38041,0.17176,0.2097,2.09469\\nSouth Sudan,Sub-Saharan Africa,143,3.832,3.596,4.068,0.39394,0.18519,0.15781,0.19662,0.13015,0.25899,2.50929\\nChad,Sub-Saharan Africa,144,3.763,3.672,3.854,0.42214,0.63178,0.03824,0.12807,0.04952,0.18667,2.30637\\nBurkina Faso,Sub-Saharan Africa,145,3.739,3.647,3.831,0.31995,0.63054,0.21297,0.3337,0.12533,0.24353,1.87319\\nUganda,Sub-Saharan Africa,145,3.739,3.629,3.849,0.34719,0.90981,0.19625,0.43653,0.06442,0.27102,1.51416\\nYemen,Middle East and Northern Africa,147,3.724,3.621,3.827,0.57939,0.47493,0.31048,0.2287,0.05892,0.09821,1.97295\\nMadagascar,Sub-Saharan Africa,148,3.695,3.621,3.769,0.27954,0.46115,0.37109,0.13684,0.07506,0.2204,2.15075\\nTanzania,Sub-Saharan Africa,149,3.666,3.561,3.771,0.47155,0.77623,0.357,0.3176,0.05099,0.31472,1.37769\\nLiberia,Sub-Saharan Africa,150,3.622,3.463,3.781,0.10706,0.50353,0.23165,0.25748,0.04852,0.24063,2.23284\\nGuinea,Sub-Saharan Africa,151,3.607,3.533,3.681,0.22415,0.3109,0.18829,0.30953,0.1192,0.29914,2.15604\\nRwanda,Sub-Saharan Africa,152,3.515,3.444,3.586,0.32846,0.61586,0.31865,0.5432,0.50521,0.23552,0.96819\\nBenin,Sub-Saharan Africa,153,3.484,3.404,3.564,0.39499,0.10419,0.21028,0.39747,0.06681,0.2018,2.10812\\nAfghanistan,Southern Asia,154,3.36,3.288,3.432,0.38227,0.11037,0.17344,0.1643,0.07112,0.31268,2.14558\\nTogo,Sub-Saharan Africa,155,3.303,3.192,3.414,0.28123,0,0.24811,0.34678,0.11587,0.17517,2.1354\\nSyria,Middle East and Northern Africa,156,3.069,2.936,3.202,0.74719,0.14866,0.62994,0.06912,0.17233,0.48397,0.81789\\nBurundi,Sub-Saharan Africa,157,2.905,2.732,3.078,0.06831,0.23442,0.15747,0.0432,0.09419,0.2029,2.10404\\n',\n",
              " '2017.csv': b'\"Country\",\"Happiness.Rank\",\"Happiness.Score\",\"Whisker.high\",\"Whisker.low\",\"Economy..GDP.per.Capita.\",\"Family\",\"Health..Life.Expectancy.\",\"Freedom\",\"Generosity\",\"Trust..Government.Corruption.\",\"Dystopia.Residual\"\\r\\n\"Norway\",1,7.53700017929077,7.59444482058287,7.47955553799868,1.61646318435669,1.53352355957031,0.796666502952576,0.635422587394714,0.36201223731041,0.315963834524155,2.27702665328979\\r\\n\"Denmark\",2,7.52199983596802,7.58172806486487,7.46227160707116,1.48238301277161,1.55112159252167,0.792565524578094,0.626006722450256,0.355280488729477,0.40077006816864,2.31370735168457\\r\\n\"Iceland\",3,7.50400018692017,7.62203047305346,7.38596990078688,1.480633020401,1.6105740070343,0.833552122116089,0.627162635326385,0.475540220737457,0.153526559472084,2.32271528244019\\r\\n\"Switzerland\",4,7.49399995803833,7.56177242040634,7.42622749567032,1.56497955322266,1.51691174507141,0.858131289482117,0.620070576667786,0.290549278259277,0.367007285356522,2.2767162322998\\r\\n\"Finland\",5,7.4689998626709,7.52754207581282,7.41045764952898,1.44357192516327,1.5402467250824,0.80915766954422,0.617950856685638,0.24548277258873,0.38261154294014,2.4301815032959\\r\\n\"Netherlands\",6,7.3769998550415,7.42742584124207,7.32657386884093,1.50394463539124,1.42893922328949,0.810696125030518,0.585384488105774,0.470489829778671,0.282661825418472,2.29480409622192\\r\\n\"Canada\",7,7.31599998474121,7.38440283536911,7.24759713411331,1.47920441627502,1.48134899139404,0.83455765247345,0.611100912094116,0.435539722442627,0.287371516227722,2.18726444244385\\r\\n\"New Zealand\",8,7.31400012969971,7.3795104418695,7.24848981752992,1.40570604801178,1.54819512367249,0.816759705543518,0.614062130451202,0.500005125999451,0.382816702127457,2.0464563369751\\r\\n\"Sweden\",9,7.28399991989136,7.34409487739205,7.22390496239066,1.49438726902008,1.47816216945648,0.830875158309937,0.612924098968506,0.385399252176285,0.384398728609085,2.09753799438477\\r\\n\"Australia\",10,7.28399991989136,7.35665122494102,7.2113486148417,1.484414935112,1.51004195213318,0.84388679265976,0.601607382297516,0.477699249982834,0.301183730363846,2.06521081924438\\r\\n\"Israel\",11,7.21299982070923,7.27985325649381,7.14614638492465,1.37538242340088,1.37628996372223,0.83840399980545,0.405988603830338,0.330082654953003,0.0852421000599861,2.80175733566284\\r\\n\"Costa Rica\",12,7.0789999961853,7.16811166629195,6.98988832607865,1.10970628261566,1.41640365123749,0.759509265422821,0.580131649971008,0.214613229036331,0.100106589496136,2.89863920211792\\r\\n\"Austria\",13,7.00600004196167,7.07066981211305,6.94133027181029,1.48709726333618,1.4599449634552,0.815328419208527,0.567766189575195,0.316472321748734,0.221060365438461,2.1385064125061\\r\\n\"United States\",14,6.99300003051758,7.07465674757957,6.91134331345558,1.54625928401947,1.41992056369781,0.77428662776947,0.505740523338318,0.392578780651093,0.135638788342476,2.2181134223938\\r\\n\"Ireland\",15,6.97700023651123,7.04335166752338,6.91064880549908,1.53570663928986,1.55823111534119,0.80978262424469,0.573110342025757,0.42785832285881,0.29838815331459,1.77386903762817\\r\\n\"Germany\",16,6.95100021362305,7.00538156926632,6.89661885797977,1.48792338371277,1.47252035140991,0.798950731754303,0.562511384487152,0.336269170045853,0.276731938123703,2.01576995849609\\r\\n\"Belgium\",17,6.89099979400635,6.95582075044513,6.82617883756757,1.46378076076508,1.46231269836426,0.818091869354248,0.539770722389221,0.231503337621689,0.251343131065369,2.12421035766602\\r\\n\"Luxembourg\",18,6.86299991607666,6.92368609987199,6.80231373228133,1.74194359779358,1.45758366584778,0.845089495182037,0.59662789106369,0.283180981874466,0.31883442401886,1.61951208114624\\r\\n\"United Kingdom\",19,6.71400022506714,6.78379176110029,6.64420868903399,1.44163393974304,1.49646008014679,0.805335938930511,0.508190035820007,0.492774158716202,0.265428066253662,1.70414352416992\\r\\n\"Chile\",20,6.65199995040894,6.73925056010485,6.56474934071302,1.25278460979462,1.28402495384216,0.819479703903198,0.376895278692245,0.326662421226501,0.0822879821062088,2.50958585739136\\r\\n\"United Arab Emirates\",21,6.64799976348877,6.72204730376601,6.57395222321153,1.62634336948395,1.26641023159027,0.726798236370087,0.60834527015686,0.3609419465065,0.324489563703537,1.734703540802\\r\\n\"Brazil\",22,6.63500022888184,6.72546950161457,6.5445309561491,1.10735321044922,1.43130600452423,0.616552352905273,0.437453746795654,0.16234989464283,0.111092761158943,2.76926708221436\\r\\n\"Czech Republic\",23,6.60900020599365,6.68386246263981,6.5341379493475,1.35268235206604,1.43388521671295,0.754444003105164,0.490946173667908,0.0881067588925362,0.0368729270994663,2.45186185836792\\r\\n\"Argentina\",24,6.59899997711182,6.69008508607745,6.50791486814618,1.18529546260834,1.44045114517212,0.695137083530426,0.494519203901291,0.109457060694695,0.059739887714386,2.61400532722473\\r\\n\"Mexico\",25,6.57800006866455,6.67114890769124,6.48485122963786,1.15318381786346,1.210862159729,0.709978997707367,0.412730008363724,0.120990432798862,0.132774114608765,2.83715486526489\\r\\n\"Singapore\",26,6.57200002670288,6.63672306910157,6.50727698430419,1.69227766990662,1.35381436347961,0.949492394924164,0.549840569496155,0.345965981483459,0.46430778503418,1.21636199951172\\r\\n\"Malta\",27,6.52699995040894,6.59839677289128,6.45560312792659,1.34327983856201,1.48841166496277,0.821944236755371,0.588767051696777,0.574730575084686,0.153066068887711,1.55686283111572\\r\\n\"Uruguay\",28,6.4539999961853,6.54590621769428,6.36209377467632,1.21755969524384,1.41222786903381,0.719216823577881,0.57939225435257,0.175096929073334,0.178061872720718,2.17240953445435\\r\\n\"Guatemala\",29,6.4539999961853,6.56687397271395,6.34112601965666,0.872001945972443,1.25558519363403,0.540239989757538,0.531310617923737,0.283488392829895,0.0772232785820961,2.89389109611511\\r\\n\"Panama\",30,6.4520001411438,6.55713071614504,6.34686956614256,1.23374843597412,1.37319254875183,0.706156134605408,0.550026834011078,0.21055693924427,0.070983923971653,2.30719995498657\\r\\n\"France\",31,6.44199991226196,6.51576780244708,6.36823202207685,1.43092346191406,1.38777685165405,0.844465851783752,0.470222115516663,0.129762306809425,0.172502428293228,2.00595474243164\\r\\n\"Thailand\",32,6.42399978637695,6.50911685571074,6.33888271704316,1.12786877155304,1.42579245567322,0.647239029407501,0.580200731754303,0.572123110294342,0.0316127352416515,2.03950834274292\\r\\n\"Taiwan Province of China\",33,6.42199993133545,6.49459602192044,6.34940384075046,1.43362653255463,1.38456535339355,0.793984234333038,0.361466586589813,0.258360475301743,0.0638292357325554,2.1266074180603\\r\\n\"Spain\",34,6.40299987792969,6.4710548453033,6.33494491055608,1.38439786434174,1.53209090232849,0.888960599899292,0.408781230449677,0.190133571624756,0.0709140971302986,1.92775774002075\\r\\n\"Qatar\",35,6.375,6.56847681432962,6.18152318567038,1.87076568603516,1.27429687976837,0.710098087787628,0.604130983352661,0.330473870038986,0.439299255609512,1.1454644203186\\r\\n\"Colombia\",36,6.35699987411499,6.45202005416155,6.26197969406843,1.07062232494354,1.4021829366684,0.595027923583984,0.477487415075302,0.149014472961426,0.0466687418520451,2.61606812477112\\r\\n\"Saudi Arabia\",37,6.3439998626709,6.44416661202908,6.24383311331272,1.53062355518341,1.28667759895325,0.590148329734802,0.449750572443008,0.147616013884544,0.27343225479126,2.0654296875\\r\\n\"Trinidad and Tobago\",38,6.16800022125244,6.38153389066458,5.95446655184031,1.36135590076447,1.3802285194397,0.519983291625977,0.518630743026733,0.325296461582184,0.00896481610834599,2.05324745178223\\r\\n\"Kuwait\",39,6.10500001907349,6.1919569888711,6.01804304927588,1.63295245170593,1.25969874858856,0.632105708122253,0.496337592601776,0.228289797902107,0.215159550309181,1.64042520523071\\r\\n\"Slovakia\",40,6.09800004959106,6.1773484121263,6.01865168705583,1.32539355754852,1.50505924224854,0.712732911109924,0.295817464590073,0.136544480919838,0.0242108516395092,2.09777665138245\\r\\n\"Bahrain\",41,6.08699989318848,6.17898906782269,5.99501071855426,1.48841226100922,1.32311046123505,0.653133034706116,0.536746919155121,0.172668486833572,0.257042169570923,1.65614938735962\\r\\n\"Malaysia\",42,6.08400011062622,6.17997963652015,5.98802058473229,1.29121541976929,1.28464603424072,0.618784427642822,0.402264982461929,0.416608929634094,0.0656007081270218,2.00444889068604\\r\\n\"Nicaragua\",43,6.07100009918213,6.18658360034227,5.95541659802198,0.737299203872681,1.28721570968628,0.653095960617065,0.447551846504211,0.301674216985703,0.130687981843948,2.51393055915833\\r\\n\"Ecuador\",44,6.00799989700317,6.10584767535329,5.91015211865306,1.00082039833069,1.28616881370544,0.685636222362518,0.4551981985569,0.150112465023994,0.140134647488594,2.29035258293152\\r\\n\"El Salvador\",45,6.00299978256226,6.108635122329,5.89736444279552,0.909784495830536,1.18212509155273,0.596018552780151,0.432452529668808,0.0782579854130745,0.0899809598922729,2.7145938873291\\r\\n\"Poland\",46,5.97300004959106,6.05390834122896,5.89209175795317,1.29178786277771,1.44571197032928,0.699475347995758,0.520342111587524,0.158465966582298,0.0593078061938286,1.79772281646729\\r\\n\"Uzbekistan\",47,5.97100019454956,6.06553757295012,5.876462816149,0.786441087722778,1.54896914958954,0.498272627592087,0.658248662948608,0.415983647108078,0.246528223156929,1.81691360473633\\r\\n\"Italy\",48,5.96400022506714,6.04273690596223,5.88526354417205,1.39506661891937,1.44492328166962,0.853144347667694,0.256450712680817,0.17278964817524,0.0280280914157629,1.81331205368042\\r\\n\"Russia\",49,5.96299982070923,6.03027490749955,5.89572473391891,1.28177809715271,1.46928238868713,0.547349333763123,0.373783111572266,0.0522638224065304,0.0329628810286522,2.20560741424561\\r\\n\"Belize\",50,5.95599985122681,6.19724231779575,5.71475738465786,0.907975316047668,1.08141779899597,0.450191766023636,0.547509372234344,0.240015640854836,0.0965810716152191,2.63195562362671\\r\\n\"Japan\",51,5.92000007629395,5.99071944460273,5.84928070798516,1.41691517829895,1.43633782863617,0.913475871086121,0.505625545978546,0.12057276815176,0.163760736584663,1.36322355270386\\r\\n\"Lithuania\",52,5.90199995040894,5.98266964137554,5.82133025944233,1.31458234786987,1.47351610660553,0.62894994020462,0.234231784939766,0.010164656676352,0.0118656428530812,2.22844052314758\\r\\n\"Algeria\",53,5.87200021743774,5.97828643366694,5.76571400120854,1.09186446666718,1.1462174654007,0.617584645748138,0.233335807919502,0.0694366469979286,0.146096110343933,2.56760382652283\\r\\n\"Latvia\",54,5.84999990463257,5.92026353821158,5.77973627105355,1.26074862480164,1.40471494197845,0.638566970825195,0.325707912445068,0.153074786067009,0.0738427266478539,1.99365520477295\\r\\n\"South Korea\",55,5.83799982070923,5.92255902826786,5.7534406131506,1.40167844295502,1.12827444076538,0.900214076042175,0.257921665906906,0.206674367189407,0.0632826685905457,1.88037800788879\\r\\n\"Moldova\",56,5.83799982070923,5.90837083846331,5.76762880295515,0.728870630264282,1.25182557106018,0.589465200901031,0.240729048848152,0.208779126405716,0.0100912861526012,2.80780839920044\\r\\n\"Romania\",57,5.82499980926514,5.91969415679574,5.73030546173453,1.21768391132355,1.15009129047394,0.685158312320709,0.457003742456436,0.133519917726517,0.00438790069893003,2.17683148384094\\r\\n\"Bolivia\",58,5.82299995422363,5.9039769025147,5.74202300593257,0.833756566047668,1.22761905193329,0.473630249500275,0.558732926845551,0.22556072473526,0.0604777261614799,2.44327902793884\\r\\n\"Turkmenistan\",59,5.82200002670288,5.88518087550998,5.75881917789578,1.13077676296234,1.49314916133881,0.437726080417633,0.41827192902565,0.24992498755455,0.259270340204239,1.83290982246399\\r\\n\"Kazakhstan\",60,5.81899976730347,5.90364177465439,5.73435775995255,1.28455626964569,1.38436901569366,0.606041550636292,0.437454283237457,0.201964423060417,0.119282886385918,1.78489255905151\\r\\n\"North Cyprus\",61,5.80999994277954,5.89736646488309,5.72263342067599,1.3469113111496,1.18630337715149,0.834647238254547,0.471203625202179,0.266845703125,0.155353352427483,1.54915761947632\\r\\n\"Slovenia\",62,5.75799989700317,5.84222516000271,5.67377463400364,1.3412059545517,1.45251882076263,0.790828227996826,0.572575807571411,0.242649093270302,0.0451289787888527,1.31331729888916\\r\\n\"Peru\",63,5.71500015258789,5.81194677859545,5.61805352658033,1.03522527217865,1.21877038478851,0.630166113376617,0.450002878904343,0.126819714903831,0.0470490865409374,2.20726943016052\\r\\n\"Mauritius\",64,5.62900018692017,5.72986219167709,5.52813818216324,1.18939554691315,1.20956099033356,0.638007462024689,0.491247326135635,0.360933750867844,0.0421815551817417,1.6975839138031\\r\\n\"Cyprus\",65,5.62099981307983,5.71469269931316,5.5273069268465,1.35593807697296,1.13136327266693,0.84471470117569,0.355111539363861,0.271254301071167,0.0412379764020443,1.62124919891357\\r\\n\"Estonia\",66,5.61100006103516,5.68813987419009,5.53386024788022,1.32087934017181,1.47667109966278,0.695168316364288,0.479131430387497,0.0988908112049103,0.183248922228813,1.35750865936279\\r\\n\"Belarus\",67,5.56899976730347,5.64611424401402,5.49188529059291,1.15655755996704,1.44494521617889,0.637714266777039,0.295400261878967,0.15513750910759,0.156313821673393,1.72323298454285\\r\\n\"Libya\",68,5.52500009536743,5.67695380687714,5.37304638385773,1.10180306434631,1.35756433010101,0.520169019699097,0.465733230113983,0.152073666453362,0.0926102101802826,1.83501124382019\\r\\n\"Turkey\",69,5.5,5.59486496329308,5.40513503670692,1.19827437400818,1.33775317668915,0.637605607509613,0.300740599632263,0.0466930419206619,0.0996715798974037,1.87927794456482\\r\\n\"Paraguay\",70,5.49300003051758,5.57738126963377,5.40861879140139,0.932537317276001,1.50728487968445,0.579250693321228,0.473507791757584,0.224150657653809,0.091065913438797,1.6853334903717\\r\\n\"Hong Kong S.A.R., China\",71,5.47200012207031,5.54959417313337,5.39440607100725,1.55167484283447,1.26279091835022,0.943062424659729,0.490968644618988,0.374465793371201,0.293933749198914,0.554633140563965\\r\\n\"Philippines\",72,5.42999982833862,5.54533505424857,5.31466460242867,0.85769921541214,1.25391757488251,0.468009054660797,0.585214674472809,0.193513423204422,0.0993318930268288,1.97260475158691\\r\\n\"Serbia\",73,5.39499998092651,5.49156965613365,5.29843030571938,1.06931757926941,1.25818979740143,0.65078467130661,0.208715528249741,0.220125883817673,0.0409037806093693,1.94708442687988\\r\\n\"Jordan\",74,5.33599996566772,5.44841002240777,5.22358990892768,0.991012394428253,1.23908889293671,0.604590058326721,0.418421149253845,0.172170460224152,0.11980327218771,1.79117655754089\\r\\n\"Hungary\",75,5.32399988174438,5.40303970918059,5.24496005430818,1.2860119342804,1.34313309192657,0.687763452529907,0.175863519310951,0.0784016624093056,0.0366369374096394,1.71645927429199\\r\\n\"Jamaica\",76,5.31099987030029,5.58139872848988,5.04060101211071,0.925579309463501,1.36821806430817,0.641022384166718,0.474307239055634,0.233818337321281,0.0552677810192108,1.61232566833496\\r\\n\"Croatia\",77,5.29300022125244,5.39177720457315,5.19422323793173,1.22255623340607,0.96798300743103,0.701288521289825,0.255772292613983,0.248002976179123,0.0431031100451946,1.85449242591858\\r\\n\"Kosovo\",78,5.27899980545044,5.36484799548984,5.19315161541104,0.951484382152557,1.13785350322723,0.541452050209045,0.260287940502167,0.319931447505951,0.0574716180562973,2.01054072380066\\r\\n\"China\",79,5.27299976348877,5.31927808977663,5.2267214372009,1.08116579055786,1.16083741188049,0.741415500640869,0.472787708044052,0.0288068410009146,0.0227942746132612,1.76493859291077\\r\\n\"Pakistan\",80,5.26900005340576,5.35998364135623,5.17801646545529,0.72688353061676,0.672690689563751,0.402047783136368,0.23521526157856,0.315446019172668,0.124348066747189,2.79248929023743\\r\\n\"Indonesia\",81,5.26200008392334,5.35288859814405,5.17111156970263,0.995538592338562,1.27444469928741,0.492345720529556,0.443323463201523,0.611704587936401,0.0153171354904771,1.42947697639465\\r\\n\"Venezuela\",82,5.25,5.3700319455564,5.1299680544436,1.12843120098114,1.43133759498596,0.617144227027893,0.153997123241425,0.0650196298956871,0.0644911229610443,1.78946375846863\\r\\n\"Montenegro\",83,5.23699998855591,5.34104444056749,5.13295553654432,1.12112903594971,1.23837649822235,0.667464673519135,0.194989055395126,0.197911024093628,0.0881741940975189,1.72919154167175\\r\\n\"Morocco\",84,5.2350001335144,5.31834096476436,5.15165930226445,0.878114581108093,0.774864435195923,0.59771066904068,0.408158332109451,0.0322099551558495,0.0877631828188896,2.45618939399719\\r\\n\"Azerbaijan\",85,5.23400020599365,5.29928653523326,5.16871387675405,1.15360176563263,1.15240025520325,0.540775775909424,0.398155838251114,0.0452693402767181,0.180987507104874,1.76248168945312\\r\\n\"Dominican Republic\",86,5.23000001907349,5.34906088516116,5.11093915298581,1.07937383651733,1.40241670608521,0.574873745441437,0.55258983373642,0.186967849731445,0.113945253193378,1.31946516036987\\r\\n\"Greece\",87,5.22700023651123,5.3252461694181,5.12875430360436,1.28948748111725,1.23941457271576,0.810198903083801,0.0957312509417534,0,0.04328977689147,1.74922156333923\\r\\n\"Lebanon\",88,5.22499990463257,5.31888228848577,5.13111752077937,1.07498753070831,1.12962424755096,0.735081076622009,0.288515985012054,0.264450758695602,0.037513829767704,1.69507384300232\\r\\n\"Portugal\",89,5.19500017166138,5.28504173308611,5.10495861023665,1.3151752948761,1.36704301834106,0.795843541622162,0.498465299606323,0.0951027125120163,0.0158694516867399,1.10768270492554\\r\\n\"Bosnia and Herzegovina\",90,5.18200016021729,5.27633568674326,5.08766463369131,0.982409417629242,1.0693359375,0.705186307430267,0.204403176903725,0.328867495059967,0,1.89217257499695\\r\\n\"Honduras\",91,5.18100023269653,5.30158279687166,5.0604176685214,0.730573117733002,1.14394497871399,0.582569479942322,0.348079860210419,0.236188873648643,0.0733454525470734,2.06581115722656\\r\\n\"Macedonia\",92,5.17500019073486,5.27217263966799,5.07782774180174,1.06457793712616,1.20789301395416,0.644948184490204,0.325905978679657,0.25376096367836,0.0602777935564518,1.6174693107605\\r\\n\"Somalia\",93,5.15100002288818,5.24248370990157,5.0595163358748,0.0226431842893362,0.721151351928711,0.113989137113094,0.602126955986023,0.291631311178207,0.282410323619843,3.11748456954956\\r\\n\"Vietnam\",94,5.07399988174438,5.14728076457977,5.000718998909,0.788547575473785,1.27749133110046,0.652168989181519,0.571055591106415,0.234968051314354,0.0876332372426987,1.46231865882874\\r\\n\"Nigeria\",95,5.07399988174438,5.20950013548136,4.93849962800741,0.783756256103516,1.21577048301697,0.0569157302379608,0.394952565431595,0.230947196483612,0.0261215660721064,2.36539053916931\\r\\n\"Tajikistan\",96,5.04099988937378,5.11142559587956,4.970574182868,0.524713635444641,1.27146327495575,0.529235124588013,0.471566706895828,0.248997643589973,0.146377146244049,1.84904932975769\\r\\n\"Bhutan\",97,5.01100015640259,5.07933456212282,4.94266575068235,0.885416388511658,1.34012651443481,0.495879292488098,0.501537680625916,0.474054545164108,0.173380389809608,1.14018440246582\\r\\n\"Kyrgyzstan\",98,5.00400018692017,5.08991990312934,4.91808047071099,0.596220076084137,1.39423859119415,0.553457796573639,0.454943388700485,0.42858037352562,0.0394391790032387,1.53672313690186\\r\\n\"Nepal\",99,4.96199989318848,5.06735607936978,4.85664370700717,0.479820191860199,1.17928326129913,0.504130780696869,0.440305948257446,0.394096165895462,0.0729755461215973,1.8912410736084\\r\\n\"Mongolia\",100,4.95499992370605,5.0216795091331,4.88832033827901,1.02723586559296,1.4930112361908,0.557783484458923,0.394143968820572,0.338464230298996,0.0329022891819477,1.11129236221313\\r\\n\"South Africa\",101,4.8289999961853,4.92943518772721,4.72856480464339,1.05469870567322,1.38478863239288,0.187080070376396,0.479246735572815,0.139362379908562,0.0725094974040985,1.51090860366821\\r\\n\"Tunisia\",102,4.80499982833862,4.88436700701714,4.72563264966011,1.00726580619812,0.868351459503174,0.613212049007416,0.289680689573288,0.0496933571994305,0.0867231488227844,1.89025115966797\\r\\n\"Palestinian Territories\",103,4.77500009536743,4.88184834256768,4.66815184816718,0.716249227523804,1.15564715862274,0.565666973590851,0.25471106171608,0.114173173904419,0.0892826020717621,1.8788902759552\\r\\n\"Egypt\",104,4.7350001335144,4.82513378962874,4.64486647740006,0.989701807498932,0.997471392154694,0.520187258720398,0.282110154628754,0.128631442785263,0.114381365478039,1.70216107368469\\r\\n\"Bulgaria\",105,4.71400022506714,4.80369470641017,4.62430574372411,1.1614590883255,1.43437945842743,0.708217680454254,0.289231717586517,0.113177694380283,0.0110515309497714,0.996139287948608\\r\\n\"Sierra Leone\",106,4.70900011062622,4.85064333498478,4.56735688626766,0.36842092871666,0.984136044979095,0.00556475389748812,0.318697690963745,0.293040901422501,0.0710951760411263,2.66845989227295\\r\\n\"Cameroon\",107,4.69500017166138,4.79654085725546,4.5934594860673,0.564305365085602,0.946018218994141,0.132892116904259,0.430388748645782,0.236298456788063,0.0513066314160824,2.3336455821991\\r\\n\"Iran\",108,4.69199991226196,4.79822470769286,4.58577511683106,1.15687310695648,0.711551249027252,0.639333188533783,0.249322608113289,0.387242913246155,0.048761073499918,1.49873495101929\\r\\n\"Albania\",109,4.64400005340576,4.75246400639415,4.53553610041738,0.996192753314972,0.803685247898102,0.731159746646881,0.381498634815216,0.201312944293022,0.0398642159998417,1.49044156074524\\r\\n\"Bangladesh\",110,4.60799980163574,4.68982165828347,4.52617794498801,0.586682975292206,0.735131740570068,0.533241033554077,0.478356659412384,0.172255352139473,0.123717859387398,1.97873616218567\\r\\n\"Namibia\",111,4.57399988174438,4.77035474091768,4.37764502257109,0.964434325695038,1.0984708070755,0.33861181139946,0.520303547382355,0.0771337449550629,0.0931469723582268,1.4818902015686\\r\\n\"Kenya\",112,4.55299997329712,4.65569159060717,4.45030835598707,0.560479462146759,1.06795072555542,0.309988349676132,0.452763766050339,0.444860309362411,0.0646413192152977,1.6519021987915\\r\\n\"Mozambique\",113,4.55000019073486,4.77410232633352,4.3258980551362,0.234305649995804,0.870701014995575,0.106654435396194,0.480791091918945,0.322228103876114,0.179436385631561,2.35565090179443\\r\\n\"Myanmar\",114,4.54500007629395,4.61473994642496,4.47526020616293,0.367110550403595,1.12323594093323,0.397522568702698,0.514492034912109,0.838075160980225,0.188816204667091,1.11529040336609\\r\\n\"Senegal\",115,4.53499984741211,4.6016037812829,4.46839591354132,0.479309022426605,1.17969191074371,0.409362852573395,0.377922266721725,0.183468893170357,0.115460447967052,1.78964614868164\\r\\n\"Zambia\",116,4.51399993896484,4.64410550147295,4.38389437645674,0.636406779289246,1.00318729877472,0.257835894823074,0.461603492498398,0.249580144882202,0.0782135501503944,1.82670545578003\\r\\n\"Iraq\",117,4.49700021743774,4.62259140968323,4.37140902519226,1.10271048545837,0.978613197803497,0.501180469989777,0.288555532693863,0.19963726401329,0.107215754687786,1.31890726089478\\r\\n\"Gabon\",118,4.46500015258789,4.5573617656529,4.37263853952289,1.1982102394104,1.1556202173233,0.356578588485718,0.312328577041626,0.0437853783369064,0.0760467872023582,1.32291626930237\\r\\n\"Ethiopia\",119,4.46000003814697,4.54272867664695,4.377271399647,0.339233845472336,0.86466920375824,0.353409707546234,0.408842742443085,0.312650740146637,0.165455713868141,2.01574373245239\\r\\n\"Sri Lanka\",120,4.44000005722046,4.55344719231129,4.32655292212963,1.00985014438629,1.25997638702393,0.625130832195282,0.561213254928589,0.490863561630249,0.0736539661884308,0.419389247894287\\r\\n\"Armenia\",121,4.37599992752075,4.46673461228609,4.28526524275541,0.900596737861633,1.00748372077942,0.637524425983429,0.198303267359734,0.0834880918264389,0.0266744215041399,1.5214991569519\\r\\n\"India\",122,4.31500005722046,4.37152201749384,4.25847809694707,0.792221248149872,0.754372596740723,0.455427616834641,0.469987004995346,0.231538489460945,0.0922268852591515,1.5191171169281\\r\\n\"Mauritania\",123,4.29199981689453,4.37716361626983,4.20683601751924,0.648457288742065,1.2720308303833,0.285349279642105,0.0960980430245399,0.201870024204254,0.136957004666328,1.65163731575012\\r\\n\"Congo (Brazzaville)\",124,4.29099988937378,4.41005350500345,4.17194627374411,0.808964252471924,0.832044363021851,0.28995743393898,0.435025870800018,0.120852127671242,0.0796181336045265,1.72413563728333\\r\\n\"Georgia\",125,4.28599977493286,4.37493396580219,4.19706558406353,0.950612664222717,0.57061493396759,0.649546980857849,0.309410035610199,0.0540088154375553,0.251666635274887,1.50013780593872\\r\\n\"Congo (Kinshasa)\",126,4.28000020980835,4.35781083270907,4.20218958690763,0.0921023488044739,1.22902345657349,0.191407024860382,0.235961347818375,0.246455833315849,0.0602413564920425,2.22495865821838\\r\\n\"Mali\",127,4.19000005722046,4.26967071101069,4.11032940343022,0.476180493831635,1.28147339820862,0.169365674257278,0.306613743305206,0.183354198932648,0.104970246553421,1.66819095611572\\r\\n\"Ivory Coast\",128,4.17999982833862,4.27518256321549,4.08481709346175,0.603048920631409,0.904780030250549,0.0486421696841717,0.447706192731857,0.201237469911575,0.130061775445938,1.84496426582336\\r\\n\"Cambodia\",129,4.16800022125244,4.27851781353354,4.05748262897134,0.601765096187592,1.00623834133148,0.429783403873444,0.633375823497772,0.385922968387604,0.0681059509515762,1.04294109344482\\r\\n\"Sudan\",130,4.13899993896484,4.34574716508389,3.9322527128458,0.65951669216156,1.21400856971741,0.290920823812485,0.0149958552792668,0.182317450642586,0.089847519993782,1.68706583976746\\r\\n\"Ghana\",131,4.11999988555908,4.22270720854402,4.01729256257415,0.667224824428558,0.873664736747742,0.295637726783752,0.423026293516159,0.256923943758011,0.0253363698720932,1.57786750793457\\r\\n\"Ukraine\",132,4.09600019454956,4.18541010454297,4.00659028455615,0.89465194940567,1.39453756809235,0.575903952121735,0.122974775731564,0.270061463117599,0.0230294708162546,0.814382314682007\\r\\n\"Uganda\",133,4.08099985122681,4.19579996705055,3.96619973540306,0.381430715322495,1.12982773780823,0.217632606625557,0.443185955286026,0.325766056776047,0.057069718837738,1.526362657547\\r\\n\"Burkina Faso\",134,4.03200006484985,4.12405906438828,3.93994106531143,0.3502277135849,1.04328000545502,0.215844258666039,0.324367851018906,0.250864684581757,0.120328105986118,1.72721290588379\\r\\n\"Niger\",135,4.02799987792969,4.11194681972265,3.94405293613672,0.161925330758095,0.993025004863739,0.26850500702858,0.36365869641304,0.228673845529556,0.138572946190834,1.87398338317871\\r\\n\"Malawi\",136,3.97000002861023,4.07747881740332,3.86252123981714,0.233442038297653,0.512568831443787,0.315089583396912,0.466914653778076,0.287170469760895,0.0727116540074348,2.08178615570068\\r\\n\"Chad\",137,3.93600010871887,4.0347115239501,3.83728869348764,0.438012987375259,0.953855872154236,0.0411347150802612,0.16234202682972,0.216113850474358,0.0535818822681904,2.07123804092407\\r\\n\"Zimbabwe\",138,3.875,3.97869964271784,3.77130035728216,0.375846534967422,1.08309590816498,0.196763753890991,0.336384207010269,0.189143493771553,0.0953753814101219,1.59797024726868\\r\\n\"Lesotho\",139,3.80800008773804,4.04434397548437,3.5716561999917,0.521021246910095,1.19009518623352,0,0.390661299228668,0.157497271895409,0.119094640016556,1.42983531951904\\r\\n\"Angola\",140,3.79500007629395,3.95164193540812,3.63835821717978,0.858428180217743,1.10441195964813,0.0498686656355858,0,0.097926490008831,0.0697203353047371,1.61448240280151\\r\\n\"Afghanistan\",141,3.79399991035461,3.87366141527891,3.71433840543032,0.401477217674255,0.581543326377869,0.180746778845787,0.106179520487785,0.311870932579041,0.0611578300595284,2.15080118179321\\r\\n\"Botswana\",142,3.76600003242493,3.87412266626954,3.65787739858031,1.12209415435791,1.22155499458313,0.341755509376526,0.505196332931519,0.0993484482169151,0.0985831990838051,0.3779137134552\\r\\n\"Benin\",143,3.65700006484985,3.74578355133533,3.56821657836437,0.431085407733917,0.435299843549728,0.209930211305618,0.425962775945663,0.207948461174965,0.0609290152788162,1.88563096523285\\r\\n\"Madagascar\",144,3.64400005340576,3.71431910589337,3.57368100091815,0.305808693170547,0.913020372390747,0.375223308801651,0.189196765422821,0.208732530474663,0.0672319754958153,1.58461260795593\\r\\n\"Haiti\",145,3.6029999256134,3.73471479773521,3.47128505349159,0.368610262870789,0.640449821949005,0.277321130037308,0.0303698573261499,0.489203780889511,0.0998721495270729,1.69716763496399\\r\\n\"Yemen\",146,3.59299993515015,3.69275031983852,3.49324955046177,0.591683447360992,0.93538224697113,0.310080915689468,0.249463722109795,0.104125209152699,0.0567674227058887,1.34560060501099\\r\\n\"South Sudan\",147,3.59100008010864,3.72553858578205,3.45646157443523,0.39724862575531,0.601323127746582,0.163486003875732,0.147062435746193,0.285670816898346,0.116793513298035,1.87956738471985\\r\\n\"Liberia\",148,3.53299999237061,3.65375626087189,3.41224372386932,0.119041793048382,0.872117936611176,0.229918196797371,0.332881182432175,0.26654988527298,0.0389482490718365,1.67328596115112\\r\\n\"Guinea\",149,3.50699996948242,3.58442812889814,3.4295718100667,0.244549930095673,0.791244685649872,0.194129139184952,0.348587512969971,0.264815092086792,0.110937617719173,1.55231189727783\\r\\n\"Togo\",150,3.49499988555908,3.59403811171651,3.39596165940166,0.305444717407227,0.431882530450821,0.247105568647385,0.38042613863945,0.196896150708199,0.0956650152802467,1.83722925186157\\r\\n\"Rwanda\",151,3.47099995613098,3.54303023353219,3.39896967872977,0.368745893239975,0.945707023143768,0.326424807310104,0.581843852996826,0.252756029367447,0.455220013856888,0.540061235427856\\r\\n\"Syria\",152,3.46199989318848,3.66366855680943,3.26033122956753,0.777153134346008,0.396102607250214,0.50053334236145,0.0815394446253777,0.493663728237152,0.151347130537033,1.06157350540161\\r\\n\"Tanzania\",153,3.34899997711182,3.46142975538969,3.23657019883394,0.511135876178741,1.04198980331421,0.364509284496307,0.390017777681351,0.354256361722946,0.0660351067781448,0.621130466461182\\r\\n\"Burundi\",154,2.90499997138977,3.07469033300877,2.73530960977077,0.091622568666935,0.629793584346771,0.151610791683197,0.0599007532000542,0.204435184597969,0.0841479450464249,1.68302416801453\\r\\n\"Central African Republic\",155,2.69300007820129,2.86488426923752,2.52111588716507,0,0,0.0187726859003305,0.270842045545578,0.280876487493515,0.0565650761127472,2.06600475311279\\r\\n',\n",
              " '2018.csv': b'Overall rank,Country or region,Score,GDP per capita,Social support,Healthy life expectancy,Freedom to make life choices,Generosity,Perceptions of corruption\\r\\n1,Finland,7.632,1.305,1.592,0.874,0.681,0.202,0.393\\r\\n2,Norway,7.594,1.456,1.582,0.861,0.686,0.286,0.340\\r\\n3,Denmark,7.555,1.351,1.590,0.868,0.683,0.284,0.408\\r\\n4,Iceland,7.495,1.343,1.644,0.914,0.677,0.353,0.138\\r\\n5,Switzerland,7.487,1.420,1.549,0.927,0.660,0.256,0.357\\r\\n6,Netherlands,7.441,1.361,1.488,0.878,0.638,0.333,0.295\\r\\n7,Canada,7.328,1.330,1.532,0.896,0.653,0.321,0.291\\r\\n8,New Zealand,7.324,1.268,1.601,0.876,0.669,0.365,0.389\\r\\n9,Sweden,7.314,1.355,1.501,0.913,0.659,0.285,0.383\\r\\n10,Australia,7.272,1.340,1.573,0.910,0.647,0.361,0.302\\r\\n11,United Kingdom,7.190,1.244,1.433,0.888,0.464,0.262,0.082\\r\\n12,Austria,7.139,1.341,1.504,0.891,0.617,0.242,0.224\\r\\n13,Costa Rica,7.072,1.010,1.459,0.817,0.632,0.143,0.101\\r\\n14,Ireland,6.977,1.448,1.583,0.876,0.614,0.307,0.306\\r\\n15,Germany,6.965,1.340,1.474,0.861,0.586,0.273,0.280\\r\\n16,Belgium,6.927,1.324,1.483,0.894,0.583,0.188,0.240\\r\\n17,Luxembourg,6.910,1.576,1.520,0.896,0.632,0.196,0.321\\r\\n18,United States,6.886,1.398,1.471,0.819,0.547,0.291,0.133\\r\\n19,Israel,6.814,1.301,1.559,0.883,0.533,0.354,0.272\\r\\n20,United Arab Emirates,6.774,2.096,0.776,0.670,0.284,0.186,N/A\\r\\n21,Czech Republic,6.711,1.233,1.489,0.854,0.543,0.064,0.034\\r\\n22,Malta,6.627,1.270,1.525,0.884,0.645,0.376,0.142\\r\\n23,France,6.489,1.293,1.466,0.908,0.520,0.098,0.176\\r\\n24,Mexico,6.488,1.038,1.252,0.761,0.479,0.069,0.095\\r\\n25,Chile,6.476,1.131,1.331,0.808,0.431,0.197,0.061\\r\\n26,Taiwan,6.441,1.365,1.436,0.857,0.418,0.151,0.078\\r\\n27,Panama,6.430,1.112,1.438,0.759,0.597,0.125,0.063\\r\\n28,Brazil,6.419,0.986,1.474,0.675,0.493,0.110,0.088\\r\\n29,Argentina,6.388,1.073,1.468,0.744,0.570,0.062,0.054\\r\\n30,Guatemala,6.382,0.781,1.268,0.608,0.604,0.179,0.071\\r\\n31,Uruguay,6.379,1.093,1.459,0.771,0.625,0.130,0.155\\r\\n32,Qatar,6.374,1.649,1.303,0.748,0.654,0.256,0.171\\r\\n33,Saudi Arabia,6.371,1.379,1.331,0.633,0.509,0.098,0.127\\r\\n34,Singapore,6.343,1.529,1.451,1.008,0.631,0.261,0.457\\r\\n35,Malaysia,6.322,1.161,1.258,0.669,0.356,0.311,0.059\\r\\n36,Spain,6.310,1.251,1.538,0.965,0.449,0.142,0.074\\r\\n37,Colombia,6.260,0.960,1.439,0.635,0.531,0.099,0.039\\r\\n38,Trinidad & Tobago,6.192,1.223,1.492,0.564,0.575,0.171,0.019\\r\\n39,Slovakia,6.173,1.210,1.537,0.776,0.354,0.118,0.014\\r\\n40,El Salvador,6.167,0.806,1.231,0.639,0.461,0.065,0.082\\r\\n41,Nicaragua,6.141,0.668,1.319,0.700,0.527,0.208,0.128\\r\\n42,Poland,6.123,1.176,1.448,0.781,0.546,0.108,0.064\\r\\n43,Bahrain,6.105,1.338,1.366,0.698,0.594,0.243,0.123\\r\\n44,Uzbekistan,6.096,0.719,1.584,0.605,0.724,0.328,0.259\\r\\n45,Kuwait,6.083,1.474,1.301,0.675,0.554,0.167,0.106\\r\\n46,Thailand,6.072,1.016,1.417,0.707,0.637,0.364,0.029\\r\\n47,Italy,6.000,1.264,1.501,0.946,0.281,0.137,0.028\\r\\n48,Ecuador,5.973,0.889,1.330,0.736,0.556,0.114,0.120\\r\\n49,Belize,5.956,0.807,1.101,0.474,0.593,0.183,0.089\\r\\n50,Lithuania,5.952,1.197,1.527,0.716,0.350,0.026,0.006\\r\\n51,Slovenia,5.948,1.219,1.506,0.856,0.633,0.160,0.051\\r\\n52,Romania,5.945,1.116,1.219,0.726,0.528,0.088,0.001\\r\\n53,Latvia,5.933,1.148,1.454,0.671,0.363,0.092,0.066\\r\\n54,Japan,5.915,1.294,1.462,0.988,0.553,0.079,0.150\\r\\n55,Mauritius,5.891,1.090,1.387,0.684,0.584,0.245,0.050\\r\\n56,Jamaica,5.890,0.819,1.493,0.693,0.575,0.096,0.031\\r\\n57,South Korea,5.875,1.266,1.204,0.955,0.244,0.175,0.051\\r\\n58,Northern Cyprus,5.835,1.229,1.211,0.909,0.495,0.179,0.154\\r\\n59,Russia,5.810,1.151,1.479,0.599,0.399,0.065,0.025\\r\\n60,Kazakhstan,5.790,1.143,1.516,0.631,0.454,0.148,0.121\\r\\n61,Cyprus,5.762,1.229,1.191,0.909,0.423,0.202,0.035\\r\\n62,Bolivia,5.752,0.751,1.223,0.508,0.606,0.141,0.054\\r\\n63,Estonia,5.739,1.200,1.532,0.737,0.553,0.086,0.174\\r\\n64,Paraguay,5.681,0.835,1.522,0.615,0.541,0.162,0.074\\r\\n65,Peru,5.663,0.934,1.249,0.674,0.530,0.092,0.034\\r\\n66,Kosovo,5.662,0.855,1.230,0.578,0.448,0.274,0.023\\r\\n67,Moldova,5.640,0.657,1.301,0.620,0.232,0.171,0.000\\r\\n68,Turkmenistan,5.636,1.016,1.533,0.517,0.417,0.199,0.037\\r\\n69,Hungary,5.620,1.171,1.401,0.732,0.259,0.061,0.022\\r\\n70,Libya,5.566,0.985,1.350,0.553,0.496,0.116,0.148\\r\\n71,Philippines,5.524,0.775,1.312,0.513,0.643,0.120,0.105\\r\\n72,Honduras,5.504,0.620,1.205,0.622,0.459,0.197,0.074\\r\\n73,Belarus,5.483,1.039,1.498,0.700,0.307,0.101,0.154\\r\\n74,Turkey,5.483,1.148,1.380,0.686,0.324,0.106,0.109\\r\\n75,Pakistan,5.472,0.652,0.810,0.424,0.334,0.216,0.113\\r\\n76,Hong Kong,5.430,1.405,1.290,1.030,0.524,0.246,0.291\\r\\n77,Portugal,5.410,1.188,1.429,0.884,0.562,0.055,0.017\\r\\n78,Serbia,5.398,0.975,1.369,0.685,0.288,0.134,0.043\\r\\n79,Greece,5.358,1.154,1.202,0.879,0.131,0.000,0.044\\r\\n80,Lebanon,5.358,0.965,1.179,0.785,0.503,0.214,0.136\\r\\n81,Montenegro,5.347,1.017,1.279,0.729,0.259,0.111,0.081\\r\\n82,Croatia,5.321,1.115,1.161,0.737,0.380,0.120,0.039\\r\\n83,Dominican Republic,5.302,0.982,1.441,0.614,0.578,0.120,0.106\\r\\n84,Algeria,5.295,0.979,1.154,0.687,0.077,0.055,0.135\\r\\n85,Morocco,5.254,0.779,0.797,0.669,0.460,0.026,0.074\\r\\n86,China,5.246,0.989,1.142,0.799,0.597,0.029,0.103\\r\\n87,Azerbaijan,5.201,1.024,1.161,0.603,0.430,0.031,0.176\\r\\n88,Tajikistan,5.199,0.474,1.166,0.598,0.292,0.187,0.034\\r\\n89,Macedonia,5.185,0.959,1.239,0.691,0.394,0.173,0.052\\r\\n90,Jordan,5.161,0.822,1.265,0.645,0.468,0.130,0.134\\r\\n91,Nigeria,5.155,0.689,1.172,0.048,0.462,0.201,0.032\\r\\n92,Kyrgyzstan,5.131,0.530,1.416,0.594,0.540,0.281,0.035\\r\\n93,Bosnia and Herzegovina,5.129,0.915,1.078,0.758,0.280,0.216,0.000\\r\\n94,Mongolia,5.125,0.914,1.517,0.575,0.395,0.253,0.032\\r\\n95,Vietnam,5.103,0.715,1.365,0.702,0.618,0.177,0.079\\r\\n96,Indonesia,5.093,0.899,1.215,0.522,0.538,0.484,0.018\\r\\n97,Bhutan,5.082,0.796,1.335,0.527,0.541,0.364,0.171\\r\\n98,Somalia,4.982,0.000,0.712,0.115,0.674,0.238,0.282\\r\\n99,Cameroon,4.975,0.535,0.891,0.182,0.454,0.183,0.043\\r\\n100,Bulgaria,4.933,1.054,1.515,0.712,0.359,0.064,0.009\\r\\n101,Nepal,4.880,0.425,1.228,0.539,0.526,0.302,0.078\\r\\n102,Venezuela,4.806,0.996,1.469,0.657,0.133,0.056,0.052\\r\\n103,Gabon,4.758,1.036,1.164,0.404,0.356,0.032,0.052\\r\\n104,Palestinian Territories,4.743,0.642,1.217,0.602,0.266,0.086,0.076\\r\\n105,South Africa,4.724,0.940,1.410,0.330,0.516,0.103,0.056\\r\\n106,Iran,4.707,1.059,0.771,0.691,0.459,0.282,0.129\\r\\n107,Ivory Coast,4.671,0.541,0.872,0.080,0.467,0.146,0.103\\r\\n108,Ghana,4.657,0.592,0.896,0.337,0.499,0.212,0.029\\r\\n109,Senegal,4.631,0.429,1.117,0.433,0.406,0.138,0.082\\r\\n110,Laos,4.623,0.720,1.034,0.441,0.626,0.230,0.174\\r\\n111,Tunisia,4.592,0.900,0.906,0.690,0.271,0.040,0.063\\r\\n112,Albania,4.586,0.916,0.817,0.790,0.419,0.149,0.032\\r\\n113,Sierra Leone,4.571,0.256,0.813,0.000,0.355,0.238,0.053\\r\\n114,Congo (Brazzaville),4.559,0.682,0.811,0.343,0.514,0.091,0.077\\r\\n115,Bangladesh,4.500,0.532,0.850,0.579,0.580,0.153,0.144\\r\\n116,Sri Lanka,4.471,0.918,1.314,0.672,0.585,0.307,0.050\\r\\n117,Iraq,4.456,1.010,0.971,0.536,0.304,0.148,0.095\\r\\n118,Mali,4.447,0.370,1.233,0.152,0.367,0.139,0.056\\r\\n119,Namibia,4.441,0.874,1.281,0.365,0.519,0.051,0.064\\r\\n120,Cambodia,4.433,0.549,1.088,0.457,0.696,0.256,0.065\\r\\n121,Burkina Faso,4.424,0.314,1.097,0.254,0.312,0.175,0.128\\r\\n122,Egypt,4.419,0.885,1.025,0.553,0.312,0.092,0.107\\r\\n123,Mozambique,4.417,0.198,0.902,0.173,0.531,0.206,0.158\\r\\n124,Kenya,4.410,0.493,1.048,0.454,0.504,0.352,0.055\\r\\n125,Zambia,4.377,0.562,1.047,0.295,0.503,0.221,0.082\\r\\n126,Mauritania,4.356,0.557,1.245,0.292,0.129,0.134,0.093\\r\\n127,Ethiopia,4.350,0.308,0.950,0.391,0.452,0.220,0.146\\r\\n128,Georgia,4.340,0.853,0.592,0.643,0.375,0.038,0.215\\r\\n129,Armenia,4.321,0.816,0.990,0.666,0.260,0.077,0.028\\r\\n130,Myanmar,4.308,0.682,1.174,0.429,0.580,0.598,0.178\\r\\n131,Chad,4.301,0.358,0.907,0.053,0.189,0.181,0.060\\r\\n132,Congo (Kinshasa),4.245,0.069,1.136,0.204,0.312,0.197,0.052\\r\\n133,India,4.190,0.721,0.747,0.485,0.539,0.172,0.093\\r\\n134,Niger,4.166,0.131,0.867,0.221,0.390,0.175,0.099\\r\\n135,Uganda,4.161,0.322,1.090,0.237,0.450,0.259,0.061\\r\\n136,Benin,4.141,0.378,0.372,0.240,0.440,0.163,0.067\\r\\n137,Sudan,4.139,0.605,1.240,0.312,0.016,0.134,0.082\\r\\n138,Ukraine,4.103,0.793,1.413,0.609,0.163,0.187,0.011\\r\\n139,Togo,3.999,0.259,0.474,0.253,0.434,0.158,0.101\\r\\n140,Guinea,3.964,0.344,0.792,0.211,0.394,0.185,0.094\\r\\n141,Lesotho,3.808,0.472,1.215,0.079,0.423,0.116,0.112\\r\\n142,Angola,3.795,0.730,1.125,0.269,0.000,0.079,0.061\\r\\n143,Madagascar,3.774,0.262,0.908,0.402,0.221,0.155,0.049\\r\\n144,Zimbabwe,3.692,0.357,1.094,0.248,0.406,0.132,0.099\\r\\n145,Afghanistan,3.632,0.332,0.537,0.255,0.085,0.191,0.036\\r\\n146,Botswana,3.590,1.017,1.174,0.417,0.557,0.042,0.092\\r\\n147,Malawi,3.587,0.186,0.541,0.306,0.531,0.210,0.080\\r\\n148,Haiti,3.582,0.315,0.714,0.289,0.025,0.392,0.104\\r\\n149,Liberia,3.495,0.076,0.858,0.267,0.419,0.206,0.030\\r\\n150,Syria,3.462,0.689,0.382,0.539,0.088,0.376,0.144\\r\\n151,Rwanda,3.408,0.332,0.896,0.400,0.636,0.200,0.444\\r\\n152,Yemen,3.355,0.442,1.073,0.343,0.244,0.083,0.064\\r\\n153,Tanzania,3.303,0.455,0.991,0.381,0.481,0.270,0.097\\r\\n154,South Sudan,3.254,0.337,0.608,0.177,0.112,0.224,0.106\\r\\n155,Central African Republic,3.083,0.024,0.000,0.010,0.305,0.218,0.038\\r\\n156,Burundi,2.905,0.091,0.627,0.145,0.065,0.149,0.076\\r\\n',\n",
              " '2019.csv': b'Overall rank,Country or region,Score,GDP per capita,Social support,Healthy life expectancy,Freedom to make life choices,Generosity,Perceptions of corruption\\r\\n1,Finland,7.769,1.340,1.587,0.986,0.596,0.153,0.393\\r\\n2,Denmark,7.600,1.383,1.573,0.996,0.592,0.252,0.410\\r\\n3,Norway,7.554,1.488,1.582,1.028,0.603,0.271,0.341\\r\\n4,Iceland,7.494,1.380,1.624,1.026,0.591,0.354,0.118\\r\\n5,Netherlands,7.488,1.396,1.522,0.999,0.557,0.322,0.298\\r\\n6,Switzerland,7.480,1.452,1.526,1.052,0.572,0.263,0.343\\r\\n7,Sweden,7.343,1.387,1.487,1.009,0.574,0.267,0.373\\r\\n8,New Zealand,7.307,1.303,1.557,1.026,0.585,0.330,0.380\\r\\n9,Canada,7.278,1.365,1.505,1.039,0.584,0.285,0.308\\r\\n10,Austria,7.246,1.376,1.475,1.016,0.532,0.244,0.226\\r\\n11,Australia,7.228,1.372,1.548,1.036,0.557,0.332,0.290\\r\\n12,Costa Rica,7.167,1.034,1.441,0.963,0.558,0.144,0.093\\r\\n13,Israel,7.139,1.276,1.455,1.029,0.371,0.261,0.082\\r\\n14,Luxembourg,7.090,1.609,1.479,1.012,0.526,0.194,0.316\\r\\n15,United Kingdom,7.054,1.333,1.538,0.996,0.450,0.348,0.278\\r\\n16,Ireland,7.021,1.499,1.553,0.999,0.516,0.298,0.310\\r\\n17,Germany,6.985,1.373,1.454,0.987,0.495,0.261,0.265\\r\\n18,Belgium,6.923,1.356,1.504,0.986,0.473,0.160,0.210\\r\\n19,United States,6.892,1.433,1.457,0.874,0.454,0.280,0.128\\r\\n20,Czech Republic,6.852,1.269,1.487,0.920,0.457,0.046,0.036\\r\\n21,United Arab Emirates,6.825,1.503,1.310,0.825,0.598,0.262,0.182\\r\\n22,Malta,6.726,1.300,1.520,0.999,0.564,0.375,0.151\\r\\n23,Mexico,6.595,1.070,1.323,0.861,0.433,0.074,0.073\\r\\n24,France,6.592,1.324,1.472,1.045,0.436,0.111,0.183\\r\\n25,Taiwan,6.446,1.368,1.430,0.914,0.351,0.242,0.097\\r\\n26,Chile,6.444,1.159,1.369,0.920,0.357,0.187,0.056\\r\\n27,Guatemala,6.436,0.800,1.269,0.746,0.535,0.175,0.078\\r\\n28,Saudi Arabia,6.375,1.403,1.357,0.795,0.439,0.080,0.132\\r\\n29,Qatar,6.374,1.684,1.313,0.871,0.555,0.220,0.167\\r\\n30,Spain,6.354,1.286,1.484,1.062,0.362,0.153,0.079\\r\\n31,Panama,6.321,1.149,1.442,0.910,0.516,0.109,0.054\\r\\n32,Brazil,6.300,1.004,1.439,0.802,0.390,0.099,0.086\\r\\n33,Uruguay,6.293,1.124,1.465,0.891,0.523,0.127,0.150\\r\\n34,Singapore,6.262,1.572,1.463,1.141,0.556,0.271,0.453\\r\\n35,El Salvador,6.253,0.794,1.242,0.789,0.430,0.093,0.074\\r\\n36,Italy,6.223,1.294,1.488,1.039,0.231,0.158,0.030\\r\\n37,Bahrain,6.199,1.362,1.368,0.871,0.536,0.255,0.110\\r\\n38,Slovakia,6.198,1.246,1.504,0.881,0.334,0.121,0.014\\r\\n39,Trinidad & Tobago,6.192,1.231,1.477,0.713,0.489,0.185,0.016\\r\\n40,Poland,6.182,1.206,1.438,0.884,0.483,0.117,0.050\\r\\n41,Uzbekistan,6.174,0.745,1.529,0.756,0.631,0.322,0.240\\r\\n42,Lithuania,6.149,1.238,1.515,0.818,0.291,0.043,0.042\\r\\n43,Colombia,6.125,0.985,1.410,0.841,0.470,0.099,0.034\\r\\n44,Slovenia,6.118,1.258,1.523,0.953,0.564,0.144,0.057\\r\\n45,Nicaragua,6.105,0.694,1.325,0.835,0.435,0.200,0.127\\r\\n46,Kosovo,6.100,0.882,1.232,0.758,0.489,0.262,0.006\\r\\n47,Argentina,6.086,1.092,1.432,0.881,0.471,0.066,0.050\\r\\n48,Romania,6.070,1.162,1.232,0.825,0.462,0.083,0.005\\r\\n49,Cyprus,6.046,1.263,1.223,1.042,0.406,0.190,0.041\\r\\n50,Ecuador,6.028,0.912,1.312,0.868,0.498,0.126,0.087\\r\\n51,Kuwait,6.021,1.500,1.319,0.808,0.493,0.142,0.097\\r\\n52,Thailand,6.008,1.050,1.409,0.828,0.557,0.359,0.028\\r\\n53,Latvia,5.940,1.187,1.465,0.812,0.264,0.075,0.064\\r\\n54,South Korea,5.895,1.301,1.219,1.036,0.159,0.175,0.056\\r\\n55,Estonia,5.893,1.237,1.528,0.874,0.495,0.103,0.161\\r\\n56,Jamaica,5.890,0.831,1.478,0.831,0.490,0.107,0.028\\r\\n57,Mauritius,5.888,1.120,1.402,0.798,0.498,0.215,0.060\\r\\n58,Japan,5.886,1.327,1.419,1.088,0.445,0.069,0.140\\r\\n59,Honduras,5.860,0.642,1.236,0.828,0.507,0.246,0.078\\r\\n60,Kazakhstan,5.809,1.173,1.508,0.729,0.410,0.146,0.096\\r\\n61,Bolivia,5.779,0.776,1.209,0.706,0.511,0.137,0.064\\r\\n62,Hungary,5.758,1.201,1.410,0.828,0.199,0.081,0.020\\r\\n63,Paraguay,5.743,0.855,1.475,0.777,0.514,0.184,0.080\\r\\n64,Northern Cyprus,5.718,1.263,1.252,1.042,0.417,0.191,0.162\\r\\n65,Peru,5.697,0.960,1.274,0.854,0.455,0.083,0.027\\r\\n66,Portugal,5.693,1.221,1.431,0.999,0.508,0.047,0.025\\r\\n67,Pakistan,5.653,0.677,0.886,0.535,0.313,0.220,0.098\\r\\n68,Russia,5.648,1.183,1.452,0.726,0.334,0.082,0.031\\r\\n69,Philippines,5.631,0.807,1.293,0.657,0.558,0.117,0.107\\r\\n70,Serbia,5.603,1.004,1.383,0.854,0.282,0.137,0.039\\r\\n71,Moldova,5.529,0.685,1.328,0.739,0.245,0.181,0.000\\r\\n72,Libya,5.525,1.044,1.303,0.673,0.416,0.133,0.152\\r\\n73,Montenegro,5.523,1.051,1.361,0.871,0.197,0.142,0.080\\r\\n74,Tajikistan,5.467,0.493,1.098,0.718,0.389,0.230,0.144\\r\\n75,Croatia,5.432,1.155,1.266,0.914,0.296,0.119,0.022\\r\\n76,Hong Kong,5.430,1.438,1.277,1.122,0.440,0.258,0.287\\r\\n77,Dominican Republic,5.425,1.015,1.401,0.779,0.497,0.113,0.101\\r\\n78,Bosnia and Herzegovina,5.386,0.945,1.212,0.845,0.212,0.263,0.006\\r\\n79,Turkey,5.373,1.183,1.360,0.808,0.195,0.083,0.106\\r\\n80,Malaysia,5.339,1.221,1.171,0.828,0.508,0.260,0.024\\r\\n81,Belarus,5.323,1.067,1.465,0.789,0.235,0.094,0.142\\r\\n82,Greece,5.287,1.181,1.156,0.999,0.067,0.000,0.034\\r\\n83,Mongolia,5.285,0.948,1.531,0.667,0.317,0.235,0.038\\r\\n84,North Macedonia,5.274,0.983,1.294,0.838,0.345,0.185,0.034\\r\\n85,Nigeria,5.265,0.696,1.111,0.245,0.426,0.215,0.041\\r\\n86,Kyrgyzstan,5.261,0.551,1.438,0.723,0.508,0.300,0.023\\r\\n87,Turkmenistan,5.247,1.052,1.538,0.657,0.394,0.244,0.028\\r\\n88,Algeria,5.211,1.002,1.160,0.785,0.086,0.073,0.114\\r\\n89,Morocco,5.208,0.801,0.782,0.782,0.418,0.036,0.076\\r\\n90,Azerbaijan,5.208,1.043,1.147,0.769,0.351,0.035,0.182\\r\\n91,Lebanon,5.197,0.987,1.224,0.815,0.216,0.166,0.027\\r\\n92,Indonesia,5.192,0.931,1.203,0.660,0.491,0.498,0.028\\r\\n93,China,5.191,1.029,1.125,0.893,0.521,0.058,0.100\\r\\n94,Vietnam,5.175,0.741,1.346,0.851,0.543,0.147,0.073\\r\\n95,Bhutan,5.082,0.813,1.321,0.604,0.457,0.370,0.167\\r\\n96,Cameroon,5.044,0.549,0.910,0.331,0.381,0.187,0.037\\r\\n97,Bulgaria,5.011,1.092,1.513,0.815,0.311,0.081,0.004\\r\\n98,Ghana,4.996,0.611,0.868,0.486,0.381,0.245,0.040\\r\\n99,Ivory Coast,4.944,0.569,0.808,0.232,0.352,0.154,0.090\\r\\n100,Nepal,4.913,0.446,1.226,0.677,0.439,0.285,0.089\\r\\n101,Jordan,4.906,0.837,1.225,0.815,0.383,0.110,0.130\\r\\n102,Benin,4.883,0.393,0.437,0.397,0.349,0.175,0.082\\r\\n103,Congo (Brazzaville),4.812,0.673,0.799,0.508,0.372,0.105,0.093\\r\\n104,Gabon,4.799,1.057,1.183,0.571,0.295,0.043,0.055\\r\\n105,Laos,4.796,0.764,1.030,0.551,0.547,0.266,0.164\\r\\n106,South Africa,4.722,0.960,1.351,0.469,0.389,0.130,0.055\\r\\n107,Albania,4.719,0.947,0.848,0.874,0.383,0.178,0.027\\r\\n108,Venezuela,4.707,0.960,1.427,0.805,0.154,0.064,0.047\\r\\n109,Cambodia,4.700,0.574,1.122,0.637,0.609,0.232,0.062\\r\\n110,Palestinian Territories,4.696,0.657,1.247,0.672,0.225,0.103,0.066\\r\\n111,Senegal,4.681,0.450,1.134,0.571,0.292,0.153,0.072\\r\\n112,Somalia,4.668,0.000,0.698,0.268,0.559,0.243,0.270\\r\\n113,Namibia,4.639,0.879,1.313,0.477,0.401,0.070,0.056\\r\\n114,Niger,4.628,0.138,0.774,0.366,0.318,0.188,0.102\\r\\n115,Burkina Faso,4.587,0.331,1.056,0.380,0.255,0.177,0.113\\r\\n116,Armenia,4.559,0.850,1.055,0.815,0.283,0.095,0.064\\r\\n117,Iran,4.548,1.100,0.842,0.785,0.305,0.270,0.125\\r\\n118,Guinea,4.534,0.380,0.829,0.375,0.332,0.207,0.086\\r\\n119,Georgia,4.519,0.886,0.666,0.752,0.346,0.043,0.164\\r\\n120,Gambia,4.516,0.308,0.939,0.428,0.382,0.269,0.167\\r\\n121,Kenya,4.509,0.512,0.983,0.581,0.431,0.372,0.053\\r\\n122,Mauritania,4.490,0.570,1.167,0.489,0.066,0.106,0.088\\r\\n123,Mozambique,4.466,0.204,0.986,0.390,0.494,0.197,0.138\\r\\n124,Tunisia,4.461,0.921,1.000,0.815,0.167,0.059,0.055\\r\\n125,Bangladesh,4.456,0.562,0.928,0.723,0.527,0.166,0.143\\r\\n126,Iraq,4.437,1.043,0.980,0.574,0.241,0.148,0.089\\r\\n127,Congo (Kinshasa),4.418,0.094,1.125,0.357,0.269,0.212,0.053\\r\\n128,Mali,4.390,0.385,1.105,0.308,0.327,0.153,0.052\\r\\n129,Sierra Leone,4.374,0.268,0.841,0.242,0.309,0.252,0.045\\r\\n130,Sri Lanka,4.366,0.949,1.265,0.831,0.470,0.244,0.047\\r\\n131,Myanmar,4.360,0.710,1.181,0.555,0.525,0.566,0.172\\r\\n132,Chad,4.350,0.350,0.766,0.192,0.174,0.198,0.078\\r\\n133,Ukraine,4.332,0.820,1.390,0.739,0.178,0.187,0.010\\r\\n134,Ethiopia,4.286,0.336,1.033,0.532,0.344,0.209,0.100\\r\\n135,Swaziland,4.212,0.811,1.149,0.000,0.313,0.074,0.135\\r\\n136,Uganda,4.189,0.332,1.069,0.443,0.356,0.252,0.060\\r\\n137,Egypt,4.166,0.913,1.039,0.644,0.241,0.076,0.067\\r\\n138,Zambia,4.107,0.578,1.058,0.426,0.431,0.247,0.087\\r\\n139,Togo,4.085,0.275,0.572,0.410,0.293,0.177,0.085\\r\\n140,India,4.015,0.755,0.765,0.588,0.498,0.200,0.085\\r\\n141,Liberia,3.975,0.073,0.922,0.443,0.370,0.233,0.033\\r\\n142,Comoros,3.973,0.274,0.757,0.505,0.142,0.275,0.078\\r\\n143,Madagascar,3.933,0.274,0.916,0.555,0.148,0.169,0.041\\r\\n144,Lesotho,3.802,0.489,1.169,0.168,0.359,0.107,0.093\\r\\n145,Burundi,3.775,0.046,0.447,0.380,0.220,0.176,0.180\\r\\n146,Zimbabwe,3.663,0.366,1.114,0.433,0.361,0.151,0.089\\r\\n147,Haiti,3.597,0.323,0.688,0.449,0.026,0.419,0.110\\r\\n148,Botswana,3.488,1.041,1.145,0.538,0.455,0.025,0.100\\r\\n149,Syria,3.462,0.619,0.378,0.440,0.013,0.331,0.141\\r\\n150,Malawi,3.410,0.191,0.560,0.495,0.443,0.218,0.089\\r\\n151,Yemen,3.380,0.287,1.163,0.463,0.143,0.108,0.077\\r\\n152,Rwanda,3.334,0.359,0.711,0.614,0.555,0.217,0.411\\r\\n153,Tanzania,3.231,0.476,0.885,0.499,0.417,0.276,0.147\\r\\n154,Afghanistan,3.203,0.350,0.517,0.361,0.000,0.158,0.025\\r\\n155,Central African Republic,3.083,0.026,0.000,0.105,0.225,0.235,0.035\\r\\n156,South Sudan,2.853,0.306,0.575,0.295,0.010,0.202,0.091\\r\\n',\n",
              " '2020.csv': b'Country name,Regional indicator,Ladder score,Standard error of ladder score,upperwhisker,lowerwhisker,Logged GDP per capita,Social support,Healthy life expectancy,Freedom to make life choices,Generosity,Perceptions of corruption,Ladder score in Dystopia,Explained by: Log GDP per capita,Explained by: Social support,Explained by: Healthy life expectancy,Explained by: Freedom to make life choices,Explained by: Generosity,Explained by: Perceptions of corruption,Dystopia + residual\\r\\nFinland,Western Europe,7.808700085,0.031156305,7.869766235,7.747633934,10.63926697,0.954329729,71.9008255,0.949172199,-0.059482019,0.195444584,1.972316742,1.285189509,1.499525905,0.961271405,0.66231674,0.159670442,0.477857262,2.762835026\\r\\nDenmark,Western Europe,7.645599842,0.033492286,7.711244583,7.579955101,10.77400112,0.955990791,72.40250397,0.951444268,0.066201776,0.168489456,1.972316742,1.326948524,1.503449202,0.979332566,0.665039897,0.242793396,0.495260328,2.432740688\\r\\nSwitzerland,Western Europe,7.559899807,0.035014171,7.628527641,7.491271973,10.97993279,0.942846596,74.10244751,0.921336651,0.105911039,0.303728431,1.972316742,1.39077425,1.472403407,1.040533185,0.62895447,0.269055754,0.407945901,2.35026741\\r\\nIceland,Western Europe,7.504499912,0.059615862,7.621346951,7.387652874,10.77255917,0.974669576,73,0.948891878,0.246944219,0.711709738,1.972316742,1.326501608,1.547567487,1.000843406,0.661980748,0.362330228,0.144540772,2.460688114\\r\\nNorway,Western Europe,7.487999916,0.034837384,7.55628109,7.419718742,11.08780384,0.952486575,73.20078278,0.955750287,0.13453263,0.263218194,1.972316742,1.42420733,1.495172501,1.008071899,0.670200884,0.287985086,0.434100568,2.168266296\\r\\nNetherlands,Western Europe,7.448900223,0.02779175,7.503372192,7.394428253,10.81271172,0.93913883,72.30091858,0.908547819,0.20761244,0.364717126,1.972316742,1.338946342,1.463645935,0.975675344,0.61362648,0.336317569,0.368569762,2.352117062\\r\\nSweden,Western Europe,7.353499889,0.036234196,7.424519062,7.282480717,10.75879383,0.926311195,72.60076904,0.939144194,0.111614622,0.250880182,1.972316742,1.322235227,1.433347702,0.986470461,0.650297701,0.272827893,0.442066371,2.246299267\\r\\nNew Zealand,North America and ANZ,7.299600124,0.039465468,7.376952648,7.222247601,10.50094318,0.949118972,73.20262909,0.936217487,0.191598073,0.22113885,1.972316742,1.242317915,1.48721838,1.008138299,0.646789908,0.325726211,0.461268276,2.128108025\\r\\nAustria,Western Europe,7.294199944,0.033365164,7.359595776,7.228804111,10.7428236,0.928045869,73.00250244,0.899989486,0.085429221,0.499954879,1.972316742,1.317285538,1.437444925,1.000933528,0.603368878,0.255509764,0.281256139,2.398446083\\r\\nLuxembourg,Western Europe,7.237500191,0.030851794,7.297969818,7.177030563,11.45068073,0.906912208,72.59999847,0.90563643,-0.004620588,0.367084295,1.972316742,1.536676049,1.387528419,0.986442685,0.610137045,0.19595392,0.367041469,2.153700352\\r\\nCanada,North America and ANZ,7.23210001,0.04040546,7.311294556,7.152905464,10.69236851,0.927176654,73.60160065,0.933913231,0.124770768,0.390843362,1.972316742,1.301647663,1.435391903,1.022501945,0.644028127,0.28152892,0.351701856,2.195269108\\r\\nAustralia,North America and ANZ,7.222799778,0.041841116,7.30480814,7.140791416,10.72059631,0.944854617,73.60453796,0.915431738,0.19046016,0.41516912,1.972316742,1.310396433,1.477146268,1.022607684,0.621877193,0.324973613,0.335996419,2.129804134\\r\\nUnited Kingdom,Western Europe,7.164500237,0.037161909,7.237337589,7.091662884,10.60013485,0.93668282,72.30160522,0.834743679,0.263732493,0.435915917,1.972316742,1.273061037,1.457844973,0.97570008,0.525168657,0.373433441,0.322601646,2.236721992\\r\\nIsrael,Middle East and North Africa,7.128600121,0.042515181,7.211929798,7.045270443,10.41752529,0.913571239,73.20025635,0.747580588,0.10259372,0.78085506,1.972316742,1.216463685,1.403256774,1.008052945,0.420699477,0.266861796,0.09989845,2.713358402\\r\\nCosta Rica,Latin America and Caribbean,7.121399879,0.044816118,7.209239483,7.033560276,9.658156395,0.901545942,71.29985046,0.934738934,-0.10242971,0.786332428,1.972316742,0.981107712,1.374853611,0.939635336,0.645017743,0.131266311,0.096362092,2.953135014\\r\\nIreland,Western Europe,7.093699932,0.039863452,7.171832085,7.01556778,11.16097832,0.942081571,72.30078888,0.886982977,0.145784974,0.357184172,1.972316742,1.446886778,1.470596433,0.975670695,0.587779939,0.295426995,0.373433262,1.943878174\\r\\nGermany,Western Europe,7.075799942,0.035609804,7.145595074,7.00600481,10.7328186,0.898874462,72.20201874,0.867371082,0.080179386,0.456422031,1.972316742,1.314184546,1.368543744,0.972114801,0.564274132,0.252037704,0.309362292,2.295249462\\r\\nUnited States,North America and ANZ,6.939599991,0.047316168,7.032339573,6.846860409,10.92576885,0.914219022,68.29949951,0.842619538,0.149891734,0.699715316,1.972316742,1.37398684,1.404786706,0.831618011,0.534608245,0.298143059,0.152284741,2.344124794\\r\\nCzech Republic,Central and Eastern Europe,6.910900116,0.042891297,6.994966984,6.826833248,10.40416336,0.914430678,70.04793549,0.818537354,-0.230861515,0.85844624,1.972316742,1.212322354,1.40528667,0.89456445,0.505744576,0.046325929,0.049803223,2.796808243\\r\\nBelgium,Western Europe,6.863500118,0.034370355,6.930866241,6.796133995,10.6736393,0.911632538,72.00164795,0.813582063,-0.078691199,0.612297952,1.972316742,1.295842767,1.398677588,0.964901149,0.499805421,0.146966159,0.208724052,2.348626614\\r\\nUnited Arab Emirates,Middle East and North Africa,6.790800095,0.040698379,6.870568752,6.711031437,11.1099987,0.849181116,67.08278656,0.941345513,0.123450845,0.594502211,1.972316742,1.431086421,1.251170993,0.787814438,0.652936101,0.28065598,0.220213518,2.166965961\\r\\nMalta,Western Europe,6.772799969,0.042958103,6.856997967,6.688601971,10.53383827,0.93037951,72.19999695,0.924911439,0.214965805,0.658547282,1.972316742,1.252513289,1.442956924,0.972042024,0.633239031,0.341180831,0.178864077,1.952012062\\r\\nFrance,Western Europe,6.663799763,0.037576791,6.737450123,6.590149403,10.58422279,0.937103748,73.80193329,0.825467646,-0.130641967,0.583521128,1.972316742,1.268129349,1.458839178,1.029714227,0.514050901,0.112607703,0.227303237,2.053198338\\r\\nMexico,Latin America and Caribbean,6.465000153,0.048122469,6.559319973,6.370680332,9.797797203,0.838665426,68.29902649,0.858709276,-0.175266623,0.806821585,1.972316742,1.024387479,1.226333499,0.831601024,0.553892553,0.083094485,0.083133668,2.662540197\\r\\nTaiwan Province of China,East Asia,6.45539999,0.039139576,6.532113552,6.378686428,10.77568531,0.894309103,69.59999847,0.77153033,-0.073198698,0.73188293,1.972316742,1.327470541,1.357760668,0.878437996,0.449404389,0.150598705,0.131516352,2.160238743\\r\\nUruguay,Latin America and Caribbean,6.440100193,0.045419082,6.529121399,6.351078987,9.948192596,0.92281127,69.00254822,0.892395437,-0.101103112,0.635994136,1.972316742,1.071000457,1.425081134,0.856928885,0.59426707,0.132143691,0.193425074,2.167276382\\r\\nSaudi Arabia,Middle East and North Africa,6.406499863,0.056533612,6.517305851,6.295693874,10.79781246,0.874067068,66.30514526,0.854191244,-0.168695062,0.682619512,1.972316742,1.334328532,1.309950113,0.759818137,0.548477471,0.087440684,0.163322315,2.203118801\\r\\nSpain,Western Europe,6.400899887,0.04230037,6.483808517,6.317991257,10.46292686,0.921125412,74.40270996,0.751989543,-0.050961714,0.765859902,1.972316742,1.230535269,1.421099186,1.051343083,0.425983816,0.16530548,0.109579779,1.997088432\\r\\nGuatemala,Latin America and Caribbean,6.398900032,0.058398303,6.5133605,6.284439564,8.924805641,0.816621482,64.8089447,0.908147573,-0.042938665,0.783237457,1.972316742,0.753815711,1.174267054,0.705952585,0.613146722,0.170611665,0.0983603,2.882723093\\r\\nItaly,Western Europe,6.38740015,0.043288074,6.47224474,6.302555561,10.48183632,0.889878571,73.60168457,0.66465199,-0.043460999,0.873404682,1.972316742,1.236396074,1.347296,1.022504926,0.321305573,0.170266211,0.040145598,2.249505997\\r\\nSingapore,Southeast Asia,6.377099991,0.033258967,6.442287445,6.311912537,11.39552116,0.910268962,76.80458069,0.926645339,0.029879224,0.109784193,1.972316742,1.519580126,1.39545691,1.137814283,0.635317206,0.218770906,0.533162236,0.937031746\\r\\nBrazil,Latin America and Caribbean,6.375599861,0.040790688,6.455549717,6.295650005,9.56643486,0.896723807,66.48016357,0.799804807,-0.101812392,0.770601273,1.972316742,0.952679873,1.363464117,0.766119063,0.483292729,0.131674588,0.106518604,2.571860313\\r\\nSlovenia,Central and Eastern Europe,6.363399982,0.043841314,6.449328899,6.277471066,10.39232254,0.939575672,71.1029892,0.936142623,-0.080603383,0.817071021,1.972316742,1.208652496,1.464677691,0.932548046,0.646700144,0.145701498,0.076516323,1.888586521\\r\\nEl Salvador,Latin America and Caribbean,6.34829998,0.058248438,6.462466717,6.234133244,8.909075737,0.806092262,66.10826111,0.833805263,-0.121072978,0.754319906,1.972316742,0.748940408,1.149397612,0.752730012,0.524043918,0.1189363,0.117030352,2.937191725\\r\\nKosovo,Central and Eastern Europe,6.325200081,0.052216277,6.427544117,6.222856045,9.204429626,0.820726514,63.88555527,0.861535907,0.190933764,0.922328293,1.972316742,0.840481341,1.183962822,0.672709167,0.557280421,0.325286865,0.008559024,2.736902714\\r\\nPanama,Latin America and Caribbean,6.304800034,0.059724931,6.421860695,6.187739372,10.03423405,0.902094483,69.60301208,0.880366504,-0.153927714,0.851588905,1.972316742,1.097667813,1.376149297,0.878546536,0.57984978,0.097207308,0.054230526,2.221176147\\r\\nSlovakia,Central and Eastern Europe,6.280600071,0.03889757,6.35683918,6.204360962,10.34774971,0.922493756,68.90634155,0.749952674,-0.124409303,0.918096125,1.972316742,1.194837689,1.424331188,0.853465259,0.423542529,0.116729774,0.011291441,2.256422043\\r\\nUzbekistan,Commonwealth of Independent States,6.257599831,0.05422755,6.36388588,6.151313782,8.740371704,0.926595807,65.10757446,0.974998116,0.248427153,0.501497388,1.972316742,0.696652949,1.434020042,0.716703713,0.693270326,0.363311023,0.280260265,2.073346615\\r\\nChile,Latin America and Caribbean,6.228499889,0.045723889,6.318118572,6.138881207,10.0320549,0.879713595,69.90061951,0.744896293,-0.065668367,0.838239431,1.972316742,1.096992493,1.323286891,0.889260828,0.417482227,0.155579001,0.06284935,2.283012867\\r\\nBahrain,Middle East and North Africa,6.227300167,0.081882261,6.387789249,6.066811085,10.67638016,0.876342118,68.5,0.905855775,0.13372919,0.7393471,1.972316742,1.296692252,1.31532371,0.838836372,0.610399902,0.287453711,0.126697257,1.751917362\\r\\nLithuania,Central and Eastern Europe,6.215499878,0.044193108,6.302118301,6.128881454,10.34362602,0.926107109,67.29407501,0.747381449,-0.219725296,0.809583843,1.972316742,1.193559647,1.432865739,0.795421183,0.42046079,0.053691041,0.081350274,2.238146067\\r\\nTrinidad and Tobago,Latin America and Caribbean,6.191899776,0.114448458,6.416218758,5.967580795,10.26000214,0.91529417,63.5,0.857907116,0.000526841,0.912230611,1.972316742,1.167641521,1.407326221,0.658828557,0.55293113,0.199358255,0.015078396,2.190695763\\r\\nPoland,Central and Eastern Europe,6.186299801,0.035500165,6.255880356,6.116719246,10.26512432,0.874257445,69.31113434,0.862055779,-0.205084071,0.686927021,1.972316742,1.16922915,1.310399771,0.868038476,0.557903528,0.063374244,0.160541251,2.056797981\\r\\nColombia,Latin America and Caribbean,6.163400173,0.056480873,6.274102688,6.052697659,9.500369072,0.884440243,67.69958496,0.836179912,-0.161235645,0.86457181,1.972316742,0.93220371,1.33445096,0.810020149,0.526890039,0.092374094,0.04584837,2.421656609\\r\\nCyprus,Western Europe,6.15899992,0.050605938,6.258187771,6.059812069,10.40570259,0.805996239,73.70222473,0.779858291,0.043731496,0.856271744,1.972316742,1.21279943,1.149170756,1.026124597,0.459385872,0.227932334,0.051207144,2.032334805\\r\\nNicaragua,Latin America and Caribbean,6.13710022,0.063886963,6.262318611,6.011881828,8.493160248,0.857497036,67.50717926,0.863902867,0.020959141,0.665950119,1.972316742,0.620033145,1.27081275,0.803093255,0.560117304,0.212871477,0.174084574,2.496081114\\r\\nRomania,Central and Eastern Europe,6.123700142,0.047432564,6.216668129,6.030732155,10.107584,0.825161517,67.20723724,0.842823207,-0.19781521,0.934300244,1.972316742,1.120401621,1.1944381,0.79229486,0.534852326,0.068181619,0.000829569,2.412749767\\r\\nKuwait,Middle East and North Africa,6.102099895,0.053297732,6.206563473,5.997636318,11.08982468,0.846475244,66.76764679,0.872366488,-0.100184701,0.760849059,1.972316742,1.424833655,1.244779825,0.776468933,0.570261419,0.132751092,0.112814933,1.840167999\\r\\nMauritius,Sub-Saharan Africa,6.101299763,0.057226494,6.213463783,5.989135742,9.956786156,0.910357833,66.40434265,0.889534533,-0.018318573,0.805343091,1.972316742,1.07366395,1.395666838,0.763389409,0.590838134,0.186894551,0.084088229,2.006720543\\r\\nKazakhstan,Commonwealth of Independent States,6.057899952,0.043229785,6.1426301,5.973169804,10.11465836,0.934744895,64.60996246,0.811601937,-0.068488635,0.764490843,1.972316742,1.122594237,1.453267694,0.698788941,0.497432142,0.153713793,0.110463686,2.021602631\\r\\nEstonia,Central and Eastern Europe,6.021800041,0.035985194,6.092330933,5.95126915,10.34001732,0.934729993,68.60495758,0.87770915,-0.111697771,0.623073816,1.972316742,1.192441225,1.453232527,0.842615008,0.576664805,0.125136748,0.201766819,1.629928112\\r\\nPhilippines,Southeast Asia,6.006000042,0.049858402,6.103722572,5.908277512,8.993545532,0.846730053,61.92676163,0.915463448,-0.105463006,0.733634114,1.972316742,0.775120676,1.245381713,0.602189481,0.621915162,0.129260212,0.130385727,2.501741886\\r\\nHungary,Central and Eastern Europe,6.000400066,0.039473221,6.077767372,5.923032761,10.24924374,0.921934128,67.60997009,0.718964577,-0.194323018,0.892916501,1.972316742,1.164307117,1.423009396,0.806793869,0.386401802,0.070491239,0.027548173,2.121845722\\r\\nThailand,Southeast Asia,5.998799801,0.042596295,6.082288742,5.91531086,9.741791725,0.889973223,67.25059509,0.905063033,0.268685192,0.886272311,1.972316742,1.007029295,1.347519517,0.793855846,0.609449804,0.376709014,0.031837862,1.832384109\\r\\nArgentina,Latin America and Caribbean,5.974699974,0.053441759,6.079445839,5.869954109,9.810955048,0.900567949,68.80380249,0.831132412,-0.194913864,0.842009842,1.972316742,1.028465629,1.372543693,0.849773705,0.520840347,0.070100471,0.060415059,2.072540998\\r\\nHonduras,Latin America and Caribbean,5.953199863,0.065731592,6.082033634,5.824366093,8.424534798,0.821870148,67.19876862,0.870603263,0.086969115,0.801131904,1.972316742,0.598763585,1.186664104,0.791989982,0.568148077,0.256528199,0.086807102,2.464295387\\r\\nLatvia,Central and Eastern Europe,5.949999809,0.034838136,6.018282413,5.881717205,10.17531967,0.918288589,66.8074646,0.671237648,-0.186888844,0.795580089,1.972316742,1.14139545,1.414398789,0.777902424,0.329198807,0.075407945,0.090391524,2.121283054\\r\\nEcuador,Latin America and Caribbean,5.925199986,0.052880634,6.028846264,5.821553707,9.246058464,0.836418986,68.50003815,0.859828949,-0.127014965,0.801215112,1.972316742,0.853383601,1.221027613,0.838837743,0.555234551,0.115006477,0.086753383,2.254933834\\r\\nPortugal,Western Europe,5.910900116,0.053158198,6.015089989,5.806710243,10.26374245,0.886590719,72.40202332,0.888747811,-0.220714301,0.892629504,1.972316742,1.168800831,1.339530349,0.979315281,0.589895189,0.053036947,0.027733466,1.752558708\\r\\nJamaica,Latin America and Caribbean,5.889800072,0.120590433,6.126157284,5.65344286,9.006250381,0.915701866,67.09999847,0.858068526,-0.125106767,0.888890028,1.972316742,0.779058397,1.408289194,0.788434088,0.553124607,0.116268493,0.030147785,2.214436531\\r\\nSouth Korea,East Asia,5.872399807,0.044085015,5.958806515,5.785993099,10.51056671,0.799387157,73.6027298,0.612965107,-0.043404032,0.789067447,1.972316742,1.245300651,1.133560538,1.022542596,0.25935635,0.170303866,0.094596282,1.946757078\\r\\nJapan,East Asia,5.870800018,0.041391667,5.951927662,5.789672375,10.57968903,0.883545935,75.00096893,0.809961379,-0.246910349,0.654558063,1.972316742,1.26672411,1.332338691,1.072881341,0.495465875,0.03571178,0.181439638,1.486200333\\r\\nPeru,Latin America and Caribbean,5.796800137,0.061311204,5.916970253,5.67663002,9.456313133,0.831075251,68.10023499,0.824766099,-0.16238822,0.893714964,1.972316742,0.91854918,1.208405972,0.824444175,0.513210058,0.091611817,0.02703266,2.213499546\\r\\nSerbia,Central and Eastern Europe,5.77820015,0.050712325,5.877596378,5.678803921,9.680980682,0.881475747,68.21020508,0.726495862,-0.073676221,0.843509018,1.972316742,0.988181829,1.327448964,0.828403294,0.395428419,0.15028289,0.059447147,2.029040098\\r\\nBolivia,Latin America and Caribbean,5.747499943,0.050645422,5.846765041,5.648234844,8.851115227,0.803108692,63.6004715,0.875873327,-0.09168113,0.822606206,1.972316742,0.730976343,1.142350554,0.662445664,0.5744645,0.138375074,0.072942637,2.425928593\\r\\nPakistan,South Asia,5.69329977,0.048216224,5.78780365,5.598795891,8.482727051,0.689062297,58.25313568,0.734833717,0.04489987,0.745705426,1.972316742,0.616799474,0.872979581,0.469933242,0.405421734,0.228705063,0.122592121,2.976876736\\r\\nParaguay,Latin America and Caribbean,5.692100048,0.051957864,5.793937683,5.590262413,9.389982224,0.898727894,65.63993835,0.885923445,0.007997713,0.834788501,1.972316742,0.897990823,1.36819756,0.735869646,0.586510062,0.204299241,0.065077379,1.83412528\\r\\nDominican Republic,Latin America and Caribbean,5.689199924,0.069831297,5.826069355,5.552330494,9.664880753,0.882085383,65.80748749,0.866202772,-0.131263286,0.755999923,1.972316742,0.983191848,1.328888893,0.741901696,0.5628739,0.112196781,0.115945682,1.844246864\\r\\nBosnia and Herzegovina,Central and Eastern Europe,5.674099922,0.046385963,5.765016556,5.583183289,9.455817223,0.829204142,67.80813599,0.651352704,0.098274559,0.933769107,1.972316742,0.91839546,1.203986526,0.813928187,0.305365741,0.264005244,0.001172487,2.16724205\\r\\nMoldova,Commonwealth of Independent States,5.607500076,0.042275578,5.690360069,5.524640083,8.776714325,0.843313575,65.01301575,0.721609175,-0.037741039,0.913314283,1.972316742,0.707916796,1.237312198,0.713299453,0.389571488,0.174049184,0.014378744,2.370968342\\r\\nTajikistan,Commonwealth of Independent States,5.555699825,0.032321576,5.619050026,5.492349625,8.024810791,0.835297108,64.10459137,0.831383407,-0.025088511,0.592076063,1.972316742,0.474874616,1.218377709,0.680594802,0.521141171,0.182417125,0.221779913,2.25650835\\r\\nMontenegro,Central and Eastern Europe,5.54610014,0.04898582,5.642112255,5.450088024,9.751860619,0.855314612,68.50534821,0.649565637,-0.075600356,0.783121586,1.972316742,1.010150075,1.265657902,0.839028895,0.303223848,0.14901033,0.098435111,1.880565882\\r\\nRussia,Commonwealth of Independent States,5.546000004,0.039609671,5.623634815,5.468365192,10.12887192,0.903150737,64.10045624,0.729892612,-0.151153743,0.864802599,1.972316742,1.126999617,1.378644109,0.68044591,0.399499595,0.099041916,0.045699362,1.815716743\\r\\nKyrgyzstan,Commonwealth of Independent States,5.541500092,0.043677468,5.627108097,5.455892086,8.148405075,0.887228489,64.10601044,0.909374893,0.154772058,0.888396084,1.972316742,0.513180971,1.341036677,0.680645883,0.614617765,0.30137074,0.030466691,2.060206652\\r\\nBelarus,Commonwealth of Independent States,5.539899826,0.037060037,5.612537384,5.467262268,9.779945374,0.90674746,66.10433197,0.639163077,-0.164926544,0.63571167,1.972316742,1.018854499,1.38713932,0.75258857,0.290755868,0.08993306,0.193607435,1.8069911\\r\\nNorth Cyprus,Western Europe,5.53550005,0.051037241,5.635532856,5.435467243,10.40570259,0.820356607,73.70222473,0.79529351,0.000227159,0.62611568,1.972316742,1.21279943,1.183089137,1.026124597,0.477885723,0.199160054,0.199802905,1.23668766\\r\\nGreece,Western Europe,5.514999866,0.046931833,5.606986046,5.423013687,10.13232613,0.814380348,72.40525818,0.541345119,-0.300907373,0.859931409,1.972316742,1.128070116,1.168973565,0.979431748,0.173516348,0,0.048844352,2.016179085\\r\\nHong Kong S.A.R. of China,East Asia,5.510399818,0.046019029,5.600596905,5.420202732,10.9346714,0.845969081,76.77170563,0.779833794,0.134979904,0.420607209,1.972316742,1.376746058,1.243584275,1.136630654,0.459356517,0.288280904,0.332485437,0.673293114\\r\\nCroatia,Central and Eastern Europe,5.504700184,0.037783645,5.578756332,5.430644035,10.07087517,0.874623716,70.21490479,0.714838803,-0.128538325,0.916495264,1.972316742,1.109024286,1.311264873,0.900575578,0.381456882,0.113998979,0.012325006,1.676029205\\r\\nLibya,Middle East and North Africa,5.488800049,0.060677204,5.607727528,5.36987257,9.789815903,0.825942934,62.29999924,0.773157001,-0.085054487,0.668779135,1.972316742,1.021913767,1.196283698,0.615626633,0.451354057,0.142757699,0.172258079,1.888563156\\r\\nMongolia,East Asia,5.456200123,0.040313236,5.535213947,5.377186298,9.412186623,0.937142491,62.30448532,0.693351328,0.098093867,0.863511205,1.972316742,0.904872775,1.458930612,0.615788162,0.355703115,0.263885736,0.046533126,1.810527563\\r\\nMalaysia,Southeast Asia,5.384300232,0.048802696,5.479953289,5.288647175,10.26251888,0.816509426,67.10215759,0.894626856,0.114726797,0.839302301,1.972316742,1.168421626,1.17400229,0.788511872,0.596941531,0.274886161,0.062163133,1.319420815\\r\\nVietnam,Southeast Asia,5.353499889,0.033800762,5.41974926,5.287250519,8.809545517,0.849987149,67.9527359,0.939592957,-0.094533332,0.79642123,1.972316742,0.718092382,1.253074765,0.819133997,0.650835574,0.136488721,0.089848459,1.685977936\\r\\nIndonesia,Southeast Asia,5.285600185,0.047692381,5.379077435,5.192122936,9.36975193,0.808379889,62.15584946,0.870614409,0.519586504,0.876296401,1.972316742,0.891720712,1.154800892,0.610437036,0.568161428,0.542646527,0.038278613,1.479573488\\r\\nIvory Coast,Sub-Saharan Africa,5.233300209,0.073095515,5.376567364,5.090033054,8.225561142,0.658048689,49.50377274,0.727909327,-0.043991156,0.790771961,1.972316742,0.537094414,0.799727261,0.154942513,0.397122532,0.169915587,0.093495794,3.081022501\\r\\nBenin,Sub-Saharan Africa,5.21600008,0.077759244,5.368408203,5.063591957,7.674319744,0.468671143,54.31246567,0.735182583,-0.003537213,0.740532577,1.972316742,0.366244704,0.352428436,0.328062952,0.40583989,0.196670428,0.125931874,3.440809727\\r\\nMaldives,South Asia,5.197599888,0.071985401,5.338691235,5.056508541,9.518632889,0.91316092,70.59999847,0.853962779,0.038085498,0.824211061,1.972316742,0.937864304,1.402287602,0.914439559,0.548203647,0.224198252,0.071906492,1.098674774\\r\\nCongo (Brazzaville),Sub-Saharan Africa,5.194399834,0.077028967,5.345376492,5.043423176,8.536987305,0.640228093,57.92448044,0.719058514,-0.123674095,0.751779079,1.972316742,0.633616745,0.757636011,0.458101124,0.386514395,0.117216013,0.118670784,2.722619534\\r\\nAzerbaijan,Commonwealth of Independent States,5.164800167,0.034197241,5.231826782,5.097773552,9.687726974,0.819308281,65.50839996,0.786824107,-0.240255281,0.55253756,1.972316742,0.990272701,1.180613041,0.731134057,0.467734724,0.040113214,0.247307181,1.507632971\\r\\nMacedonia,Central and Eastern Europe,5.159800053,0.046761535,5.251452446,5.068147659,9.510591507,0.820392311,67.50442505,0.738840938,-0.019877451,0.897490501,1.972316742,0.935371995,1.183173537,0.802994132,0.410224587,0.18586354,0.024595059,1.617594957\\r\\nGhana,Sub-Saharan Africa,5.147999763,0.058634609,5.262923717,5.033075809,8.350645065,0.728601098,57.20398712,0.794796526,0.094170853,0.847964764,1.972316742,0.575862467,0.96636796,0.432162255,0.477290064,0.261291206,0.056570381,2.378437281\\r\\nNepal,South Asia,5.137199879,0.057692084,5.250276566,5.024123192,7.925357342,0.785512447,63.77917862,0.797565043,0.154168829,0.738099158,1.972316742,0.444050372,1.100789309,0.66887939,0.480608255,0.300971806,0.127502963,2.014386892\\r\\nTurkey,Middle East and North Africa,5.131800175,0.039838459,5.20988369,5.05371666,10.12941933,0.826313555,66.90281677,0.608830452,-0.171046436,0.748197377,1.972316742,1.127169251,1.197159171,0.781335294,0.25440076,0.085885569,0.120983243,1.564816713\\r\\nChina,East Asia,5.123899937,0.025901664,5.174667358,5.073132515,9.688568115,0.798760593,69.2891922,0.898517907,-0.18142575,0.7539711,1.972316742,0.990533412,1.132080674,0.867248535,0.601605117,0.079021044,0.117255554,1.336181879\\r\\nTurkmenistan,Commonwealth of Independent States,5.119100094,0.029379817,5.17668438,5.061515808,9.74803257,0.958966196,62.21170807,0.826457024,0.187671542,0.883691847,1.972316742,1.008963585,1.510476947,0.612448037,0.515236676,0.323129326,0.03350389,1.115337372\\r\\nBulgaria,Central and Eastern Europe,5.101500034,0.04422117,5.188173294,5.014826775,9.869318962,0.937840343,66.80397797,0.745178163,-0.143908441,0.935585141,1.972316742,1.046554685,1.460578918,0.777776897,0.417820066,0.103833713,0,1.294961452\\r\\nMorocco,Middle East and North Africa,5.094799995,0.05565045,5.203875065,4.985724926,8.940313339,0.592628479,65.89624023,0.772072434,-0.240377247,0.815724611,1.972316742,0.75862211,0.645208478,0.745096922,0.450054139,0.040032551,0.077385604,2.378402472\\r\\nCameroon,Sub-Saharan Africa,5.084899902,0.067296073,5.216800213,4.952999592,8.118647575,0.700386405,52.7049408,0.763051808,-0.00149645,0.851336598,1.972316742,0.503958046,0.89972645,0.270189553,0.439242482,0.198020101,0.054393422,2.719370842\\r\\nVenezuela,Latin America and Caribbean,5.053199768,0.06428051,5.179189682,4.927209854,8.977793694,0.890408158,66.50534058,0.62327832,-0.169090509,0.837038398,1.972316742,0.770238638,1.348546863,0.76702553,0.271717221,0.087179154,0.063624777,1.74484086\\r\\nAlgeria,Middle East and North Africa,5.005099773,0.044236008,5.09180212,4.918397427,9.537964821,0.803385139,65.90517426,0.466610909,-0.121105164,0.735485137,1.972316742,0.943856001,1.143003583,0.745418549,0.083943799,0.118915014,0.129190654,1.840811729\\r\\nSenegal,Sub-Saharan Africa,4.980800152,0.05276908,5.084227562,4.877372742,8.118982315,0.723616004,59.59915161,0.690596163,-0.052335154,0.808785141,1.972316742,0.504061818,0.95459342,0.518391907,0.352400899,0.164397135,0.081865937,2.405123949\\r\\nGuinea,Sub-Saharan Africa,4.949299812,0.073042229,5.09246254,4.806137085,7.750990391,0.637573481,54.46780014,0.706846774,0.076328471,0.761794448,1.972316742,0.390007734,0.75136596,0.333655238,0.371878058,0.249490842,0.112204559,2.740729809\\r\\nNiger,Sub-Saharan Africa,4.909599781,0.077208281,5.060927868,4.758271694,6.842166901,0.617435038,53.50009537,0.759772122,0.013860817,0.722530186,1.972316742,0.108330332,0.703800142,0.298816353,0.435311615,0.208176896,0.137554765,3.017630577\\r\\nLaos,Southeast Asia,4.888599873,0.040268615,4.967526436,4.809673309,8.79858017,0.737502217,58.70992279,0.907213569,0.11137148,0.634679317,1.972316742,0.714693844,0.987391889,0.486378282,0.612027287,0.27266711,0.194273964,1.621152639\\r\\nAlbania,Central and Eastern Europe,4.882699966,0.056115732,4.992686749,4.772713184,9.417930603,0.671070457,68.70813751,0.781994224,-0.042309489,0.896303713,1.972316742,0.906653047,0.830483913,0.846329629,0.461945891,0.171027765,0.025361285,1.640897036\\r\\nCambodia,Southeast Asia,4.848400116,0.058006871,4.962093353,4.734706879,8.249890327,0.773080647,61.52996826,0.959704638,0.051911179,0.822769046,1.972316742,0.544634938,1.071426034,0.587904334,0.674940348,0.233342081,0.072837502,1.663300037\\r\\nBangladesh,South Asia,4.832799911,0.040124193,4.911443233,4.75415659,8.287063599,0.687292993,64.50306702,0.90062499,-0.033664726,0.661843538,1.972316742,0.556156278,0.868800581,0.694940507,0.604130566,0.176745117,0.176735908,1.755261898\\r\\nGabon,Sub-Saharan Africa,4.829299927,0.060268242,4.947425842,4.711174011,9.680537224,0.787886858,59.71533966,0.704829216,-0.222261623,0.849150956,1.972316742,0.988044381,1.10639751,0.522574842,0.369459897,0.052013602,0.055804539,1.735027552\\r\\nSouth Africa,Sub-Saharan Africa,4.814099789,0.060023591,4.931746006,4.696453571,9.403370857,0.852532268,56.50601196,0.759330094,-0.109777324,0.843423843,1.972316742,0.902140439,1.259086251,0.407034069,0.43478182,0.126406848,0.05950214,1.625117302\\r\\nIraq,Middle East and North Africa,4.784800053,0.077791877,4.937272072,4.632328033,9.661095619,0.747694969,59.90354919,0.633182645,-0.06956476,0.82226181,1.972316742,0.982018709,1.011466622,0.529350698,0.283588052,0.153002068,0.073164992,1.752173662\\r\\nLebanon,Middle East and North Africa,4.771500111,0.043753985,4.857257843,4.685742378,9.3617239,0.824338138,67.10658264,0.551357508,-0.06121527,0.90225625,1.972316742,0.889232516,1.19249332,0.788671136,0.18551667,0.158524141,0.021518147,1.53554225\\r\\nBurkina Faso,Sub-Saharan Africa,4.768700123,0.062067267,4.890351772,4.647048473,7.46854496,0.712943614,53.88945389,0.665563583,-0.019080516,0.739795029,1.972316742,0.302467644,0.9293859,0.312833875,0.322398156,0.186390609,0.126408055,2.588826418\\r\\nGambia,Sub-Saharan Africa,4.750599861,0.067163654,4.882240772,4.61895895,7.321814537,0.6931687,55.0120163,0.733163178,0.343198717,0.690717816,1.972316742,0.256990552,0.882678688,0.353247881,0.403419524,0.425989687,0.158093795,2.270216465\\r\\nMali,Sub-Saharan Africa,4.729300022,0.064362764,4.855451107,4.603148937,7.629852295,0.731468976,51.72698212,0.71156615,-0.044366926,0.839328408,1.972316742,0.352462649,0.97314173,0.234981522,0.377534449,0.16966705,0.062146276,2.559335232\\r\\nNigeria,Sub-Saharan Africa,4.724100113,0.05211626,4.826248169,4.621952057,8.57662487,0.73721689,49.86190796,0.759578407,0.033745807,0.861874342,1.972316742,0.645901859,0.986717939,0.167835936,0.435079455,0.221328124,0.047589935,2.219635487\\r\\nArmenia,Commonwealth of Independent States,4.676799774,0.058595356,4.791646481,4.561953068,9.100476265,0.757479429,66.75065613,0.712017834,-0.13877961,0.773544788,1.972316742,0.808262408,1.034576893,0.77585727,0.378075808,0.107225738,0.104618184,1.468161583\\r\\nGeorgia,Commonwealth of Independent States,4.672599792,0.043417413,4.757698059,4.587501526,9.226100922,0.629033029,64.49520874,0.801641524,-0.22892037,0.665944695,1.972316742,0.847198069,0.7311939,0.694657624,0.485494107,0.047609735,0.174088076,1.69239831\\r\\nIran,Middle East and North Africa,4.672399998,0.055878021,4.78192091,4.562879086,9.813719749,0.694689691,66.00614929,0.647873282,0.117891103,0.714635968,1.972316742,1.029322505,0.886271179,0.749053836,0.301195472,0.27697894,0.142651513,1.286969423\\r\\nJordan,Middle East and North Africa,4.633399963,0.058751218,4.748552322,4.518247604,9.025999069,0.80216372,66.79975128,0.75104779,-0.162565202,0.700344324,1.972316742,0.785179198,1.140118599,0.777624726,0.424855083,0.091494769,0.151878625,1.262258053\\r\\nMozambique,Sub-Saharan Africa,4.623600006,0.079284087,4.778996944,4.468203068,7.069345951,0.723874032,54.20582199,0.864451885,0.032375868,0.683019102,1.972316742,0.178741366,0.955202878,0.324223638,0.56077534,0.220422104,0.163064316,2.221216202\\r\\nKenya,Sub-Saharan Africa,4.583000183,0.067804985,4.715898037,4.450102329,8.02977562,0.702652037,60.09693146,0.829747558,0.294681519,0.831499159,1.972316742,0.476413399,0.905077755,0.536312759,0.519180536,0.393902093,0.067201078,1.684904575\\r\\nNamibia,Sub-Saharan Africa,4.571100235,0.060983475,4.690628052,4.451572418,9.203141212,0.846880972,56.50148773,0.767520964,-0.18530646,0.851449788,1.972316742,0.84008199,1.245738149,0.40687117,0.444598973,0.076454483,0.054320343,1.503033161\\r\\nUkraine,Commonwealth of Independent States,4.56069994,0.049683895,4.658080578,4.463319302,9.010690689,0.878879368,64.60678101,0.663081884,-0.030933706,0.920636714,1.972316742,0.780434608,1.321316481,0.698674381,0.319423705,0.178551316,0.00965116,1.252669334\\r\\nLiberia,Sub-Saharan Africa,4.557899952,0.081956357,4.71853447,4.397265434,7.054380417,0.70928055,56.09631348,0.735268712,0.04227322,0.856375933,1.972316742,0.174103007,0.920733929,0.392284274,0.405943096,0.226967871,0.051139876,2.386757851\\r\\nPalestinian Territories,Middle East and North Africa,4.552800179,0.055874817,4.662314892,4.443285465,8.389223099,0.825295925,62.25,0.645791829,-0.162079096,0.824199975,1.972316742,0.587819219,1.194755554,0.613826573,0.29870075,0.091816261,0.071913652,1.693985701\\r\\nUganda,Sub-Saharan Africa,4.43200016,0.068495452,4.566251278,4.297749043,7.500389576,0.764994621,55.70820236,0.731713951,0.099487431,0.836737812,1.972316742,0.312337428,1.052327394,0.378311664,0.401682556,0.264807373,0.063818842,1.958671093\\r\\nChad,Sub-Saharan Africa,4.422699928,0.075231321,4.570153236,4.27524662,7.467963696,0.632388055,48.22053909,0.587305248,0.017834719,0.802760839,1.972316742,0.302287489,0.739118278,0.1087441,0.228601769,0.210805088,0.085755408,2.74742651\\r\\nTunisia,Middle East and North Africa,4.392199993,0.049670532,4.489554405,4.294845581,9.314972878,0.688718557,66.89785767,0.593361557,-0.216413811,0.867590249,1.972316742,0.874742687,0.872167706,0.781156719,0.235860556,0.055881143,0.043899573,1.528496742\\r\\nMauritania,Sub-Saharan Africa,4.374599934,0.055093341,4.482583046,4.266616821,8.233919144,0.790819228,57.01017761,0.551522553,-0.106008142,0.746223509,1.972316742,0.539684892,1.113323569,0.425184816,0.185714483,0.128899664,0.122257635,1.85955739\\r\\nSri Lanka,South Asia,4.327000141,0.053085525,4.431047916,4.222952366,9.389969826,0.825374067,67.20006561,0.837633669,0.081129618,0.859001756,1.972316742,0.897986948,1.19494009,0.792036712,0.528632462,0.252666146,0.049444564,0.611288548\\r\\nCongo (Kinshasa),Sub-Saharan Africa,4.31099987,0.108998232,4.524636269,4.097363472,6.694256306,0.672159016,52.90000153,0.700793564,0.083637655,0.809403598,1.972316742,0.062487468,0.833055019,0.277212054,0.36462298,0.254324883,0.081466645,2.437864304\\r\\nSwaziland,Sub-Saharan Africa,4.308100224,0.07145194,4.448145866,4.168054581,9.16267395,0.770290196,51.18823624,0.646822274,-0.19920142,0.708263338,1.972316742,0.827539742,1.064835191,0.215585828,0.299935788,0.067264833,0.146765873,1.686207294\\r\\nMyanmar,Southeast Asia,4.308000088,0.042949215,4.392180443,4.223819733,8.680481911,0.78440702,58.96171188,0.895075202,0.560663998,0.645124316,1.972316742,0.67809093,1.098178267,0.495443076,0.597478867,0.569813728,0.187530354,0.681462526\\r\\nComoros,Sub-Saharan Africa,4.288599968,0.084340192,4.453906536,4.1232934,7.833630085,0.625662446,57.34901047,0.547612607,0.090008408,0.780622602,1.972316742,0.415620774,0.723232806,0.437383324,0.181028232,0.258538276,0.100048535,2.17276907\\r\\nTogo,Sub-Saharan Africa,4.187200069,0.062506773,4.309713364,4.064686775,7.357711315,0.551312625,54.71989822,0.649828613,0.002667875,0.757733464,1.972316742,0.268116266,0.547622859,0.342731178,0.303539038,0.200774252,0.114826456,2.409595251\\r\\nEthiopia,Sub-Saharan Africa,4.186200142,0.038915094,4.262473583,4.109926701,7.509385586,0.743307352,58.63959122,0.740795195,0.043377332,0.753690004,1.972316742,0.315125644,1.001103282,0.483846247,0.41256687,0.227698103,0.117437035,1.628459215\\r\\nMadagascar,Sub-Saharan Africa,4.165599823,0.057542104,4.278382301,4.052817345,7.281685829,0.668195903,59.10542679,0.557574093,-0.011823639,0.817485631,1.972316742,0.244553208,0.823694348,0.500617027,0.192967549,0.191190064,0.076248638,2.136298418\\r\\nEgypt,Middle East and North Africa,4.151400089,0.035979424,4.221919537,4.080880642,9.316541672,0.735447824,61.78015137,0.708354175,-0.196878314,0.787726879,1.972316742,0.875228941,0.982539535,0.596911311,0.373684734,0.068801254,0.095461793,1.158818245\\r\\nSierra Leone,Sub-Saharan Africa,3.926399946,0.061150789,4.046255589,3.806544304,7.26880312,0.636142015,50.86514282,0.715315044,0.088660747,0.861330688,1.972316742,0.240560383,0.747984946,0.203953966,0.382027686,0.257647008,0.047940936,2.046271801\\r\\nBurundi,Sub-Saharan Africa,3.775300026,0.107122384,3.98526001,3.565340042,6.492642403,0.490325719,53.40000153,0.626350224,-0.017551597,0.606934547,1.972316742,0,0.403575271,0.295212835,0.275399059,0.187401786,0.212186828,2.401507378\\r\\nZambia,Sub-Saharan Africa,3.759399891,0.06067669,3.878326178,3.640473604,8.224720001,0.698824465,55.29937744,0.806500256,0.078037128,0.801289678,1.972316742,0.536833763,0.896037281,0.36359334,0.49131754,0.250620902,0.086705238,1.134339333\\r\\nHaiti,Latin America and Caribbean,3.720799923,0.101463005,3.919667482,3.521932364,7.411329269,0.593247831,55.59862518,0.537825167,0.40053457,0.684767246,1.972316742,0.284734428,0.646671355,0.37436673,0.169297516,0.463909656,0.161935672,1.619916916\\r\\nLesotho,Sub-Saharan Africa,3.652800083,0.082120985,3.813757181,3.491842985,7.960488319,0.780495703,48.00362396,0.738125861,-0.145732045,0.857392073,1.972316742,0.45493874,1.088940024,0.100934811,0.409367532,0.102627642,0.050483823,1.445513964\\r\\nIndia,South Asia,3.573299885,0.027702235,3.627596378,3.519003391,8.849823952,0.592200935,60.21518707,0.881444871,0.057551607,0.772042692,1.972316742,0.730576158,0.644198656,0.54057014,0.581142247,0.237072483,0.105587982,0.734130859\\r\\nMalawi,Sub-Saharan Africa,3.538000107,0.070260517,3.675710678,3.400289536,7.062226295,0.544007301,57.59288788,0.803223193,0.021433279,0.731700778,1.972316742,0.176534727,0.53036809,0.446163297,0.487389833,0.213185057,0.131633952,1.552718282\\r\\nYemen,Middle East and North Africa,3.527400017,0.054158084,3.633549929,3.421250105,7.759682655,0.817980587,56.72728348,0.599920273,-0.157735437,0.800287724,1.972316742,0.392701775,1.177477121,0.41500017,0.243721485,0.094689012,0.087352127,1.116472721\\r\\nBotswana,Sub-Saharan Africa,3.478899956,0.060542691,3.597563744,3.360236168,9.711203575,0.779121757,58.92445374,0.821328104,-0.250394493,0.777930915,1.972316742,0.997548997,1.08569479,0.494101733,0.50908941,0.033407487,0.101786368,0.257240534\\r\\nTanzania,Sub-Saharan Africa,3.476200104,0.06320975,3.600091219,3.352308989,7.967665195,0.688933194,57.49607468,0.82153976,0.109668687,0.619799435,1.972316742,0.457163125,0.872674644,0.442677855,0.509343088,0.27154091,0.203880861,0.718963385\\r\\nCentral African Republic,Sub-Saharan Africa,3.475899935,0.115182951,3.701658487,3.250141382,6.625160217,0.319459856,45.20000076,0.640880644,0.082410358,0.891806662,1.972316742,0.041072082,0,0,0.292814463,0.253513217,0.028264718,2.860197544\\r\\nRwanda,Sub-Saharan Africa,3.312299967,0.052425209,3.415053368,3.209546566,7.600104332,0.54083544,61.09884644,0.900589406,0.055483952,0.183541179,1.972316742,0.343242675,0.522876322,0.572383285,0.604087889,0.235704988,0.485542476,0.548444986\\r\\nZimbabwe,Sub-Saharan Africa,3.299200058,0.058674462,3.414201975,3.184198141,7.865711689,0.763092756,55.61725998,0.711457908,-0.072063953,0.81023699,1.972316742,0.425564021,1.047835231,0.375037611,0.37740472,0.151349187,0.080928579,0.841031075\\r\\nSouth Sudan,Sub-Saharan Africa,2.816600084,0.107610404,3.027516365,2.605683804,7.425359726,0.553707123,51,0.451313615,0.016518548,0.763417304,1.972316742,0.289082974,0.553278506,0.208809033,0.065609254,0.209934607,0.111156799,1.378751278\\r\\nAfghanistan,South Asia,2.566900015,0.031311426,2.628270388,2.505529642,7.462860584,0.470366955,52.59000015,0.396573007,-0.0964294,0.933686554,1.972316742,0.30070585,0.356433839,0.266051531,0,0.135234714,0.001225785,1.507235646\\r\\n'}"
            ]
          },
          "metadata": {},
          "execution_count": 3
        }
      ]
    },
    {
      "cell_type": "code",
      "source": [
        "import warnings\n",
        "warnings.filterwarnings('ignore')"
      ],
      "metadata": {
        "id": "5Y_5upFIlTrs"
      },
      "execution_count": null,
      "outputs": []
    },
    {
      "cell_type": "code",
      "source": [
        "x = 2015\n",
        "dff = []\n",
        "while True:\n",
        "    globals()[f'df{x}'] = pd.read_csv(f'{x}.csv')\n",
        "    dff.append(globals()[f'df{x}'])\n",
        "    x += 1\n",
        "    if x == 2020:\n",
        "        break"
      ],
      "metadata": {
        "id": "Rge_0hFpl7r0"
      },
      "execution_count": null,
      "outputs": []
    },
    {
      "cell_type": "code",
      "source": [
        "for i, df in enumerate(dff):\n",
        "    print (f'201{i+5} dataset:')\n",
        "    display (dff[i].head(3))"
      ],
      "metadata": {
        "colab": {
          "base_uri": "https://localhost:8080/",
          "height": 1000
        },
        "id": "OQoZBF0QmHOG",
        "outputId": "eb05eabf-2eab-49b4-eeee-d02e4213fa6f"
      },
      "execution_count": null,
      "outputs": [
        {
          "output_type": "stream",
          "name": "stdout",
          "text": [
            "2015 dataset:\n"
          ]
        },
        {
          "output_type": "display_data",
          "data": {
            "text/html": [
              "<div>\n",
              "<style scoped>\n",
              "    .dataframe tbody tr th:only-of-type {\n",
              "        vertical-align: middle;\n",
              "    }\n",
              "\n",
              "    .dataframe tbody tr th {\n",
              "        vertical-align: top;\n",
              "    }\n",
              "\n",
              "    .dataframe thead th {\n",
              "        text-align: right;\n",
              "    }\n",
              "</style>\n",
              "<table border=\"1\" class=\"dataframe\">\n",
              "  <thead>\n",
              "    <tr style=\"text-align: right;\">\n",
              "      <th></th>\n",
              "      <th>Country</th>\n",
              "      <th>Region</th>\n",
              "      <th>Happiness Rank</th>\n",
              "      <th>Happiness Score</th>\n",
              "      <th>Standard Error</th>\n",
              "      <th>Economy (GDP per Capita)</th>\n",
              "      <th>Family</th>\n",
              "      <th>Health (Life Expectancy)</th>\n",
              "      <th>Freedom</th>\n",
              "      <th>Trust (Government Corruption)</th>\n",
              "      <th>Generosity</th>\n",
              "      <th>Dystopia Residual</th>\n",
              "    </tr>\n",
              "  </thead>\n",
              "  <tbody>\n",
              "    <tr>\n",
              "      <th>0</th>\n",
              "      <td>Switzerland</td>\n",
              "      <td>Western Europe</td>\n",
              "      <td>1</td>\n",
              "      <td>7.587</td>\n",
              "      <td>0.03411</td>\n",
              "      <td>1.39651</td>\n",
              "      <td>1.34951</td>\n",
              "      <td>0.94143</td>\n",
              "      <td>0.66557</td>\n",
              "      <td>0.41978</td>\n",
              "      <td>0.29678</td>\n",
              "      <td>2.51738</td>\n",
              "    </tr>\n",
              "    <tr>\n",
              "      <th>1</th>\n",
              "      <td>Iceland</td>\n",
              "      <td>Western Europe</td>\n",
              "      <td>2</td>\n",
              "      <td>7.561</td>\n",
              "      <td>0.04884</td>\n",
              "      <td>1.30232</td>\n",
              "      <td>1.40223</td>\n",
              "      <td>0.94784</td>\n",
              "      <td>0.62877</td>\n",
              "      <td>0.14145</td>\n",
              "      <td>0.43630</td>\n",
              "      <td>2.70201</td>\n",
              "    </tr>\n",
              "    <tr>\n",
              "      <th>2</th>\n",
              "      <td>Denmark</td>\n",
              "      <td>Western Europe</td>\n",
              "      <td>3</td>\n",
              "      <td>7.527</td>\n",
              "      <td>0.03328</td>\n",
              "      <td>1.32548</td>\n",
              "      <td>1.36058</td>\n",
              "      <td>0.87464</td>\n",
              "      <td>0.64938</td>\n",
              "      <td>0.48357</td>\n",
              "      <td>0.34139</td>\n",
              "      <td>2.49204</td>\n",
              "    </tr>\n",
              "  </tbody>\n",
              "</table>\n",
              "</div>"
            ],
            "text/plain": [
              "       Country          Region  ...  Generosity  Dystopia Residual\n",
              "0  Switzerland  Western Europe  ...     0.29678            2.51738\n",
              "1      Iceland  Western Europe  ...     0.43630            2.70201\n",
              "2      Denmark  Western Europe  ...     0.34139            2.49204\n",
              "\n",
              "[3 rows x 12 columns]"
            ]
          },
          "metadata": {}
        },
        {
          "output_type": "stream",
          "name": "stdout",
          "text": [
            "2016 dataset:\n"
          ]
        },
        {
          "output_type": "display_data",
          "data": {
            "text/html": [
              "<div>\n",
              "<style scoped>\n",
              "    .dataframe tbody tr th:only-of-type {\n",
              "        vertical-align: middle;\n",
              "    }\n",
              "\n",
              "    .dataframe tbody tr th {\n",
              "        vertical-align: top;\n",
              "    }\n",
              "\n",
              "    .dataframe thead th {\n",
              "        text-align: right;\n",
              "    }\n",
              "</style>\n",
              "<table border=\"1\" class=\"dataframe\">\n",
              "  <thead>\n",
              "    <tr style=\"text-align: right;\">\n",
              "      <th></th>\n",
              "      <th>Country</th>\n",
              "      <th>Region</th>\n",
              "      <th>Happiness Rank</th>\n",
              "      <th>Happiness Score</th>\n",
              "      <th>Lower Confidence Interval</th>\n",
              "      <th>Upper Confidence Interval</th>\n",
              "      <th>Economy (GDP per Capita)</th>\n",
              "      <th>Family</th>\n",
              "      <th>Health (Life Expectancy)</th>\n",
              "      <th>Freedom</th>\n",
              "      <th>Trust (Government Corruption)</th>\n",
              "      <th>Generosity</th>\n",
              "      <th>Dystopia Residual</th>\n",
              "    </tr>\n",
              "  </thead>\n",
              "  <tbody>\n",
              "    <tr>\n",
              "      <th>0</th>\n",
              "      <td>Denmark</td>\n",
              "      <td>Western Europe</td>\n",
              "      <td>1</td>\n",
              "      <td>7.526</td>\n",
              "      <td>7.460</td>\n",
              "      <td>7.592</td>\n",
              "      <td>1.44178</td>\n",
              "      <td>1.16374</td>\n",
              "      <td>0.79504</td>\n",
              "      <td>0.57941</td>\n",
              "      <td>0.44453</td>\n",
              "      <td>0.36171</td>\n",
              "      <td>2.73939</td>\n",
              "    </tr>\n",
              "    <tr>\n",
              "      <th>1</th>\n",
              "      <td>Switzerland</td>\n",
              "      <td>Western Europe</td>\n",
              "      <td>2</td>\n",
              "      <td>7.509</td>\n",
              "      <td>7.428</td>\n",
              "      <td>7.590</td>\n",
              "      <td>1.52733</td>\n",
              "      <td>1.14524</td>\n",
              "      <td>0.86303</td>\n",
              "      <td>0.58557</td>\n",
              "      <td>0.41203</td>\n",
              "      <td>0.28083</td>\n",
              "      <td>2.69463</td>\n",
              "    </tr>\n",
              "    <tr>\n",
              "      <th>2</th>\n",
              "      <td>Iceland</td>\n",
              "      <td>Western Europe</td>\n",
              "      <td>3</td>\n",
              "      <td>7.501</td>\n",
              "      <td>7.333</td>\n",
              "      <td>7.669</td>\n",
              "      <td>1.42666</td>\n",
              "      <td>1.18326</td>\n",
              "      <td>0.86733</td>\n",
              "      <td>0.56624</td>\n",
              "      <td>0.14975</td>\n",
              "      <td>0.47678</td>\n",
              "      <td>2.83137</td>\n",
              "    </tr>\n",
              "  </tbody>\n",
              "</table>\n",
              "</div>"
            ],
            "text/plain": [
              "       Country          Region  ...  Generosity  Dystopia Residual\n",
              "0      Denmark  Western Europe  ...     0.36171            2.73939\n",
              "1  Switzerland  Western Europe  ...     0.28083            2.69463\n",
              "2      Iceland  Western Europe  ...     0.47678            2.83137\n",
              "\n",
              "[3 rows x 13 columns]"
            ]
          },
          "metadata": {}
        },
        {
          "output_type": "stream",
          "name": "stdout",
          "text": [
            "2017 dataset:\n"
          ]
        },
        {
          "output_type": "display_data",
          "data": {
            "text/html": [
              "<div>\n",
              "<style scoped>\n",
              "    .dataframe tbody tr th:only-of-type {\n",
              "        vertical-align: middle;\n",
              "    }\n",
              "\n",
              "    .dataframe tbody tr th {\n",
              "        vertical-align: top;\n",
              "    }\n",
              "\n",
              "    .dataframe thead th {\n",
              "        text-align: right;\n",
              "    }\n",
              "</style>\n",
              "<table border=\"1\" class=\"dataframe\">\n",
              "  <thead>\n",
              "    <tr style=\"text-align: right;\">\n",
              "      <th></th>\n",
              "      <th>Country</th>\n",
              "      <th>Happiness.Rank</th>\n",
              "      <th>Happiness.Score</th>\n",
              "      <th>Whisker.high</th>\n",
              "      <th>Whisker.low</th>\n",
              "      <th>Economy..GDP.per.Capita.</th>\n",
              "      <th>Family</th>\n",
              "      <th>Health..Life.Expectancy.</th>\n",
              "      <th>Freedom</th>\n",
              "      <th>Generosity</th>\n",
              "      <th>Trust..Government.Corruption.</th>\n",
              "      <th>Dystopia.Residual</th>\n",
              "    </tr>\n",
              "  </thead>\n",
              "  <tbody>\n",
              "    <tr>\n",
              "      <th>0</th>\n",
              "      <td>Norway</td>\n",
              "      <td>1</td>\n",
              "      <td>7.537</td>\n",
              "      <td>7.594445</td>\n",
              "      <td>7.479556</td>\n",
              "      <td>1.616463</td>\n",
              "      <td>1.533524</td>\n",
              "      <td>0.796667</td>\n",
              "      <td>0.635423</td>\n",
              "      <td>0.362012</td>\n",
              "      <td>0.315964</td>\n",
              "      <td>2.277027</td>\n",
              "    </tr>\n",
              "    <tr>\n",
              "      <th>1</th>\n",
              "      <td>Denmark</td>\n",
              "      <td>2</td>\n",
              "      <td>7.522</td>\n",
              "      <td>7.581728</td>\n",
              "      <td>7.462272</td>\n",
              "      <td>1.482383</td>\n",
              "      <td>1.551122</td>\n",
              "      <td>0.792566</td>\n",
              "      <td>0.626007</td>\n",
              "      <td>0.355280</td>\n",
              "      <td>0.400770</td>\n",
              "      <td>2.313707</td>\n",
              "    </tr>\n",
              "    <tr>\n",
              "      <th>2</th>\n",
              "      <td>Iceland</td>\n",
              "      <td>3</td>\n",
              "      <td>7.504</td>\n",
              "      <td>7.622030</td>\n",
              "      <td>7.385970</td>\n",
              "      <td>1.480633</td>\n",
              "      <td>1.610574</td>\n",
              "      <td>0.833552</td>\n",
              "      <td>0.627163</td>\n",
              "      <td>0.475540</td>\n",
              "      <td>0.153527</td>\n",
              "      <td>2.322715</td>\n",
              "    </tr>\n",
              "  </tbody>\n",
              "</table>\n",
              "</div>"
            ],
            "text/plain": [
              "   Country  Happiness.Rank  ...  Trust..Government.Corruption.  Dystopia.Residual\n",
              "0   Norway               1  ...                       0.315964           2.277027\n",
              "1  Denmark               2  ...                       0.400770           2.313707\n",
              "2  Iceland               3  ...                       0.153527           2.322715\n",
              "\n",
              "[3 rows x 12 columns]"
            ]
          },
          "metadata": {}
        },
        {
          "output_type": "stream",
          "name": "stdout",
          "text": [
            "2018 dataset:\n"
          ]
        },
        {
          "output_type": "display_data",
          "data": {
            "text/html": [
              "<div>\n",
              "<style scoped>\n",
              "    .dataframe tbody tr th:only-of-type {\n",
              "        vertical-align: middle;\n",
              "    }\n",
              "\n",
              "    .dataframe tbody tr th {\n",
              "        vertical-align: top;\n",
              "    }\n",
              "\n",
              "    .dataframe thead th {\n",
              "        text-align: right;\n",
              "    }\n",
              "</style>\n",
              "<table border=\"1\" class=\"dataframe\">\n",
              "  <thead>\n",
              "    <tr style=\"text-align: right;\">\n",
              "      <th></th>\n",
              "      <th>Overall rank</th>\n",
              "      <th>Country or region</th>\n",
              "      <th>Score</th>\n",
              "      <th>GDP per capita</th>\n",
              "      <th>Social support</th>\n",
              "      <th>Healthy life expectancy</th>\n",
              "      <th>Freedom to make life choices</th>\n",
              "      <th>Generosity</th>\n",
              "      <th>Perceptions of corruption</th>\n",
              "    </tr>\n",
              "  </thead>\n",
              "  <tbody>\n",
              "    <tr>\n",
              "      <th>0</th>\n",
              "      <td>1</td>\n",
              "      <td>Finland</td>\n",
              "      <td>7.632</td>\n",
              "      <td>1.305</td>\n",
              "      <td>1.592</td>\n",
              "      <td>0.874</td>\n",
              "      <td>0.681</td>\n",
              "      <td>0.202</td>\n",
              "      <td>0.393</td>\n",
              "    </tr>\n",
              "    <tr>\n",
              "      <th>1</th>\n",
              "      <td>2</td>\n",
              "      <td>Norway</td>\n",
              "      <td>7.594</td>\n",
              "      <td>1.456</td>\n",
              "      <td>1.582</td>\n",
              "      <td>0.861</td>\n",
              "      <td>0.686</td>\n",
              "      <td>0.286</td>\n",
              "      <td>0.340</td>\n",
              "    </tr>\n",
              "    <tr>\n",
              "      <th>2</th>\n",
              "      <td>3</td>\n",
              "      <td>Denmark</td>\n",
              "      <td>7.555</td>\n",
              "      <td>1.351</td>\n",
              "      <td>1.590</td>\n",
              "      <td>0.868</td>\n",
              "      <td>0.683</td>\n",
              "      <td>0.284</td>\n",
              "      <td>0.408</td>\n",
              "    </tr>\n",
              "  </tbody>\n",
              "</table>\n",
              "</div>"
            ],
            "text/plain": [
              "   Overall rank Country or region  ...  Generosity  Perceptions of corruption\n",
              "0             1           Finland  ...       0.202                      0.393\n",
              "1             2            Norway  ...       0.286                      0.340\n",
              "2             3           Denmark  ...       0.284                      0.408\n",
              "\n",
              "[3 rows x 9 columns]"
            ]
          },
          "metadata": {}
        },
        {
          "output_type": "stream",
          "name": "stdout",
          "text": [
            "2019 dataset:\n"
          ]
        },
        {
          "output_type": "display_data",
          "data": {
            "text/html": [
              "<div>\n",
              "<style scoped>\n",
              "    .dataframe tbody tr th:only-of-type {\n",
              "        vertical-align: middle;\n",
              "    }\n",
              "\n",
              "    .dataframe tbody tr th {\n",
              "        vertical-align: top;\n",
              "    }\n",
              "\n",
              "    .dataframe thead th {\n",
              "        text-align: right;\n",
              "    }\n",
              "</style>\n",
              "<table border=\"1\" class=\"dataframe\">\n",
              "  <thead>\n",
              "    <tr style=\"text-align: right;\">\n",
              "      <th></th>\n",
              "      <th>Overall rank</th>\n",
              "      <th>Country or region</th>\n",
              "      <th>Score</th>\n",
              "      <th>GDP per capita</th>\n",
              "      <th>Social support</th>\n",
              "      <th>Healthy life expectancy</th>\n",
              "      <th>Freedom to make life choices</th>\n",
              "      <th>Generosity</th>\n",
              "      <th>Perceptions of corruption</th>\n",
              "    </tr>\n",
              "  </thead>\n",
              "  <tbody>\n",
              "    <tr>\n",
              "      <th>0</th>\n",
              "      <td>1</td>\n",
              "      <td>Finland</td>\n",
              "      <td>7.769</td>\n",
              "      <td>1.340</td>\n",
              "      <td>1.587</td>\n",
              "      <td>0.986</td>\n",
              "      <td>0.596</td>\n",
              "      <td>0.153</td>\n",
              "      <td>0.393</td>\n",
              "    </tr>\n",
              "    <tr>\n",
              "      <th>1</th>\n",
              "      <td>2</td>\n",
              "      <td>Denmark</td>\n",
              "      <td>7.600</td>\n",
              "      <td>1.383</td>\n",
              "      <td>1.573</td>\n",
              "      <td>0.996</td>\n",
              "      <td>0.592</td>\n",
              "      <td>0.252</td>\n",
              "      <td>0.410</td>\n",
              "    </tr>\n",
              "    <tr>\n",
              "      <th>2</th>\n",
              "      <td>3</td>\n",
              "      <td>Norway</td>\n",
              "      <td>7.554</td>\n",
              "      <td>1.488</td>\n",
              "      <td>1.582</td>\n",
              "      <td>1.028</td>\n",
              "      <td>0.603</td>\n",
              "      <td>0.271</td>\n",
              "      <td>0.341</td>\n",
              "    </tr>\n",
              "  </tbody>\n",
              "</table>\n",
              "</div>"
            ],
            "text/plain": [
              "   Overall rank Country or region  ...  Generosity  Perceptions of corruption\n",
              "0             1           Finland  ...       0.153                      0.393\n",
              "1             2           Denmark  ...       0.252                      0.410\n",
              "2             3            Norway  ...       0.271                      0.341\n",
              "\n",
              "[3 rows x 9 columns]"
            ]
          },
          "metadata": {}
        }
      ]
    },
    {
      "cell_type": "code",
      "source": [
        "df2015.rename(columns = {'Economy (GDP per Capita)' : 'GDP',\n",
        "                        'Health (Life Expectancy)' : 'Life',\n",
        "                        'Trust (Government Corruption)' : 'Trust'}, inplace = True)"
      ],
      "metadata": {
        "id": "To6oDd_UmWvU"
      },
      "execution_count": null,
      "outputs": []
    },
    {
      "cell_type": "code",
      "source": [
        "df2016.rename(columns = {'Economy (GDP per Capita)' : 'GDP',\n",
        "                        'Health (Life Expectancy)' : 'Life',\n",
        "                        'Trust (Government Corruption)' : 'Trust'}, inplace = True)"
      ],
      "metadata": {
        "id": "7Ygakv5vmZd9"
      },
      "execution_count": null,
      "outputs": []
    },
    {
      "cell_type": "code",
      "source": [
        "df2017.rename(columns = {'Happiness.Rank' : 'Happiness Rank',\n",
        "                        'Happiness.Score' : 'Happiness Score',\n",
        "                        'Economy..GDP.per.Capita.' : 'GDP',\n",
        "                        'Health..Life.Expectancy.' : 'Life',\n",
        "                        'Dystopia.Residual' : 'Dystopia Residual',\n",
        "                        'Trust..Government.Corruption.' : 'Trust'}, inplace = True)"
      ],
      "metadata": {
        "id": "xkoVWl0gmbKd"
      },
      "execution_count": null,
      "outputs": []
    },
    {
      "cell_type": "code",
      "source": [
        "df2018.rename(columns = {'Overall rank' : 'Happiness Rank',\n",
        "                        'Score' : 'Happiness Score',\n",
        "                        'Country or region' : 'Country',\n",
        "                        'Social support' : 'Family',\n",
        "                        'Freedom to make life choices' : 'Freedom',\n",
        "                        'GDP per capita' : 'GDP',\n",
        "                        'Healthy life expectancy' : 'Life',\n",
        "                        'Perceptions of corruption' : 'Trust'}, inplace = True)"
      ],
      "metadata": {
        "id": "wkHXa5jNmchk"
      },
      "execution_count": null,
      "outputs": []
    },
    {
      "cell_type": "code",
      "source": [
        "df2019.rename(columns = {'Overall rank' : 'Happiness Rank',\n",
        "                        'Score' : 'Happiness Score',\n",
        "                        'Country or region' : 'Country',\n",
        "                        'Social support' : 'Family',\n",
        "                        'Freedom to make life choices' : 'Freedom',\n",
        "                        'GDP per capita' : 'GDP',\n",
        "                        'Healthy life expectancy' : 'Life',\n",
        "                        'Perceptions of corruption' : 'Trust'}, inplace = True)"
      ],
      "metadata": {
        "id": "C6mmGofHmdxm"
      },
      "execution_count": null,
      "outputs": []
    },
    {
      "cell_type": "code",
      "source": [
        "df2016"
      ],
      "metadata": {
        "colab": {
          "base_uri": "https://localhost:8080/",
          "height": 738
        },
        "id": "IfpmonaGmhEQ",
        "outputId": "e1c0b456-0bb5-48ac-cc72-d6f8289236a8"
      },
      "execution_count": null,
      "outputs": [
        {
          "output_type": "execute_result",
          "data": {
            "text/html": [
              "<div>\n",
              "<style scoped>\n",
              "    .dataframe tbody tr th:only-of-type {\n",
              "        vertical-align: middle;\n",
              "    }\n",
              "\n",
              "    .dataframe tbody tr th {\n",
              "        vertical-align: top;\n",
              "    }\n",
              "\n",
              "    .dataframe thead th {\n",
              "        text-align: right;\n",
              "    }\n",
              "</style>\n",
              "<table border=\"1\" class=\"dataframe\">\n",
              "  <thead>\n",
              "    <tr style=\"text-align: right;\">\n",
              "      <th></th>\n",
              "      <th>Country</th>\n",
              "      <th>Region</th>\n",
              "      <th>Happiness Rank</th>\n",
              "      <th>Happiness Score</th>\n",
              "      <th>Lower Confidence Interval</th>\n",
              "      <th>Upper Confidence Interval</th>\n",
              "      <th>GDP</th>\n",
              "      <th>Family</th>\n",
              "      <th>Life</th>\n",
              "      <th>Freedom</th>\n",
              "      <th>Trust</th>\n",
              "      <th>Generosity</th>\n",
              "      <th>Dystopia Residual</th>\n",
              "    </tr>\n",
              "  </thead>\n",
              "  <tbody>\n",
              "    <tr>\n",
              "      <th>0</th>\n",
              "      <td>Denmark</td>\n",
              "      <td>Western Europe</td>\n",
              "      <td>1</td>\n",
              "      <td>7.526</td>\n",
              "      <td>7.460</td>\n",
              "      <td>7.592</td>\n",
              "      <td>1.44178</td>\n",
              "      <td>1.16374</td>\n",
              "      <td>0.79504</td>\n",
              "      <td>0.57941</td>\n",
              "      <td>0.44453</td>\n",
              "      <td>0.36171</td>\n",
              "      <td>2.73939</td>\n",
              "    </tr>\n",
              "    <tr>\n",
              "      <th>1</th>\n",
              "      <td>Switzerland</td>\n",
              "      <td>Western Europe</td>\n",
              "      <td>2</td>\n",
              "      <td>7.509</td>\n",
              "      <td>7.428</td>\n",
              "      <td>7.590</td>\n",
              "      <td>1.52733</td>\n",
              "      <td>1.14524</td>\n",
              "      <td>0.86303</td>\n",
              "      <td>0.58557</td>\n",
              "      <td>0.41203</td>\n",
              "      <td>0.28083</td>\n",
              "      <td>2.69463</td>\n",
              "    </tr>\n",
              "    <tr>\n",
              "      <th>2</th>\n",
              "      <td>Iceland</td>\n",
              "      <td>Western Europe</td>\n",
              "      <td>3</td>\n",
              "      <td>7.501</td>\n",
              "      <td>7.333</td>\n",
              "      <td>7.669</td>\n",
              "      <td>1.42666</td>\n",
              "      <td>1.18326</td>\n",
              "      <td>0.86733</td>\n",
              "      <td>0.56624</td>\n",
              "      <td>0.14975</td>\n",
              "      <td>0.47678</td>\n",
              "      <td>2.83137</td>\n",
              "    </tr>\n",
              "    <tr>\n",
              "      <th>3</th>\n",
              "      <td>Norway</td>\n",
              "      <td>Western Europe</td>\n",
              "      <td>4</td>\n",
              "      <td>7.498</td>\n",
              "      <td>7.421</td>\n",
              "      <td>7.575</td>\n",
              "      <td>1.57744</td>\n",
              "      <td>1.12690</td>\n",
              "      <td>0.79579</td>\n",
              "      <td>0.59609</td>\n",
              "      <td>0.35776</td>\n",
              "      <td>0.37895</td>\n",
              "      <td>2.66465</td>\n",
              "    </tr>\n",
              "    <tr>\n",
              "      <th>4</th>\n",
              "      <td>Finland</td>\n",
              "      <td>Western Europe</td>\n",
              "      <td>5</td>\n",
              "      <td>7.413</td>\n",
              "      <td>7.351</td>\n",
              "      <td>7.475</td>\n",
              "      <td>1.40598</td>\n",
              "      <td>1.13464</td>\n",
              "      <td>0.81091</td>\n",
              "      <td>0.57104</td>\n",
              "      <td>0.41004</td>\n",
              "      <td>0.25492</td>\n",
              "      <td>2.82596</td>\n",
              "    </tr>\n",
              "    <tr>\n",
              "      <th>...</th>\n",
              "      <td>...</td>\n",
              "      <td>...</td>\n",
              "      <td>...</td>\n",
              "      <td>...</td>\n",
              "      <td>...</td>\n",
              "      <td>...</td>\n",
              "      <td>...</td>\n",
              "      <td>...</td>\n",
              "      <td>...</td>\n",
              "      <td>...</td>\n",
              "      <td>...</td>\n",
              "      <td>...</td>\n",
              "      <td>...</td>\n",
              "    </tr>\n",
              "    <tr>\n",
              "      <th>152</th>\n",
              "      <td>Benin</td>\n",
              "      <td>Sub-Saharan Africa</td>\n",
              "      <td>153</td>\n",
              "      <td>3.484</td>\n",
              "      <td>3.404</td>\n",
              "      <td>3.564</td>\n",
              "      <td>0.39499</td>\n",
              "      <td>0.10419</td>\n",
              "      <td>0.21028</td>\n",
              "      <td>0.39747</td>\n",
              "      <td>0.06681</td>\n",
              "      <td>0.20180</td>\n",
              "      <td>2.10812</td>\n",
              "    </tr>\n",
              "    <tr>\n",
              "      <th>153</th>\n",
              "      <td>Afghanistan</td>\n",
              "      <td>Southern Asia</td>\n",
              "      <td>154</td>\n",
              "      <td>3.360</td>\n",
              "      <td>3.288</td>\n",
              "      <td>3.432</td>\n",
              "      <td>0.38227</td>\n",
              "      <td>0.11037</td>\n",
              "      <td>0.17344</td>\n",
              "      <td>0.16430</td>\n",
              "      <td>0.07112</td>\n",
              "      <td>0.31268</td>\n",
              "      <td>2.14558</td>\n",
              "    </tr>\n",
              "    <tr>\n",
              "      <th>154</th>\n",
              "      <td>Togo</td>\n",
              "      <td>Sub-Saharan Africa</td>\n",
              "      <td>155</td>\n",
              "      <td>3.303</td>\n",
              "      <td>3.192</td>\n",
              "      <td>3.414</td>\n",
              "      <td>0.28123</td>\n",
              "      <td>0.00000</td>\n",
              "      <td>0.24811</td>\n",
              "      <td>0.34678</td>\n",
              "      <td>0.11587</td>\n",
              "      <td>0.17517</td>\n",
              "      <td>2.13540</td>\n",
              "    </tr>\n",
              "    <tr>\n",
              "      <th>155</th>\n",
              "      <td>Syria</td>\n",
              "      <td>Middle East and Northern Africa</td>\n",
              "      <td>156</td>\n",
              "      <td>3.069</td>\n",
              "      <td>2.936</td>\n",
              "      <td>3.202</td>\n",
              "      <td>0.74719</td>\n",
              "      <td>0.14866</td>\n",
              "      <td>0.62994</td>\n",
              "      <td>0.06912</td>\n",
              "      <td>0.17233</td>\n",
              "      <td>0.48397</td>\n",
              "      <td>0.81789</td>\n",
              "    </tr>\n",
              "    <tr>\n",
              "      <th>156</th>\n",
              "      <td>Burundi</td>\n",
              "      <td>Sub-Saharan Africa</td>\n",
              "      <td>157</td>\n",
              "      <td>2.905</td>\n",
              "      <td>2.732</td>\n",
              "      <td>3.078</td>\n",
              "      <td>0.06831</td>\n",
              "      <td>0.23442</td>\n",
              "      <td>0.15747</td>\n",
              "      <td>0.04320</td>\n",
              "      <td>0.09419</td>\n",
              "      <td>0.20290</td>\n",
              "      <td>2.10404</td>\n",
              "    </tr>\n",
              "  </tbody>\n",
              "</table>\n",
              "<p>157 rows × 13 columns</p>\n",
              "</div>"
            ],
            "text/plain": [
              "         Country  ... Dystopia Residual\n",
              "0        Denmark  ...           2.73939\n",
              "1    Switzerland  ...           2.69463\n",
              "2        Iceland  ...           2.83137\n",
              "3         Norway  ...           2.66465\n",
              "4        Finland  ...           2.82596\n",
              "..           ...  ...               ...\n",
              "152        Benin  ...           2.10812\n",
              "153  Afghanistan  ...           2.14558\n",
              "154         Togo  ...           2.13540\n",
              "155        Syria  ...           0.81789\n",
              "156      Burundi  ...           2.10404\n",
              "\n",
              "[157 rows x 13 columns]"
            ]
          },
          "metadata": {},
          "execution_count": 13
        }
      ]
    },
    {
      "cell_type": "code",
      "source": [
        "for i, df in enumerate(dff, 2015):\n",
        "    df['Year'] = i"
      ],
      "metadata": {
        "id": "3MtXJ24umj5f"
      },
      "execution_count": null,
      "outputs": []
    },
    {
      "cell_type": "code",
      "source": [
        "for df in dff:\n",
        "    if not ('Region') in df:\n",
        "        df['Region'] = None\n",
        "        temp = df.set_index('Country').Region.fillna(df2015.set_index('Country').Region).reset_index()\n",
        "        df.fillna(temp, inplace = True)"
      ],
      "metadata": {
        "id": "rALX98PYmtyB"
      },
      "execution_count": null,
      "outputs": []
    },
    {
      "cell_type": "code",
      "source": [
        "for i, df in enumerate(dff, 2015):\n",
        "    print ('\\n' f'df{i} dataset:' '\\n', df.isnull().sum())"
      ],
      "metadata": {
        "colab": {
          "base_uri": "https://localhost:8080/"
        },
        "id": "7RwF3jGbmvBx",
        "outputId": "c3da311e-d79a-414a-8080-efbba06d3c0d"
      },
      "execution_count": null,
      "outputs": [
        {
          "output_type": "stream",
          "name": "stdout",
          "text": [
            "\n",
            "df2015 dataset:\n",
            " Country              0\n",
            "Region               0\n",
            "Happiness Rank       0\n",
            "Happiness Score      0\n",
            "Standard Error       0\n",
            "GDP                  0\n",
            "Family               0\n",
            "Life                 0\n",
            "Freedom              0\n",
            "Trust                0\n",
            "Generosity           0\n",
            "Dystopia Residual    0\n",
            "Year                 0\n",
            "dtype: int64\n",
            "\n",
            "df2016 dataset:\n",
            " Country                      0\n",
            "Region                       0\n",
            "Happiness Rank               0\n",
            "Happiness Score              0\n",
            "Lower Confidence Interval    0\n",
            "Upper Confidence Interval    0\n",
            "GDP                          0\n",
            "Family                       0\n",
            "Life                         0\n",
            "Freedom                      0\n",
            "Trust                        0\n",
            "Generosity                   0\n",
            "Dystopia Residual            0\n",
            "Year                         0\n",
            "dtype: int64\n",
            "\n",
            "df2017 dataset:\n",
            " Country              0\n",
            "Happiness Rank       0\n",
            "Happiness Score      0\n",
            "Whisker.high         0\n",
            "Whisker.low          0\n",
            "GDP                  0\n",
            "Family               0\n",
            "Life                 0\n",
            "Freedom              0\n",
            "Generosity           0\n",
            "Trust                0\n",
            "Dystopia Residual    0\n",
            "Year                 0\n",
            "Region               6\n",
            "dtype: int64\n",
            "\n",
            "df2018 dataset:\n",
            " Happiness Rank     0\n",
            "Country            0\n",
            "Happiness Score    0\n",
            "GDP                0\n",
            "Family             0\n",
            "Life               0\n",
            "Freedom            0\n",
            "Generosity         0\n",
            "Trust              1\n",
            "Year               0\n",
            "Region             6\n",
            "dtype: int64\n",
            "\n",
            "df2019 dataset:\n",
            " Happiness Rank     0\n",
            "Country            0\n",
            "Happiness Score    0\n",
            "GDP                0\n",
            "Family             0\n",
            "Life               0\n",
            "Freedom            0\n",
            "Generosity         0\n",
            "Trust              0\n",
            "Year               0\n",
            "Region             7\n",
            "dtype: int64\n"
          ]
        }
      ]
    },
    {
      "cell_type": "code",
      "source": [
        "fuldf = pd.concat(dff)"
      ],
      "metadata": {
        "id": "D2MBFjVsmwL1"
      },
      "execution_count": null,
      "outputs": []
    },
    {
      "cell_type": "markdown",
      "source": [
        "## DATA VIS"
      ],
      "metadata": {
        "id": "4lq_QC_qmz0w"
      }
    },
    {
      "cell_type": "code",
      "source": [
        "df2015 = pd.read_csv(\"2015.csv\")\n",
        "df2015.drop(\"Standard Error\", axis=1,inplace=True)\n",
        "df2015[\"Year\"] = 2015\n",
        "df2015.columns = [\"Country\",\"Region\",\"Happiness Rank\",\"Happiness Score\",\"GDP\",\"Family\",\"Life\",\"Freedom\",\"Trust\",\"Generosity\",\"Dystopia Residual\",\"Year\"]\n",
        "\n",
        "df2016 = pd.read_csv(\"2016.csv\")\n",
        "df2016.drop([\"Lower Confidence Interval\", \"Upper Confidence Interval\"],axis=1,inplace=True)\n",
        "df2016[\"Year\"] = 2016\n",
        "df2016.columns=[\"Country\", \"Region\", \"Happiness Rank\", \"Happiness Score\", \"GDP\", \"Family\", \"Life\", \"Freedom\", \"Trust\", \"Generosity\", \"Dystopia Residual\", \"Year\"]\n",
        "\n",
        "df2017 = pd.read_csv(\"2017.csv\")\n",
        "df2017.drop([\"Whisker.high\",\"Whisker.low\"],axis=1,inplace=True)\n",
        "df2017[\"Year\"]= 2017\n",
        "df2017.columns=[\"Country\", \"Happiness Rank\", \"Happiness Score\", \"GDP\", \"Family\", \"Life\", \"Freedom\",\"Generosity\", \"Trust\", \"Dystopia Residual\", \"Year\"]\n",
        "\n",
        "\n",
        "country_region = df2015[[\"Country\",\"Region\"]]\n",
        "country_region = country_region.to_numpy()\n",
        "\n",
        "def make_region(Country):\n",
        "    for i in range(len(country_region)):\n",
        "        if Country == country_region[i][0]:\n",
        "            return country_region[i][1]\n",
        "    \n",
        "    return \"no_region\"\n",
        "\n",
        "df2017[\"Region\"] = df2017[\"Country\"].apply(make_region)\n",
        "\n",
        "df2017.loc[32,\"Region\"] = 'Eastern Asia'\n",
        "df2017.loc[49,\"Region\"] = 'Latin America and Caribbean'\n",
        "df2017.loc[70,\"Region\"] = 'Eastern Asia'\n",
        "df2017.loc[92,\"Region\"] = 'Sub-Saharan Africa'\n",
        "df2017.loc[110,\"Region\"] = 'Sub-Saharan Africa'\n",
        "df2017.loc[146,\"Region\"] =  'Sub-Saharan Africa'\n",
        "\n",
        "df2018 = pd.read_csv(\"2018.csv\")\n",
        "df2018[\"Year\"] =2018\n",
        "df2018.columns = [ \"Happiness Rank\",\"Country\", \"Happiness Score\", \"GDP\", \"Family\", \"Life\", \"Freedom\",\"Generosity\", \"Trust\", \"Year\"]\n",
        "df2018[\"Dystopia Residual\"] = df2018[\"Happiness Score\"] - df2018[\"GDP\"] - df2018[\"Family\"] - df2018[\"Life\"] - df2018[\"Freedom\"] - df2018[\"Generosity\"] - df2018[\"Trust\"]\n",
        "df2018[\"Region\"] = df2018[\"Country\"].apply(make_region)\n",
        "df2018.loc[37,\"Region\"] = 'Latin America and Caribbean'\n",
        "df2018.loc[48,\"Region\"] = 'Latin America and Caribbean'\n",
        "df2018.loc[57,\"Region\"] = 'Central and Eastern Europe'\n",
        "df2018.loc[97,\"Region\"] = 'Sub-Saharan Africa'\n",
        "df2018.loc[118,\"Region\"] = 'Sub-Saharan Africa'\n",
        "df2018.loc[153,\"Region\"] = 'Sub-Saharan Africa'\n",
        "\n",
        "df2019 =pd.read_csv(\"2019.csv\")\n",
        "df2019[\"Year\"] = 2019\n",
        "df2019.columns =[ \"Happiness Rank\",\"Country\", \"Happiness Score\", \"GDP\", \"Family\", \"Life\", \"Freedom\",\"Generosity\", \"Trust\", \"Year\"]\n",
        "df2019[\"Dystopia Residual\"] = df2019[\"Happiness Score\"] - df2019[\"GDP\"] - df2019[\"Family\"] - df2019[\"Life\"] - df2019[\"Freedom\"] - df2019[\"Generosity\"] - df2019[\"Trust\"]\n",
        "df2019[\"Region\"] = df2019[\"Country\"].apply(make_region)\n",
        "df2019.loc[38,\"Region\"] = 'Latin America and Caribbean'\n",
        "df2019.loc[63,\"Region\"] = 'Central and Eastern Europe'\n",
        "df2019.loc[83,\"Region\"] = 'Central and Eastern Europe'\n",
        "df2019.loc[111,\"Region\"] = 'Sub-Saharan Africa'\n",
        "df2019.loc[112,\"Region\"] = 'Sub-Saharan Africa'\n",
        "df2019.loc[119,\"Region\"] = 'Sub-Saharan Africa'\n",
        "df2019.loc[155,\"Region\"] = 'Sub-Saharan Africa'\n",
        "df_tmp = fuldf.groupby([\"Region\",\"Year\"])[\"Happiness Score\"].mean()\n",
        "df_tmp = pd.DataFrame(df_tmp).unstack()\n",
        "df_tmp = df_tmp.reset_index()\n",
        "df_tmp.columns=[\"Region\",\"2015\",\"2016\",\"2017\",\"2018\",\"2019\"]\n",
        "df_tmp = df_tmp.melt(\"Region\")\n",
        "fig = px.bar(df_tmp.sort_values(by=\"value\"), x=\"Region\", y=\"value\",animation_frame='variable',text=\"value\",color=\"Region\",\n",
        "             height=600,title = 'Yıllara göre bölgelerin mutluluk oranının değişimi')\n",
        "fig.update_traces(texttemplate='%{text:.2f}',textposition='auto')\n",
        "fig.update_layout(transition = {'duration': 1000})\n",
        "\n",
        "fig.show(renderer=\"colab\")"
      ],
      "metadata": {
        "colab": {
          "base_uri": "https://localhost:8080/",
          "height": 617
        },
        "id": "UBmFfr0tnGtV",
        "outputId": "51ca82e0-957c-496d-cd99-1ea423e8dd8f"
      },
      "execution_count": null,
      "outputs": [
        {
          "output_type": "display_data",
          "data": {
            "text/html": [
              "<html>\n",
              "<head><meta charset=\"utf-8\" /></head>\n",
              "<body>\n",
              "    <div>\n",
              "            <script src=\"https://cdnjs.cloudflare.com/ajax/libs/mathjax/2.7.5/MathJax.js?config=TeX-AMS-MML_SVG\"></script><script type=\"text/javascript\">if (window.MathJax) {MathJax.Hub.Config({SVG: {font: \"STIX-Web\"}});}</script>\n",
              "                <script type=\"text/javascript\">window.PlotlyConfig = {MathJaxConfig: 'local'};</script>\n",
              "        <script src=\"https://cdn.plot.ly/plotly-latest.min.js\"></script>    \n",
              "            <div id=\"487d8911-dc1a-431d-9ddb-61021d6b7a84\" class=\"plotly-graph-div\" style=\"height:600px; width:100%;\"></div>\n",
              "            <script type=\"text/javascript\">\n",
              "                \n",
              "                    window.PLOTLYENV=window.PLOTLYENV || {};\n",
              "                    \n",
              "                if (document.getElementById(\"487d8911-dc1a-431d-9ddb-61021d6b7a84\")) {\n",
              "                    Plotly.newPlot(\n",
              "                        '487d8911-dc1a-431d-9ddb-61021d6b7a84',\n",
              "                        [{\"alignmentgroup\": \"True\", \"hoverlabel\": {\"namelength\": 0}, \"hovertemplate\": \"Region=%{x}<br>variable=2017<br>value=%{text}\", \"legendgroup\": \"Region=Sub-Saharan Africa\", \"marker\": {\"color\": \"#636efa\"}, \"name\": \"Region=Sub-Saharan Africa\", \"offsetgroup\": \"Region=Sub-Saharan Africa\", \"orientation\": \"v\", \"showlegend\": true, \"text\": [4.0847222275204125], \"textposition\": \"auto\", \"texttemplate\": \"%{text:.2f}\", \"type\": \"bar\", \"x\": [\"Sub-Saharan Africa\"], \"xaxis\": \"x\", \"y\": [4.0847222275204125], \"yaxis\": \"y\"}, {\"alignmentgroup\": \"True\", \"hoverlabel\": {\"namelength\": 0}, \"hovertemplate\": \"Region=%{x}<br>variable=2017<br>value=%{text}\", \"legendgroup\": \"Region=Southern Asia\", \"marker\": {\"color\": \"#EF553B\"}, \"name\": \"Region=Southern Asia\", \"offsetgroup\": \"Region=Southern Asia\", \"orientation\": \"v\", \"showlegend\": true, \"text\": [4.628428561346871], \"textposition\": \"auto\", \"texttemplate\": \"%{text:.2f}\", \"type\": \"bar\", \"x\": [\"Southern Asia\"], \"xaxis\": \"x\", \"y\": [4.628428561346871], \"yaxis\": \"y\"}, {\"alignmentgroup\": \"True\", \"hoverlabel\": {\"namelength\": 0}, \"hovertemplate\": \"Region=%{x}<br>variable=2017<br>value=%{text}\", \"legendgroup\": \"Region=Middle East and Northern Africa\", \"marker\": {\"color\": \"#00cc96\"}, \"name\": \"Region=Middle East and Northern Africa\", \"offsetgroup\": \"Region=Middle East and Northern Africa\", \"orientation\": \"v\", \"showlegend\": true, \"text\": [5.369684194263659], \"textposition\": \"auto\", \"texttemplate\": \"%{text:.2f}\", \"type\": \"bar\", \"x\": [\"Middle East and Northern Africa\"], \"xaxis\": \"x\", \"y\": [5.369684194263659], \"yaxis\": \"y\"}, {\"alignmentgroup\": \"True\", \"hoverlabel\": {\"namelength\": 0}, \"hovertemplate\": \"Region=%{x}<br>variable=2017<br>value=%{text}\", \"legendgroup\": \"Region=Southeastern Asia\", \"marker\": {\"color\": \"#ab63fa\"}, \"name\": \"Region=Southeastern Asia\", \"offsetgroup\": \"Region=Southeastern Asia\", \"orientation\": \"v\", \"showlegend\": true, \"text\": [5.444875001907348], \"textposition\": \"auto\", \"texttemplate\": \"%{text:.2f}\", \"type\": \"bar\", \"x\": [\"Southeastern Asia\"], \"xaxis\": \"x\", \"y\": [5.444875001907348], \"yaxis\": \"y\"}, {\"alignmentgroup\": \"True\", \"hoverlabel\": {\"namelength\": 0}, \"hovertemplate\": \"Region=%{x}<br>variable=2017<br>value=%{text}\", \"legendgroup\": \"Region=Central and Eastern Europe\", \"marker\": {\"color\": \"#FFA15A\"}, \"name\": \"Region=Central and Eastern Europe\", \"offsetgroup\": \"Region=Central and Eastern Europe\", \"orientation\": \"v\", \"showlegend\": true, \"text\": [5.409931034877382], \"textposition\": \"auto\", \"texttemplate\": \"%{text:.2f}\", \"type\": \"bar\", \"x\": [\"Central and Eastern Europe\"], \"xaxis\": \"x\", \"y\": [5.409931034877382], \"yaxis\": \"y\"}, {\"alignmentgroup\": \"True\", \"hoverlabel\": {\"namelength\": 0}, \"hovertemplate\": \"Region=%{x}<br>variable=2017<br>value=%{text}\", \"legendgroup\": \"Region=Eastern Asia\", \"marker\": {\"color\": \"#19d3f3\"}, \"name\": \"Region=Eastern Asia\", \"offsetgroup\": \"Region=Eastern Asia\", \"orientation\": \"v\", \"showlegend\": true, \"text\": [5.4964998960495], \"textposition\": \"auto\", \"texttemplate\": \"%{text:.2f}\", \"type\": \"bar\", \"x\": [\"Eastern Asia\"], \"xaxis\": \"x\", \"y\": [5.4964998960495], \"yaxis\": \"y\"}, {\"alignmentgroup\": \"True\", \"hoverlabel\": {\"namelength\": 0}, \"hovertemplate\": \"Region=%{x}<br>variable=2017<br>value=%{text}\", \"legendgroup\": \"Region=Latin America and Caribbean\", \"marker\": {\"color\": \"#FF6692\"}, \"name\": \"Region=Latin America and Caribbean\", \"offsetgroup\": \"Region=Latin America and Caribbean\", \"orientation\": \"v\", \"showlegend\": true, \"text\": [5.957904781614031], \"textposition\": \"auto\", \"texttemplate\": \"%{text:.2f}\", \"type\": \"bar\", \"x\": [\"Latin America and Caribbean\"], \"xaxis\": \"x\", \"y\": [5.957904781614031], \"yaxis\": \"y\"}, {\"alignmentgroup\": \"True\", \"hoverlabel\": {\"namelength\": 0}, \"hovertemplate\": \"Region=%{x}<br>variable=2017<br>value=%{text}\", \"legendgroup\": \"Region=Western Europe\", \"marker\": {\"color\": \"#B6E880\"}, \"name\": \"Region=Western Europe\", \"offsetgroup\": \"Region=Western Europe\", \"orientation\": \"v\", \"showlegend\": true, \"text\": [6.703714302607945], \"textposition\": \"auto\", \"texttemplate\": \"%{text:.2f}\", \"type\": \"bar\", \"x\": [\"Western Europe\"], \"xaxis\": \"x\", \"y\": [6.703714302607945], \"yaxis\": \"y\"}, {\"alignmentgroup\": \"True\", \"hoverlabel\": {\"namelength\": 0}, \"hovertemplate\": \"Region=%{x}<br>variable=2017<br>value=%{text}\", \"legendgroup\": \"Region=North America\", \"marker\": {\"color\": \"#FF97FF\"}, \"name\": \"Region=North America\", \"offsetgroup\": \"Region=North America\", \"orientation\": \"v\", \"showlegend\": true, \"text\": [7.154500007629395], \"textposition\": \"auto\", \"texttemplate\": \"%{text:.2f}\", \"type\": \"bar\", \"x\": [\"North America\"], \"xaxis\": \"x\", \"y\": [7.154500007629395], \"yaxis\": \"y\"}, {\"alignmentgroup\": \"True\", \"hoverlabel\": {\"namelength\": 0}, \"hovertemplate\": \"Region=%{x}<br>variable=2017<br>value=%{text}\", \"legendgroup\": \"Region=Australia and New Zealand\", \"marker\": {\"color\": \"#FECB52\"}, \"name\": \"Region=Australia and New Zealand\", \"offsetgroup\": \"Region=Australia and New Zealand\", \"orientation\": \"v\", \"showlegend\": true, \"text\": [7.299000024795535], \"textposition\": \"auto\", \"texttemplate\": \"%{text:.2f}\", \"type\": \"bar\", \"x\": [\"Australia and New Zealand\"], \"xaxis\": \"x\", \"y\": [7.299000024795535], \"yaxis\": \"y\"}],\n",
              "                        {\"barmode\": \"relative\", \"height\": 600, \"legend\": {\"tracegroupgap\": 0}, \"sliders\": [{\"active\": 0, \"currentvalue\": {\"prefix\": \"variable=\"}, \"len\": 0.9, \"pad\": {\"b\": 10, \"t\": 60}, \"steps\": [{\"args\": [[\"2017\"], {\"frame\": {\"duration\": 0, \"redraw\": true}, \"fromcurrent\": true, \"mode\": \"immediate\", \"transition\": {\"duration\": 0, \"easing\": \"linear\"}}], \"label\": \"2017\", \"method\": \"animate\"}, {\"args\": [[\"2016\"], {\"frame\": {\"duration\": 0, \"redraw\": true}, \"fromcurrent\": true, \"mode\": \"immediate\", \"transition\": {\"duration\": 0, \"easing\": \"linear\"}}], \"label\": \"2016\", \"method\": \"animate\"}, {\"args\": [[\"2018\"], {\"frame\": {\"duration\": 0, \"redraw\": true}, \"fromcurrent\": true, \"mode\": \"immediate\", \"transition\": {\"duration\": 0, \"easing\": \"linear\"}}], \"label\": \"2018\", \"method\": \"animate\"}, {\"args\": [[\"2015\"], {\"frame\": {\"duration\": 0, \"redraw\": true}, \"fromcurrent\": true, \"mode\": \"immediate\", \"transition\": {\"duration\": 0, \"easing\": \"linear\"}}], \"label\": \"2015\", \"method\": \"animate\"}, {\"args\": [[\"2019\"], {\"frame\": {\"duration\": 0, \"redraw\": true}, \"fromcurrent\": true, \"mode\": \"immediate\", \"transition\": {\"duration\": 0, \"easing\": \"linear\"}}], \"label\": \"2019\", \"method\": \"animate\"}], \"x\": 0.1, \"xanchor\": \"left\", \"y\": 0, \"yanchor\": \"top\"}], \"template\": {\"data\": {\"bar\": [{\"error_x\": {\"color\": \"#2a3f5f\"}, \"error_y\": {\"color\": \"#2a3f5f\"}, \"marker\": {\"line\": {\"color\": \"#E5ECF6\", \"width\": 0.5}}, \"type\": \"bar\"}], \"barpolar\": [{\"marker\": {\"line\": {\"color\": \"#E5ECF6\", \"width\": 0.5}}, \"type\": \"barpolar\"}], \"carpet\": [{\"aaxis\": {\"endlinecolor\": \"#2a3f5f\", \"gridcolor\": \"white\", \"linecolor\": \"white\", \"minorgridcolor\": \"white\", \"startlinecolor\": \"#2a3f5f\"}, \"baxis\": {\"endlinecolor\": \"#2a3f5f\", \"gridcolor\": \"white\", \"linecolor\": \"white\", \"minorgridcolor\": \"white\", \"startlinecolor\": \"#2a3f5f\"}, \"type\": \"carpet\"}], \"choropleth\": [{\"colorbar\": {\"outlinewidth\": 0, \"ticks\": \"\"}, \"type\": \"choropleth\"}], \"contour\": [{\"colorbar\": {\"outlinewidth\": 0, \"ticks\": \"\"}, \"colorscale\": [[0.0, \"#0d0887\"], [0.1111111111111111, \"#46039f\"], [0.2222222222222222, \"#7201a8\"], [0.3333333333333333, \"#9c179e\"], [0.4444444444444444, \"#bd3786\"], [0.5555555555555556, \"#d8576b\"], [0.6666666666666666, \"#ed7953\"], [0.7777777777777778, \"#fb9f3a\"], [0.8888888888888888, \"#fdca26\"], [1.0, \"#f0f921\"]], \"type\": \"contour\"}], \"contourcarpet\": [{\"colorbar\": {\"outlinewidth\": 0, \"ticks\": \"\"}, \"type\": \"contourcarpet\"}], \"heatmap\": [{\"colorbar\": {\"outlinewidth\": 0, \"ticks\": \"\"}, \"colorscale\": [[0.0, \"#0d0887\"], [0.1111111111111111, \"#46039f\"], [0.2222222222222222, \"#7201a8\"], [0.3333333333333333, \"#9c179e\"], [0.4444444444444444, \"#bd3786\"], [0.5555555555555556, \"#d8576b\"], [0.6666666666666666, \"#ed7953\"], [0.7777777777777778, \"#fb9f3a\"], [0.8888888888888888, \"#fdca26\"], [1.0, \"#f0f921\"]], \"type\": \"heatmap\"}], \"heatmapgl\": [{\"colorbar\": {\"outlinewidth\": 0, \"ticks\": \"\"}, \"colorscale\": [[0.0, \"#0d0887\"], [0.1111111111111111, \"#46039f\"], [0.2222222222222222, \"#7201a8\"], [0.3333333333333333, \"#9c179e\"], [0.4444444444444444, \"#bd3786\"], [0.5555555555555556, \"#d8576b\"], [0.6666666666666666, \"#ed7953\"], [0.7777777777777778, \"#fb9f3a\"], [0.8888888888888888, \"#fdca26\"], [1.0, \"#f0f921\"]], \"type\": \"heatmapgl\"}], \"histogram\": [{\"marker\": {\"colorbar\": {\"outlinewidth\": 0, \"ticks\": \"\"}}, \"type\": \"histogram\"}], \"histogram2d\": [{\"colorbar\": {\"outlinewidth\": 0, \"ticks\": \"\"}, \"colorscale\": [[0.0, \"#0d0887\"], [0.1111111111111111, \"#46039f\"], [0.2222222222222222, \"#7201a8\"], [0.3333333333333333, \"#9c179e\"], [0.4444444444444444, \"#bd3786\"], [0.5555555555555556, \"#d8576b\"], [0.6666666666666666, \"#ed7953\"], [0.7777777777777778, \"#fb9f3a\"], [0.8888888888888888, \"#fdca26\"], [1.0, \"#f0f921\"]], \"type\": \"histogram2d\"}], \"histogram2dcontour\": [{\"colorbar\": {\"outlinewidth\": 0, \"ticks\": \"\"}, \"colorscale\": [[0.0, \"#0d0887\"], [0.1111111111111111, \"#46039f\"], [0.2222222222222222, \"#7201a8\"], [0.3333333333333333, \"#9c179e\"], [0.4444444444444444, \"#bd3786\"], [0.5555555555555556, \"#d8576b\"], [0.6666666666666666, \"#ed7953\"], [0.7777777777777778, \"#fb9f3a\"], [0.8888888888888888, \"#fdca26\"], [1.0, \"#f0f921\"]], \"type\": \"histogram2dcontour\"}], \"mesh3d\": [{\"colorbar\": {\"outlinewidth\": 0, \"ticks\": \"\"}, \"type\": \"mesh3d\"}], \"parcoords\": [{\"line\": {\"colorbar\": {\"outlinewidth\": 0, \"ticks\": \"\"}}, \"type\": \"parcoords\"}], \"pie\": [{\"automargin\": true, \"type\": \"pie\"}], \"scatter\": [{\"marker\": {\"colorbar\": {\"outlinewidth\": 0, \"ticks\": \"\"}}, \"type\": \"scatter\"}], \"scatter3d\": [{\"line\": {\"colorbar\": {\"outlinewidth\": 0, \"ticks\": \"\"}}, \"marker\": {\"colorbar\": {\"outlinewidth\": 0, \"ticks\": \"\"}}, \"type\": \"scatter3d\"}], \"scattercarpet\": [{\"marker\": {\"colorbar\": {\"outlinewidth\": 0, \"ticks\": \"\"}}, \"type\": \"scattercarpet\"}], \"scattergeo\": [{\"marker\": {\"colorbar\": {\"outlinewidth\": 0, \"ticks\": \"\"}}, \"type\": \"scattergeo\"}], \"scattergl\": [{\"marker\": {\"colorbar\": {\"outlinewidth\": 0, \"ticks\": \"\"}}, \"type\": \"scattergl\"}], \"scattermapbox\": [{\"marker\": {\"colorbar\": {\"outlinewidth\": 0, \"ticks\": \"\"}}, \"type\": \"scattermapbox\"}], \"scatterpolar\": [{\"marker\": {\"colorbar\": {\"outlinewidth\": 0, \"ticks\": \"\"}}, \"type\": \"scatterpolar\"}], \"scatterpolargl\": [{\"marker\": {\"colorbar\": {\"outlinewidth\": 0, \"ticks\": \"\"}}, \"type\": \"scatterpolargl\"}], \"scatterternary\": [{\"marker\": {\"colorbar\": {\"outlinewidth\": 0, \"ticks\": \"\"}}, \"type\": \"scatterternary\"}], \"surface\": [{\"colorbar\": {\"outlinewidth\": 0, \"ticks\": \"\"}, \"colorscale\": [[0.0, \"#0d0887\"], [0.1111111111111111, \"#46039f\"], [0.2222222222222222, \"#7201a8\"], [0.3333333333333333, \"#9c179e\"], [0.4444444444444444, \"#bd3786\"], [0.5555555555555556, \"#d8576b\"], [0.6666666666666666, \"#ed7953\"], [0.7777777777777778, \"#fb9f3a\"], [0.8888888888888888, \"#fdca26\"], [1.0, \"#f0f921\"]], \"type\": \"surface\"}], \"table\": [{\"cells\": {\"fill\": {\"color\": \"#EBF0F8\"}, \"line\": {\"color\": \"white\"}}, \"header\": {\"fill\": {\"color\": \"#C8D4E3\"}, \"line\": {\"color\": \"white\"}}, \"type\": \"table\"}]}, \"layout\": {\"annotationdefaults\": {\"arrowcolor\": \"#2a3f5f\", \"arrowhead\": 0, \"arrowwidth\": 1}, \"coloraxis\": {\"colorbar\": {\"outlinewidth\": 0, \"ticks\": \"\"}}, \"colorscale\": {\"diverging\": [[0, \"#8e0152\"], [0.1, \"#c51b7d\"], [0.2, \"#de77ae\"], [0.3, \"#f1b6da\"], [0.4, \"#fde0ef\"], [0.5, \"#f7f7f7\"], [0.6, \"#e6f5d0\"], [0.7, \"#b8e186\"], [0.8, \"#7fbc41\"], [0.9, \"#4d9221\"], [1, \"#276419\"]], \"sequential\": [[0.0, \"#0d0887\"], [0.1111111111111111, \"#46039f\"], [0.2222222222222222, \"#7201a8\"], [0.3333333333333333, \"#9c179e\"], [0.4444444444444444, \"#bd3786\"], [0.5555555555555556, \"#d8576b\"], [0.6666666666666666, \"#ed7953\"], [0.7777777777777778, \"#fb9f3a\"], [0.8888888888888888, \"#fdca26\"], [1.0, \"#f0f921\"]], \"sequentialminus\": [[0.0, \"#0d0887\"], [0.1111111111111111, \"#46039f\"], [0.2222222222222222, \"#7201a8\"], [0.3333333333333333, \"#9c179e\"], [0.4444444444444444, \"#bd3786\"], [0.5555555555555556, \"#d8576b\"], [0.6666666666666666, \"#ed7953\"], [0.7777777777777778, \"#fb9f3a\"], [0.8888888888888888, \"#fdca26\"], [1.0, \"#f0f921\"]]}, \"colorway\": [\"#636efa\", \"#EF553B\", \"#00cc96\", \"#ab63fa\", \"#FFA15A\", \"#19d3f3\", \"#FF6692\", \"#B6E880\", \"#FF97FF\", \"#FECB52\"], \"font\": {\"color\": \"#2a3f5f\"}, \"geo\": {\"bgcolor\": \"white\", \"lakecolor\": \"white\", \"landcolor\": \"#E5ECF6\", \"showlakes\": true, \"showland\": true, \"subunitcolor\": \"white\"}, \"hoverlabel\": {\"align\": \"left\"}, \"hovermode\": \"closest\", \"mapbox\": {\"style\": \"light\"}, \"paper_bgcolor\": \"white\", \"plot_bgcolor\": \"#E5ECF6\", \"polar\": {\"angularaxis\": {\"gridcolor\": \"white\", \"linecolor\": \"white\", \"ticks\": \"\"}, \"bgcolor\": \"#E5ECF6\", \"radialaxis\": {\"gridcolor\": \"white\", \"linecolor\": \"white\", \"ticks\": \"\"}}, \"scene\": {\"xaxis\": {\"backgroundcolor\": \"#E5ECF6\", \"gridcolor\": \"white\", \"gridwidth\": 2, \"linecolor\": \"white\", \"showbackground\": true, \"ticks\": \"\", \"zerolinecolor\": \"white\"}, \"yaxis\": {\"backgroundcolor\": \"#E5ECF6\", \"gridcolor\": \"white\", \"gridwidth\": 2, \"linecolor\": \"white\", \"showbackground\": true, \"ticks\": \"\", \"zerolinecolor\": \"white\"}, \"zaxis\": {\"backgroundcolor\": \"#E5ECF6\", \"gridcolor\": \"white\", \"gridwidth\": 2, \"linecolor\": \"white\", \"showbackground\": true, \"ticks\": \"\", \"zerolinecolor\": \"white\"}}, \"shapedefaults\": {\"line\": {\"color\": \"#2a3f5f\"}}, \"ternary\": {\"aaxis\": {\"gridcolor\": \"white\", \"linecolor\": \"white\", \"ticks\": \"\"}, \"baxis\": {\"gridcolor\": \"white\", \"linecolor\": \"white\", \"ticks\": \"\"}, \"bgcolor\": \"#E5ECF6\", \"caxis\": {\"gridcolor\": \"white\", \"linecolor\": \"white\", \"ticks\": \"\"}}, \"title\": {\"x\": 0.05}, \"xaxis\": {\"automargin\": true, \"gridcolor\": \"white\", \"linecolor\": \"white\", \"ticks\": \"\", \"title\": {\"standoff\": 15}, \"zerolinecolor\": \"white\", \"zerolinewidth\": 2}, \"yaxis\": {\"automargin\": true, \"gridcolor\": \"white\", \"linecolor\": \"white\", \"ticks\": \"\", \"title\": {\"standoff\": 15}, \"zerolinecolor\": \"white\", \"zerolinewidth\": 2}}}, \"title\": {\"text\": \"Y\\u0131llara g\\u00f6re b\\u00f6lgelerin mutluluk oran\\u0131n\\u0131n de\\u011fi\\u015fimi\"}, \"transition\": {\"duration\": 1000}, \"updatemenus\": [{\"buttons\": [{\"args\": [null, {\"frame\": {\"duration\": 500, \"redraw\": true}, \"fromcurrent\": true, \"mode\": \"immediate\", \"transition\": {\"duration\": 500, \"easing\": \"linear\"}}], \"label\": \"&#9654;\", \"method\": \"animate\"}, {\"args\": [[null], {\"frame\": {\"duration\": 0, \"redraw\": true}, \"fromcurrent\": true, \"mode\": \"immediate\", \"transition\": {\"duration\": 0, \"easing\": \"linear\"}}], \"label\": \"&#9724;\", \"method\": \"animate\"}], \"direction\": \"left\", \"pad\": {\"r\": 10, \"t\": 70}, \"showactive\": false, \"type\": \"buttons\", \"x\": 0.1, \"xanchor\": \"right\", \"y\": 0, \"yanchor\": \"top\"}], \"xaxis\": {\"anchor\": \"y\", \"categoryarray\": [\"Sub-Saharan Africa\", \"Southern Asia\", \"Middle East and Northern Africa\", \"Southeastern Asia\", \"Central and Eastern Europe\", \"Eastern Asia\", \"Latin America and Caribbean\", \"Western Europe\", \"North America\", \"Australia and New Zealand\"], \"categoryorder\": \"array\", \"domain\": [0.0, 1.0], \"title\": {\"text\": \"Region\"}}, \"yaxis\": {\"anchor\": \"x\", \"domain\": [0.0, 1.0], \"title\": {\"text\": \"value\"}}},\n",
              "                        {\"responsive\": true}\n",
              "                    ).then(function(){\n",
              "                            Plotly.addFrames('487d8911-dc1a-431d-9ddb-61021d6b7a84', [{\"data\": [{\"alignmentgroup\": \"True\", \"hoverlabel\": {\"namelength\": 0}, \"hovertemplate\": \"Region=%{x}<br>variable=2017<br>value=%{text}\", \"legendgroup\": \"Region=Sub-Saharan Africa\", \"marker\": {\"color\": \"#636efa\"}, \"name\": \"Region=Sub-Saharan Africa\", \"offsetgroup\": \"Region=Sub-Saharan Africa\", \"orientation\": \"v\", \"showlegend\": true, \"text\": [4.0847222275204125], \"textposition\": \"auto\", \"x\": [\"Sub-Saharan Africa\"], \"xaxis\": \"x\", \"y\": [4.0847222275204125], \"yaxis\": \"y\", \"type\": \"bar\"}, {\"alignmentgroup\": \"True\", \"hoverlabel\": {\"namelength\": 0}, \"hovertemplate\": \"Region=%{x}<br>variable=2017<br>value=%{text}\", \"legendgroup\": \"Region=Southern Asia\", \"marker\": {\"color\": \"#EF553B\"}, \"name\": \"Region=Southern Asia\", \"offsetgroup\": \"Region=Southern Asia\", \"orientation\": \"v\", \"showlegend\": true, \"text\": [4.628428561346871], \"textposition\": \"auto\", \"x\": [\"Southern Asia\"], \"xaxis\": \"x\", \"y\": [4.628428561346871], \"yaxis\": \"y\", \"type\": \"bar\"}, {\"alignmentgroup\": \"True\", \"hoverlabel\": {\"namelength\": 0}, \"hovertemplate\": \"Region=%{x}<br>variable=2017<br>value=%{text}\", \"legendgroup\": \"Region=Middle East and Northern Africa\", \"marker\": {\"color\": \"#00cc96\"}, \"name\": \"Region=Middle East and Northern Africa\", \"offsetgroup\": \"Region=Middle East and Northern Africa\", \"orientation\": \"v\", \"showlegend\": true, \"text\": [5.369684194263659], \"textposition\": \"auto\", \"x\": [\"Middle East and Northern Africa\"], \"xaxis\": \"x\", \"y\": [5.369684194263659], \"yaxis\": \"y\", \"type\": \"bar\"}, {\"alignmentgroup\": \"True\", \"hoverlabel\": {\"namelength\": 0}, \"hovertemplate\": \"Region=%{x}<br>variable=2017<br>value=%{text}\", \"legendgroup\": \"Region=Southeastern Asia\", \"marker\": {\"color\": \"#ab63fa\"}, \"name\": \"Region=Southeastern Asia\", \"offsetgroup\": \"Region=Southeastern Asia\", \"orientation\": \"v\", \"showlegend\": true, \"text\": [5.444875001907348], \"textposition\": \"auto\", \"x\": [\"Southeastern Asia\"], \"xaxis\": \"x\", \"y\": [5.444875001907348], \"yaxis\": \"y\", \"type\": \"bar\"}, {\"alignmentgroup\": \"True\", \"hoverlabel\": {\"namelength\": 0}, \"hovertemplate\": \"Region=%{x}<br>variable=2017<br>value=%{text}\", \"legendgroup\": \"Region=Central and Eastern Europe\", \"marker\": {\"color\": \"#FFA15A\"}, \"name\": \"Region=Central and Eastern Europe\", \"offsetgroup\": \"Region=Central and Eastern Europe\", \"orientation\": \"v\", \"showlegend\": true, \"text\": [5.409931034877382], \"textposition\": \"auto\", \"x\": [\"Central and Eastern Europe\"], \"xaxis\": \"x\", \"y\": [5.409931034877382], \"yaxis\": \"y\", \"type\": \"bar\"}, {\"alignmentgroup\": \"True\", \"hoverlabel\": {\"namelength\": 0}, \"hovertemplate\": \"Region=%{x}<br>variable=2017<br>value=%{text}\", \"legendgroup\": \"Region=Eastern Asia\", \"marker\": {\"color\": \"#19d3f3\"}, \"name\": \"Region=Eastern Asia\", \"offsetgroup\": \"Region=Eastern Asia\", \"orientation\": \"v\", \"showlegend\": true, \"text\": [5.4964998960495], \"textposition\": \"auto\", \"x\": [\"Eastern Asia\"], \"xaxis\": \"x\", \"y\": [5.4964998960495], \"yaxis\": \"y\", \"type\": \"bar\"}, {\"alignmentgroup\": \"True\", \"hoverlabel\": {\"namelength\": 0}, \"hovertemplate\": \"Region=%{x}<br>variable=2017<br>value=%{text}\", \"legendgroup\": \"Region=Latin America and Caribbean\", \"marker\": {\"color\": \"#FF6692\"}, \"name\": \"Region=Latin America and Caribbean\", \"offsetgroup\": \"Region=Latin America and Caribbean\", \"orientation\": \"v\", \"showlegend\": true, \"text\": [5.957904781614031], \"textposition\": \"auto\", \"x\": [\"Latin America and Caribbean\"], \"xaxis\": \"x\", \"y\": [5.957904781614031], \"yaxis\": \"y\", \"type\": \"bar\"}, {\"alignmentgroup\": \"True\", \"hoverlabel\": {\"namelength\": 0}, \"hovertemplate\": \"Region=%{x}<br>variable=2017<br>value=%{text}\", \"legendgroup\": \"Region=Western Europe\", \"marker\": {\"color\": \"#B6E880\"}, \"name\": \"Region=Western Europe\", \"offsetgroup\": \"Region=Western Europe\", \"orientation\": \"v\", \"showlegend\": true, \"text\": [6.703714302607945], \"textposition\": \"auto\", \"x\": [\"Western Europe\"], \"xaxis\": \"x\", \"y\": [6.703714302607945], \"yaxis\": \"y\", \"type\": \"bar\"}, {\"alignmentgroup\": \"True\", \"hoverlabel\": {\"namelength\": 0}, \"hovertemplate\": \"Region=%{x}<br>variable=2017<br>value=%{text}\", \"legendgroup\": \"Region=North America\", \"marker\": {\"color\": \"#FF97FF\"}, \"name\": \"Region=North America\", \"offsetgroup\": \"Region=North America\", \"orientation\": \"v\", \"showlegend\": true, \"text\": [7.154500007629395], \"textposition\": \"auto\", \"x\": [\"North America\"], \"xaxis\": \"x\", \"y\": [7.154500007629395], \"yaxis\": \"y\", \"type\": \"bar\"}, {\"alignmentgroup\": \"True\", \"hoverlabel\": {\"namelength\": 0}, \"hovertemplate\": \"Region=%{x}<br>variable=2017<br>value=%{text}\", \"legendgroup\": \"Region=Australia and New Zealand\", \"marker\": {\"color\": \"#FECB52\"}, \"name\": \"Region=Australia and New Zealand\", \"offsetgroup\": \"Region=Australia and New Zealand\", \"orientation\": \"v\", \"showlegend\": true, \"text\": [7.299000024795535], \"textposition\": \"auto\", \"x\": [\"Australia and New Zealand\"], \"xaxis\": \"x\", \"y\": [7.299000024795535], \"yaxis\": \"y\", \"type\": \"bar\"}], \"name\": \"2017\"}, {\"data\": [{\"alignmentgroup\": \"True\", \"hoverlabel\": {\"namelength\": 0}, \"hovertemplate\": \"Region=%{x}<br>variable=2016<br>value=%{text}\", \"legendgroup\": \"Region=Sub-Saharan Africa\", \"marker\": {\"color\": \"#636efa\"}, \"name\": \"Region=Sub-Saharan Africa\", \"offsetgroup\": \"Region=Sub-Saharan Africa\", \"orientation\": \"v\", \"showlegend\": true, \"text\": [4.136421052631578], \"textposition\": \"auto\", \"x\": [\"Sub-Saharan Africa\"], \"xaxis\": \"x\", \"y\": [4.136421052631578], \"yaxis\": \"y\", \"type\": \"bar\"}, {\"alignmentgroup\": \"True\", \"hoverlabel\": {\"namelength\": 0}, \"hovertemplate\": \"Region=%{x}<br>variable=2016<br>value=%{text}\", \"legendgroup\": \"Region=Southern Asia\", \"marker\": {\"color\": \"#EF553B\"}, \"name\": \"Region=Southern Asia\", \"offsetgroup\": \"Region=Southern Asia\", \"orientation\": \"v\", \"showlegend\": true, \"text\": [4.563285714285715], \"textposition\": \"auto\", \"x\": [\"Southern Asia\"], \"xaxis\": \"x\", \"y\": [4.563285714285715], \"yaxis\": \"y\", \"type\": \"bar\"}, {\"alignmentgroup\": \"True\", \"hoverlabel\": {\"namelength\": 0}, \"hovertemplate\": \"Region=%{x}<br>variable=2016<br>value=%{text}\", \"legendgroup\": \"Region=Middle East and Northern Africa\", \"marker\": {\"color\": \"#00cc96\"}, \"name\": \"Region=Middle East and Northern Africa\", \"offsetgroup\": \"Region=Middle East and Northern Africa\", \"orientation\": \"v\", \"showlegend\": true, \"text\": [5.386052631578948], \"textposition\": \"auto\", \"x\": [\"Middle East and Northern Africa\"], \"xaxis\": \"x\", \"y\": [5.386052631578948], \"yaxis\": \"y\", \"type\": \"bar\"}, {\"alignmentgroup\": \"True\", \"hoverlabel\": {\"namelength\": 0}, \"hovertemplate\": \"Region=%{x}<br>variable=2016<br>value=%{text}\", \"legendgroup\": \"Region=Southeastern Asia\", \"marker\": {\"color\": \"#ab63fa\"}, \"name\": \"Region=Southeastern Asia\", \"offsetgroup\": \"Region=Southeastern Asia\", \"orientation\": \"v\", \"showlegend\": true, \"text\": [5.338888888888889], \"textposition\": \"auto\", \"x\": [\"Southeastern Asia\"], \"xaxis\": \"x\", \"y\": [5.338888888888889], \"yaxis\": \"y\", \"type\": \"bar\"}, {\"alignmentgroup\": \"True\", \"hoverlabel\": {\"namelength\": 0}, \"hovertemplate\": \"Region=%{x}<br>variable=2016<br>value=%{text}\", \"legendgroup\": \"Region=Central and Eastern Europe\", \"marker\": {\"color\": \"#FFA15A\"}, \"name\": \"Region=Central and Eastern Europe\", \"offsetgroup\": \"Region=Central and Eastern Europe\", \"orientation\": \"v\", \"showlegend\": true, \"text\": [5.3706896551724155], \"textposition\": \"auto\", \"x\": [\"Central and Eastern Europe\"], \"xaxis\": \"x\", \"y\": [5.3706896551724155], \"yaxis\": \"y\", \"type\": \"bar\"}, {\"alignmentgroup\": \"True\", \"hoverlabel\": {\"namelength\": 0}, \"hovertemplate\": \"Region=%{x}<br>variable=2016<br>value=%{text}\", \"legendgroup\": \"Region=Eastern Asia\", \"marker\": {\"color\": \"#19d3f3\"}, \"name\": \"Region=Eastern Asia\", \"offsetgroup\": \"Region=Eastern Asia\", \"orientation\": \"v\", \"showlegend\": true, \"text\": [5.624166666666667], \"textposition\": \"auto\", \"x\": [\"Eastern Asia\"], \"xaxis\": \"x\", \"y\": [5.624166666666667], \"yaxis\": \"y\", \"type\": \"bar\"}, {\"alignmentgroup\": \"True\", \"hoverlabel\": {\"namelength\": 0}, \"hovertemplate\": \"Region=%{x}<br>variable=2016<br>value=%{text}\", \"legendgroup\": \"Region=Latin America and Caribbean\", \"marker\": {\"color\": \"#FF6692\"}, \"name\": \"Region=Latin America and Caribbean\", \"offsetgroup\": \"Region=Latin America and Caribbean\", \"orientation\": \"v\", \"showlegend\": true, \"text\": [6.10175], \"textposition\": \"auto\", \"x\": [\"Latin America and Caribbean\"], \"xaxis\": \"x\", \"y\": [6.10175], \"yaxis\": \"y\", \"type\": \"bar\"}, {\"alignmentgroup\": \"True\", \"hoverlabel\": {\"namelength\": 0}, \"hovertemplate\": \"Region=%{x}<br>variable=2016<br>value=%{text}\", \"legendgroup\": \"Region=Western Europe\", \"marker\": {\"color\": \"#B6E880\"}, \"name\": \"Region=Western Europe\", \"offsetgroup\": \"Region=Western Europe\", \"orientation\": \"v\", \"showlegend\": true, \"text\": [6.685666666666665], \"textposition\": \"auto\", \"x\": [\"Western Europe\"], \"xaxis\": \"x\", \"y\": [6.685666666666665], \"yaxis\": \"y\", \"type\": \"bar\"}, {\"alignmentgroup\": \"True\", \"hoverlabel\": {\"namelength\": 0}, \"hovertemplate\": \"Region=%{x}<br>variable=2016<br>value=%{text}\", \"legendgroup\": \"Region=North America\", \"marker\": {\"color\": \"#FF97FF\"}, \"name\": \"Region=North America\", \"offsetgroup\": \"Region=North America\", \"orientation\": \"v\", \"showlegend\": true, \"text\": [7.254], \"textposition\": \"auto\", \"x\": [\"North America\"], \"xaxis\": \"x\", \"y\": [7.254], \"yaxis\": \"y\", \"type\": \"bar\"}, {\"alignmentgroup\": \"True\", \"hoverlabel\": {\"namelength\": 0}, \"hovertemplate\": \"Region=%{x}<br>variable=2016<br>value=%{text}\", \"legendgroup\": \"Region=Australia and New Zealand\", \"marker\": {\"color\": \"#FECB52\"}, \"name\": \"Region=Australia and New Zealand\", \"offsetgroup\": \"Region=Australia and New Zealand\", \"orientation\": \"v\", \"showlegend\": true, \"text\": [7.323499999999999], \"textposition\": \"auto\", \"x\": [\"Australia and New Zealand\"], \"xaxis\": \"x\", \"y\": [7.323499999999999], \"yaxis\": \"y\", \"type\": \"bar\"}], \"name\": \"2016\"}, {\"data\": [{\"alignmentgroup\": \"True\", \"hoverlabel\": {\"namelength\": 0}, \"hovertemplate\": \"Region=%{x}<br>variable=2018<br>value=%{text}\", \"legendgroup\": \"Region=Sub-Saharan Africa\", \"marker\": {\"color\": \"#636efa\"}, \"name\": \"Region=Sub-Saharan Africa\", \"offsetgroup\": \"Region=Sub-Saharan Africa\", \"orientation\": \"v\", \"showlegend\": true, \"text\": [4.1924722222222215], \"textposition\": \"auto\", \"x\": [\"Sub-Saharan Africa\"], \"xaxis\": \"x\", \"y\": [4.1924722222222215], \"yaxis\": \"y\", \"type\": \"bar\"}, {\"alignmentgroup\": \"True\", \"hoverlabel\": {\"namelength\": 0}, \"hovertemplate\": \"Region=%{x}<br>variable=2018<br>value=%{text}\", \"legendgroup\": \"Region=Southern Asia\", \"marker\": {\"color\": \"#EF553B\"}, \"name\": \"Region=Southern Asia\", \"offsetgroup\": \"Region=Southern Asia\", \"orientation\": \"v\", \"showlegend\": true, \"text\": [4.6038571428571435], \"textposition\": \"auto\", \"x\": [\"Southern Asia\"], \"xaxis\": \"x\", \"y\": [4.6038571428571435], \"yaxis\": \"y\", \"type\": \"bar\"}, {\"alignmentgroup\": \"True\", \"hoverlabel\": {\"namelength\": 0}, \"hovertemplate\": \"Region=%{x}<br>variable=2018<br>value=%{text}\", \"legendgroup\": \"Region=Middle East and Northern Africa\", \"marker\": {\"color\": \"#00cc96\"}, \"name\": \"Region=Middle East and Northern Africa\", \"offsetgroup\": \"Region=Middle East and Northern Africa\", \"orientation\": \"v\", \"showlegend\": true, \"text\": [5.282736842105263], \"textposition\": \"auto\", \"x\": [\"Middle East and Northern Africa\"], \"xaxis\": \"x\", \"y\": [5.282736842105263], \"yaxis\": \"y\", \"type\": \"bar\"}, {\"alignmentgroup\": \"True\", \"hoverlabel\": {\"namelength\": 0}, \"hovertemplate\": \"Region=%{x}<br>variable=2018<br>value=%{text}\", \"legendgroup\": \"Region=Southeastern Asia\", \"marker\": {\"color\": \"#ab63fa\"}, \"name\": \"Region=Southeastern Asia\", \"offsetgroup\": \"Region=Southeastern Asia\", \"orientation\": \"v\", \"showlegend\": true, \"text\": [5.3134444444444435], \"textposition\": \"auto\", \"x\": [\"Southeastern Asia\"], \"xaxis\": \"x\", \"y\": [5.3134444444444435], \"yaxis\": \"y\", \"type\": \"bar\"}, {\"alignmentgroup\": \"True\", \"hoverlabel\": {\"namelength\": 0}, \"hovertemplate\": \"Region=%{x}<br>variable=2018<br>value=%{text}\", \"legendgroup\": \"Region=Central and Eastern Europe\", \"marker\": {\"color\": \"#FFA15A\"}, \"name\": \"Region=Central and Eastern Europe\", \"offsetgroup\": \"Region=Central and Eastern Europe\", \"orientation\": \"v\", \"showlegend\": true, \"text\": [5.4639655172413795], \"textposition\": \"auto\", \"x\": [\"Central and Eastern Europe\"], \"xaxis\": \"x\", \"y\": [5.4639655172413795], \"yaxis\": \"y\", \"type\": \"bar\"}, {\"alignmentgroup\": \"True\", \"hoverlabel\": {\"namelength\": 0}, \"hovertemplate\": \"Region=%{x}<br>variable=2018<br>value=%{text}\", \"legendgroup\": \"Region=Eastern Asia\", \"marker\": {\"color\": \"#19d3f3\"}, \"name\": \"Region=Eastern Asia\", \"offsetgroup\": \"Region=Eastern Asia\", \"orientation\": \"v\", \"showlegend\": true, \"text\": [5.672000000000001], \"textposition\": \"auto\", \"x\": [\"Eastern Asia\"], \"xaxis\": \"x\", \"y\": [5.672000000000001], \"yaxis\": \"y\", \"type\": \"bar\"}, {\"alignmentgroup\": \"True\", \"hoverlabel\": {\"namelength\": 0}, \"hovertemplate\": \"Region=%{x}<br>variable=2018<br>value=%{text}\", \"legendgroup\": \"Region=Latin America and Caribbean\", \"marker\": {\"color\": \"#FF6692\"}, \"name\": \"Region=Latin America and Caribbean\", \"offsetgroup\": \"Region=Latin America and Caribbean\", \"orientation\": \"v\", \"showlegend\": true, \"text\": [5.937749999999999], \"textposition\": \"auto\", \"x\": [\"Latin America and Caribbean\"], \"xaxis\": \"x\", \"y\": [5.937749999999999], \"yaxis\": \"y\", \"type\": \"bar\"}, {\"alignmentgroup\": \"True\", \"hoverlabel\": {\"namelength\": 0}, \"hovertemplate\": \"Region=%{x}<br>variable=2018<br>value=%{text}\", \"legendgroup\": \"Region=Western Europe\", \"marker\": {\"color\": \"#B6E880\"}, \"name\": \"Region=Western Europe\", \"offsetgroup\": \"Region=Western Europe\", \"orientation\": \"v\", \"showlegend\": true, \"text\": [6.829100000000001], \"textposition\": \"auto\", \"x\": [\"Western Europe\"], \"xaxis\": \"x\", \"y\": [6.829100000000001], \"yaxis\": \"y\", \"type\": \"bar\"}, {\"alignmentgroup\": \"True\", \"hoverlabel\": {\"namelength\": 0}, \"hovertemplate\": \"Region=%{x}<br>variable=2018<br>value=%{text}\", \"legendgroup\": \"Region=North America\", \"marker\": {\"color\": \"#FF97FF\"}, \"name\": \"Region=North America\", \"offsetgroup\": \"Region=North America\", \"orientation\": \"v\", \"showlegend\": true, \"text\": [7.106999999999999], \"textposition\": \"auto\", \"x\": [\"North America\"], \"xaxis\": \"x\", \"y\": [7.106999999999999], \"yaxis\": \"y\", \"type\": \"bar\"}, {\"alignmentgroup\": \"True\", \"hoverlabel\": {\"namelength\": 0}, \"hovertemplate\": \"Region=%{x}<br>variable=2018<br>value=%{text}\", \"legendgroup\": \"Region=Australia and New Zealand\", \"marker\": {\"color\": \"#FECB52\"}, \"name\": \"Region=Australia and New Zealand\", \"offsetgroup\": \"Region=Australia and New Zealand\", \"orientation\": \"v\", \"showlegend\": true, \"text\": [7.298], \"textposition\": \"auto\", \"x\": [\"Australia and New Zealand\"], \"xaxis\": \"x\", \"y\": [7.298], \"yaxis\": \"y\", \"type\": \"bar\"}], \"name\": \"2018\"}, {\"data\": [{\"alignmentgroup\": \"True\", \"hoverlabel\": {\"namelength\": 0}, \"hovertemplate\": \"Region=%{x}<br>variable=2015<br>value=%{text}\", \"legendgroup\": \"Region=Sub-Saharan Africa\", \"marker\": {\"color\": \"#636efa\"}, \"name\": \"Region=Sub-Saharan Africa\", \"offsetgroup\": \"Region=Sub-Saharan Africa\", \"orientation\": \"v\", \"showlegend\": true, \"text\": [4.202800000000001], \"textposition\": \"auto\", \"x\": [\"Sub-Saharan Africa\"], \"xaxis\": \"x\", \"y\": [4.202800000000001], \"yaxis\": \"y\", \"type\": \"bar\"}, {\"alignmentgroup\": \"True\", \"hoverlabel\": {\"namelength\": 0}, \"hovertemplate\": \"Region=%{x}<br>variable=2015<br>value=%{text}\", \"legendgroup\": \"Region=Southern Asia\", \"marker\": {\"color\": \"#EF553B\"}, \"name\": \"Region=Southern Asia\", \"offsetgroup\": \"Region=Southern Asia\", \"orientation\": \"v\", \"showlegend\": true, \"text\": [4.580857142857143], \"textposition\": \"auto\", \"x\": [\"Southern Asia\"], \"xaxis\": \"x\", \"y\": [4.580857142857143], \"yaxis\": \"y\", \"type\": \"bar\"}, {\"alignmentgroup\": \"True\", \"hoverlabel\": {\"namelength\": 0}, \"hovertemplate\": \"Region=%{x}<br>variable=2015<br>value=%{text}\", \"legendgroup\": \"Region=Middle East and Northern Africa\", \"marker\": {\"color\": \"#00cc96\"}, \"name\": \"Region=Middle East and Northern Africa\", \"offsetgroup\": \"Region=Middle East and Northern Africa\", \"orientation\": \"v\", \"showlegend\": true, \"text\": [5.406899999999999], \"textposition\": \"auto\", \"x\": [\"Middle East and Northern Africa\"], \"xaxis\": \"x\", \"y\": [5.406899999999999], \"yaxis\": \"y\", \"type\": \"bar\"}, {\"alignmentgroup\": \"True\", \"hoverlabel\": {\"namelength\": 0}, \"hovertemplate\": \"Region=%{x}<br>variable=2015<br>value=%{text}\", \"legendgroup\": \"Region=Southeastern Asia\", \"marker\": {\"color\": \"#ab63fa\"}, \"name\": \"Region=Southeastern Asia\", \"offsetgroup\": \"Region=Southeastern Asia\", \"orientation\": \"v\", \"showlegend\": true, \"text\": [5.317444444444445], \"textposition\": \"auto\", \"x\": [\"Southeastern Asia\"], \"xaxis\": \"x\", \"y\": [5.317444444444445], \"yaxis\": \"y\", \"type\": \"bar\"}, {\"alignmentgroup\": \"True\", \"hoverlabel\": {\"namelength\": 0}, \"hovertemplate\": \"Region=%{x}<br>variable=2015<br>value=%{text}\", \"legendgroup\": \"Region=Central and Eastern Europe\", \"marker\": {\"color\": \"#FFA15A\"}, \"name\": \"Region=Central and Eastern Europe\", \"offsetgroup\": \"Region=Central and Eastern Europe\", \"orientation\": \"v\", \"showlegend\": true, \"text\": [5.332931034482758], \"textposition\": \"auto\", \"x\": [\"Central and Eastern Europe\"], \"xaxis\": \"x\", \"y\": [5.332931034482758], \"yaxis\": \"y\", \"type\": \"bar\"}, {\"alignmentgroup\": \"True\", \"hoverlabel\": {\"namelength\": 0}, \"hovertemplate\": \"Region=%{x}<br>variable=2015<br>value=%{text}\", \"legendgroup\": \"Region=Eastern Asia\", \"marker\": {\"color\": \"#19d3f3\"}, \"name\": \"Region=Eastern Asia\", \"offsetgroup\": \"Region=Eastern Asia\", \"orientation\": \"v\", \"showlegend\": true, \"text\": [5.626166666666666], \"textposition\": \"auto\", \"x\": [\"Eastern Asia\"], \"xaxis\": \"x\", \"y\": [5.626166666666666], \"yaxis\": \"y\", \"type\": \"bar\"}, {\"alignmentgroup\": \"True\", \"hoverlabel\": {\"namelength\": 0}, \"hovertemplate\": \"Region=%{x}<br>variable=2015<br>value=%{text}\", \"legendgroup\": \"Region=Latin America and Caribbean\", \"marker\": {\"color\": \"#FF6692\"}, \"name\": \"Region=Latin America and Caribbean\", \"offsetgroup\": \"Region=Latin America and Caribbean\", \"orientation\": \"v\", \"showlegend\": true, \"text\": [6.144681818181818], \"textposition\": \"auto\", \"x\": [\"Latin America and Caribbean\"], \"xaxis\": \"x\", \"y\": [6.144681818181818], \"yaxis\": \"y\", \"type\": \"bar\"}, {\"alignmentgroup\": \"True\", \"hoverlabel\": {\"namelength\": 0}, \"hovertemplate\": \"Region=%{x}<br>variable=2015<br>value=%{text}\", \"legendgroup\": \"Region=Western Europe\", \"marker\": {\"color\": \"#B6E880\"}, \"name\": \"Region=Western Europe\", \"offsetgroup\": \"Region=Western Europe\", \"orientation\": \"v\", \"showlegend\": true, \"text\": [6.689619047619048], \"textposition\": \"auto\", \"x\": [\"Western Europe\"], \"xaxis\": \"x\", \"y\": [6.689619047619048], \"yaxis\": \"y\", \"type\": \"bar\"}, {\"alignmentgroup\": \"True\", \"hoverlabel\": {\"namelength\": 0}, \"hovertemplate\": \"Region=%{x}<br>variable=2015<br>value=%{text}\", \"legendgroup\": \"Region=North America\", \"marker\": {\"color\": \"#FF97FF\"}, \"name\": \"Region=North America\", \"offsetgroup\": \"Region=North America\", \"orientation\": \"v\", \"showlegend\": true, \"text\": [7.273], \"textposition\": \"auto\", \"x\": [\"North America\"], \"xaxis\": \"x\", \"y\": [7.273], \"yaxis\": \"y\", \"type\": \"bar\"}, {\"alignmentgroup\": \"True\", \"hoverlabel\": {\"namelength\": 0}, \"hovertemplate\": \"Region=%{x}<br>variable=2015<br>value=%{text}\", \"legendgroup\": \"Region=Australia and New Zealand\", \"marker\": {\"color\": \"#FECB52\"}, \"name\": \"Region=Australia and New Zealand\", \"offsetgroup\": \"Region=Australia and New Zealand\", \"orientation\": \"v\", \"showlegend\": true, \"text\": [7.285], \"textposition\": \"auto\", \"x\": [\"Australia and New Zealand\"], \"xaxis\": \"x\", \"y\": [7.285], \"yaxis\": \"y\", \"type\": \"bar\"}], \"name\": \"2015\"}, {\"data\": [{\"alignmentgroup\": \"True\", \"hoverlabel\": {\"namelength\": 0}, \"hovertemplate\": \"Region=%{x}<br>variable=2019<br>value=%{text}\", \"legendgroup\": \"Region=Sub-Saharan Africa\", \"marker\": {\"color\": \"#636efa\"}, \"name\": \"Region=Sub-Saharan Africa\", \"offsetgroup\": \"Region=Sub-Saharan Africa\", \"orientation\": \"v\", \"showlegend\": true, \"text\": [4.314611111111111], \"textposition\": \"auto\", \"x\": [\"Sub-Saharan Africa\"], \"xaxis\": \"x\", \"y\": [4.314611111111111], \"yaxis\": \"y\", \"type\": \"bar\"}, {\"alignmentgroup\": \"True\", \"hoverlabel\": {\"namelength\": 0}, \"hovertemplate\": \"Region=%{x}<br>variable=2019<br>value=%{text}\", \"legendgroup\": \"Region=Southern Asia\", \"marker\": {\"color\": \"#EF553B\"}, \"name\": \"Region=Southern Asia\", \"offsetgroup\": \"Region=Southern Asia\", \"orientation\": \"v\", \"showlegend\": true, \"text\": [4.526857142857143], \"textposition\": \"auto\", \"x\": [\"Southern Asia\"], \"xaxis\": \"x\", \"y\": [4.526857142857143], \"yaxis\": \"y\", \"type\": \"bar\"}, {\"alignmentgroup\": \"True\", \"hoverlabel\": {\"namelength\": 0}, \"hovertemplate\": \"Region=%{x}<br>variable=2019<br>value=%{text}\", \"legendgroup\": \"Region=Middle East and Northern Africa\", \"marker\": {\"color\": \"#00cc96\"}, \"name\": \"Region=Middle East and Northern Africa\", \"offsetgroup\": \"Region=Middle East and Northern Africa\", \"orientation\": \"v\", \"showlegend\": true, \"text\": [5.236999999999999], \"textposition\": \"auto\", \"x\": [\"Middle East and Northern Africa\"], \"xaxis\": \"x\", \"y\": [5.236999999999999], \"yaxis\": \"y\", \"type\": \"bar\"}, {\"alignmentgroup\": \"True\", \"hoverlabel\": {\"namelength\": 0}, \"hovertemplate\": \"Region=%{x}<br>variable=2019<br>value=%{text}\", \"legendgroup\": \"Region=Southeastern Asia\", \"marker\": {\"color\": \"#ab63fa\"}, \"name\": \"Region=Southeastern Asia\", \"offsetgroup\": \"Region=Southeastern Asia\", \"orientation\": \"v\", \"showlegend\": true, \"text\": [5.273666666666667], \"textposition\": \"auto\", \"x\": [\"Southeastern Asia\"], \"xaxis\": \"x\", \"y\": [5.273666666666667], \"yaxis\": \"y\", \"type\": \"bar\"}, {\"alignmentgroup\": \"True\", \"hoverlabel\": {\"namelength\": 0}, \"hovertemplate\": \"Region=%{x}<br>variable=2019<br>value=%{text}\", \"legendgroup\": \"Region=Central and Eastern Europe\", \"marker\": {\"color\": \"#FFA15A\"}, \"name\": \"Region=Central and Eastern Europe\", \"offsetgroup\": \"Region=Central and Eastern Europe\", \"orientation\": \"v\", \"showlegend\": true, \"text\": [5.571785714285713], \"textposition\": \"auto\", \"x\": [\"Central and Eastern Europe\"], \"xaxis\": \"x\", \"y\": [5.571785714285713], \"yaxis\": \"y\", \"type\": \"bar\"}, {\"alignmentgroup\": \"True\", \"hoverlabel\": {\"namelength\": 0}, \"hovertemplate\": \"Region=%{x}<br>variable=2019<br>value=%{text}\", \"legendgroup\": \"Region=Eastern Asia\", \"marker\": {\"color\": \"#19d3f3\"}, \"name\": \"Region=Eastern Asia\", \"offsetgroup\": \"Region=Eastern Asia\", \"orientation\": \"v\", \"showlegend\": true, \"text\": [5.688833333333334], \"textposition\": \"auto\", \"x\": [\"Eastern Asia\"], \"xaxis\": \"x\", \"y\": [5.688833333333334], \"yaxis\": \"y\", \"type\": \"bar\"}, {\"alignmentgroup\": \"True\", \"hoverlabel\": {\"namelength\": 0}, \"hovertemplate\": \"Region=%{x}<br>variable=2019<br>value=%{text}\", \"legendgroup\": \"Region=Latin America and Caribbean\", \"marker\": {\"color\": \"#FF6692\"}, \"name\": \"Region=Latin America and Caribbean\", \"offsetgroup\": \"Region=Latin America and Caribbean\", \"orientation\": \"v\", \"showlegend\": true, \"text\": [5.942549999999999], \"textposition\": \"auto\", \"x\": [\"Latin America and Caribbean\"], \"xaxis\": \"x\", \"y\": [5.942549999999999], \"yaxis\": \"y\", \"type\": \"bar\"}, {\"alignmentgroup\": \"True\", \"hoverlabel\": {\"namelength\": 0}, \"hovertemplate\": \"Region=%{x}<br>variable=2019<br>value=%{text}\", \"legendgroup\": \"Region=Western Europe\", \"marker\": {\"color\": \"#B6E880\"}, \"name\": \"Region=Western Europe\", \"offsetgroup\": \"Region=Western Europe\", \"orientation\": \"v\", \"showlegend\": true, \"text\": [6.8984000000000005], \"textposition\": \"auto\", \"x\": [\"Western Europe\"], \"xaxis\": \"x\", \"y\": [6.8984000000000005], \"yaxis\": \"y\", \"type\": \"bar\"}, {\"alignmentgroup\": \"True\", \"hoverlabel\": {\"namelength\": 0}, \"hovertemplate\": \"Region=%{x}<br>variable=2019<br>value=%{text}\", \"legendgroup\": \"Region=North America\", \"marker\": {\"color\": \"#FF97FF\"}, \"name\": \"Region=North America\", \"offsetgroup\": \"Region=North America\", \"orientation\": \"v\", \"showlegend\": true, \"text\": [7.085], \"textposition\": \"auto\", \"x\": [\"North America\"], \"xaxis\": \"x\", \"y\": [7.085], \"yaxis\": \"y\", \"type\": \"bar\"}, {\"alignmentgroup\": \"True\", \"hoverlabel\": {\"namelength\": 0}, \"hovertemplate\": \"Region=%{x}<br>variable=2019<br>value=%{text}\", \"legendgroup\": \"Region=Australia and New Zealand\", \"marker\": {\"color\": \"#FECB52\"}, \"name\": \"Region=Australia and New Zealand\", \"offsetgroup\": \"Region=Australia and New Zealand\", \"orientation\": \"v\", \"showlegend\": true, \"text\": [7.2675], \"textposition\": \"auto\", \"x\": [\"Australia and New Zealand\"], \"xaxis\": \"x\", \"y\": [7.2675], \"yaxis\": \"y\", \"type\": \"bar\"}], \"name\": \"2019\"}]);\n",
              "                        }).then(function(){\n",
              "                            \n",
              "var gd = document.getElementById('487d8911-dc1a-431d-9ddb-61021d6b7a84');\n",
              "var x = new MutationObserver(function (mutations, observer) {{\n",
              "        var display = window.getComputedStyle(gd).display;\n",
              "        if (!display || display === 'none') {{\n",
              "            console.log([gd, 'removed!']);\n",
              "            Plotly.purge(gd);\n",
              "            observer.disconnect();\n",
              "        }}\n",
              "}});\n",
              "\n",
              "// Listen for the removal of the full notebook cells\n",
              "var notebookContainer = gd.closest('#notebook-container');\n",
              "if (notebookContainer) {{\n",
              "    x.observe(notebookContainer, {childList: true});\n",
              "}}\n",
              "\n",
              "// Listen for the clearing of the current output cell\n",
              "var outputEl = gd.closest('.output');\n",
              "if (outputEl) {{\n",
              "    x.observe(outputEl, {childList: true});\n",
              "}}\n",
              "\n",
              "                        })\n",
              "                };\n",
              "                \n",
              "            </script>\n",
              "        </div>\n",
              "</body>\n",
              "</html>"
            ]
          },
          "metadata": {}
        }
      ]
    },
    {
      "cell_type": "code",
      "source": [
        "df_1 = pd.concat([df2015.melt(id_vars=['Country','Year','Happiness Score','Happiness Rank','Region']),\n",
        "                 df2016.melt(id_vars=['Country','Year','Happiness Score','Happiness Rank','Region']),],ignore_index=True)\n",
        "fig = px.bar(df_1[df_1[\"Happiness Rank\"] <=10].sort_values(by=\"Happiness Score\"), y=\"Country\", x=\"value\", color='variable',animation_frame='Year',\n",
        "             height=700,title=\"2015-2016 Yılları Arası Mutluluk Değişimi\",opacity=.2,text=\"value\")\n",
        "fig.update_traces(texttemplate='%{text:.2f}',textposition='auto')\n",
        "fig.update_layout(transition = {'duration': 1000})\n",
        "fig.show(renderer=\"colab\")"
      ],
      "metadata": {
        "colab": {
          "base_uri": "https://localhost:8080/",
          "height": 717
        },
        "id": "CIYkYksUn71Y",
        "outputId": "b6287a97-13fc-488e-83eb-6e726d8d162e"
      },
      "execution_count": null,
      "outputs": [
        {
          "output_type": "display_data",
          "data": {
            "text/html": [
              "<html>\n",
              "<head><meta charset=\"utf-8\" /></head>\n",
              "<body>\n",
              "    <div>\n",
              "            <script src=\"https://cdnjs.cloudflare.com/ajax/libs/mathjax/2.7.5/MathJax.js?config=TeX-AMS-MML_SVG\"></script><script type=\"text/javascript\">if (window.MathJax) {MathJax.Hub.Config({SVG: {font: \"STIX-Web\"}});}</script>\n",
              "                <script type=\"text/javascript\">window.PlotlyConfig = {MathJaxConfig: 'local'};</script>\n",
              "        <script src=\"https://cdn.plot.ly/plotly-latest.min.js\"></script>    \n",
              "            <div id=\"63a7291e-fbdf-409e-91c7-5501f2d9ab05\" class=\"plotly-graph-div\" style=\"height:700px; width:100%;\"></div>\n",
              "            <script type=\"text/javascript\">\n",
              "                \n",
              "                    window.PLOTLYENV=window.PLOTLYENV || {};\n",
              "                    \n",
              "                if (document.getElementById(\"63a7291e-fbdf-409e-91c7-5501f2d9ab05\")) {\n",
              "                    Plotly.newPlot(\n",
              "                        '63a7291e-fbdf-409e-91c7-5501f2d9ab05',\n",
              "                        [{\"alignmentgroup\": \"True\", \"hoverlabel\": {\"namelength\": 0}, \"hovertemplate\": \"variable=Dystopia Residual<br>Year=2015<br>value=%{text}<br>Country=%{y}\", \"legendgroup\": \"variable=Dystopia Residual\", \"marker\": {\"color\": \"#636efa\", \"opacity\": 0.2}, \"name\": \"variable=Dystopia Residual\", \"offsetgroup\": \"variable=Dystopia Residual\", \"orientation\": \"v\", \"showlegend\": true, \"text\": [2.26646, 2.26425, 2.3711900000000004, 2.4657, 2.61955, 2.4517599999999997, 2.4653099999999997, 2.4920400000000003, 2.70201, 2.5173799999999997], \"textposition\": \"auto\", \"texttemplate\": \"%{text:.2f}\", \"type\": \"bar\", \"x\": [2.26646, 2.26425, 2.3711900000000004, 2.4657, 2.61955, 2.4517599999999997, 2.4653099999999997, 2.4920400000000003, 2.70201, 2.5173799999999997], \"xaxis\": \"x\", \"y\": [\"Australia\", \"New Zealand\", \"Sweden\", \"Netherlands\", \"Finland\", \"Canada\", \"Norway\", \"Denmark\", \"Iceland\", \"Switzerland\"], \"yaxis\": \"y\"}, {\"alignmentgroup\": \"True\", \"hoverlabel\": {\"namelength\": 0}, \"hovertemplate\": \"variable=Life<br>Year=2015<br>value=%{text}<br>Country=%{y}\", \"legendgroup\": \"variable=Life\", \"marker\": {\"color\": \"#EF553B\", \"opacity\": 0.2}, \"name\": \"variable=Life\", \"offsetgroup\": \"variable=Life\", \"orientation\": \"v\", \"showlegend\": true, \"text\": [0.93156, 0.9083700000000001, 0.9108700000000001, 0.89284, 0.8891100000000001, 0.9056299999999999, 0.88521, 0.87464, 0.94784, 0.9414299999999999], \"textposition\": \"auto\", \"texttemplate\": \"%{text:.2f}\", \"type\": \"bar\", \"x\": [0.93156, 0.9083700000000001, 0.9108700000000001, 0.89284, 0.8891100000000001, 0.9056299999999999, 0.88521, 0.87464, 0.94784, 0.9414299999999999], \"xaxis\": \"x\", \"y\": [\"Australia\", \"New Zealand\", \"Sweden\", \"Netherlands\", \"Finland\", \"Canada\", \"Norway\", \"Denmark\", \"Iceland\", \"Switzerland\"], \"yaxis\": \"y\"}, {\"alignmentgroup\": \"True\", \"hoverlabel\": {\"namelength\": 0}, \"hovertemplate\": \"variable=Freedom<br>Year=2015<br>value=%{text}<br>Country=%{y}\", \"legendgroup\": \"variable=Freedom\", \"marker\": {\"color\": \"#00cc96\", \"opacity\": 0.2}, \"name\": \"variable=Freedom\", \"offsetgroup\": \"variable=Freedom\", \"orientation\": \"v\", \"showlegend\": true, \"text\": [0.6512399999999999, 0.6393800000000001, 0.6598, 0.6157600000000001, 0.64169, 0.63297, 0.66973, 0.6493800000000001, 0.6287699999999999, 0.66557], \"textposition\": \"auto\", \"texttemplate\": \"%{text:.2f}\", \"type\": \"bar\", \"x\": [0.6512399999999999, 0.6393800000000001, 0.6598, 0.6157600000000001, 0.64169, 0.63297, 0.66973, 0.6493800000000001, 0.6287699999999999, 0.66557], \"xaxis\": \"x\", \"y\": [\"Australia\", \"New Zealand\", \"Sweden\", \"Netherlands\", \"Finland\", \"Canada\", \"Norway\", \"Denmark\", \"Iceland\", \"Switzerland\"], \"yaxis\": \"y\"}, {\"alignmentgroup\": \"True\", \"hoverlabel\": {\"namelength\": 0}, \"hovertemplate\": \"variable=Trust<br>Year=2015<br>value=%{text}<br>Country=%{y}\", \"legendgroup\": \"variable=Trust\", \"marker\": {\"color\": \"#ab63fa\", \"opacity\": 0.2}, \"name\": \"variable=Trust\", \"offsetgroup\": \"variable=Trust\", \"orientation\": \"v\", \"showlegend\": true, \"text\": [0.35636999999999996, 0.42922, 0.43843999999999994, 0.31814000000000003, 0.41372, 0.32957, 0.36503, 0.48357, 0.14145, 0.41978000000000004], \"textposition\": \"auto\", \"texttemplate\": \"%{text:.2f}\", \"type\": \"bar\", \"x\": [0.35636999999999996, 0.42922, 0.43843999999999994, 0.31814000000000003, 0.41372, 0.32957, 0.36503, 0.48357, 0.14145, 0.41978000000000004], \"xaxis\": \"x\", \"y\": [\"Australia\", \"New Zealand\", \"Sweden\", \"Netherlands\", \"Finland\", \"Canada\", \"Norway\", \"Denmark\", \"Iceland\", \"Switzerland\"], \"yaxis\": \"y\"}, {\"alignmentgroup\": \"True\", \"hoverlabel\": {\"namelength\": 0}, \"hovertemplate\": \"variable=Generosity<br>Year=2015<br>value=%{text}<br>Country=%{y}\", \"legendgroup\": \"variable=Generosity\", \"marker\": {\"color\": \"#FFA15A\", \"opacity\": 0.2}, \"name\": \"variable=Generosity\", \"offsetgroup\": \"variable=Generosity\", \"orientation\": \"v\", \"showlegend\": true, \"text\": [0.43562, 0.47501000000000004, 0.36262, 0.4761, 0.23351, 0.45811, 0.34699, 0.34139, 0.4363, 0.29678000000000004], \"textposition\": \"auto\", \"texttemplate\": \"%{text:.2f}\", \"type\": \"bar\", \"x\": [0.43562, 0.47501000000000004, 0.36262, 0.4761, 0.23351, 0.45811, 0.34699, 0.34139, 0.4363, 0.29678000000000004], \"xaxis\": \"x\", \"y\": [\"Australia\", \"New Zealand\", \"Sweden\", \"Netherlands\", \"Finland\", \"Canada\", \"Norway\", \"Denmark\", \"Iceland\", \"Switzerland\"], \"yaxis\": \"y\"}, {\"alignmentgroup\": \"True\", \"hoverlabel\": {\"namelength\": 0}, \"hovertemplate\": \"variable=GDP<br>Year=2015<br>value=%{text}<br>Country=%{y}\", \"legendgroup\": \"variable=GDP\", \"marker\": {\"color\": \"#19d3f3\", \"opacity\": 0.2}, \"name\": \"variable=GDP\", \"offsetgroup\": \"variable=GDP\", \"orientation\": \"v\", \"showlegend\": true, \"text\": [1.33358, 1.2501799999999998, 1.33171, 1.32944, 1.29025, 1.32629, 1.459, 1.32548, 1.3023200000000001, 1.3965100000000001], \"textposition\": \"auto\", \"texttemplate\": \"%{text:.2f}\", \"type\": \"bar\", \"x\": [1.33358, 1.2501799999999998, 1.33171, 1.32944, 1.29025, 1.32629, 1.459, 1.32548, 1.3023200000000001, 1.3965100000000001], \"xaxis\": \"x\", \"y\": [\"Australia\", \"New Zealand\", \"Sweden\", \"Netherlands\", \"Finland\", \"Canada\", \"Norway\", \"Denmark\", \"Iceland\", \"Switzerland\"], \"yaxis\": \"y\"}, {\"alignmentgroup\": \"True\", \"hoverlabel\": {\"namelength\": 0}, \"hovertemplate\": \"variable=Family<br>Year=2015<br>value=%{text}<br>Country=%{y}\", \"legendgroup\": \"variable=Family\", \"marker\": {\"color\": \"#FF6692\", \"opacity\": 0.2}, \"name\": \"variable=Family\", \"offsetgroup\": \"variable=Family\", \"orientation\": \"v\", \"showlegend\": true, \"text\": [1.30923, 1.3196700000000001, 1.2890700000000002, 1.28017, 1.31826, 1.32261, 1.33095, 1.36058, 1.4022299999999999, 1.34951], \"textposition\": \"auto\", \"texttemplate\": \"%{text:.2f}\", \"type\": \"bar\", \"x\": [1.30923, 1.3196700000000001, 1.2890700000000002, 1.28017, 1.31826, 1.32261, 1.33095, 1.36058, 1.4022299999999999, 1.34951], \"xaxis\": \"x\", \"y\": [\"Australia\", \"New Zealand\", \"Sweden\", \"Netherlands\", \"Finland\", \"Canada\", \"Norway\", \"Denmark\", \"Iceland\", \"Switzerland\"], \"yaxis\": \"y\"}],\n",
              "                        {\"barmode\": \"relative\", \"height\": 700, \"legend\": {\"tracegroupgap\": 0}, \"sliders\": [{\"active\": 0, \"currentvalue\": {\"prefix\": \"Year=\"}, \"len\": 0.9, \"pad\": {\"b\": 10, \"t\": 60}, \"steps\": [{\"args\": [[\"2015\"], {\"frame\": {\"duration\": 0, \"redraw\": true}, \"fromcurrent\": true, \"mode\": \"immediate\", \"transition\": {\"duration\": 0, \"easing\": \"linear\"}}], \"label\": \"2015\", \"method\": \"animate\"}, {\"args\": [[\"2016\"], {\"frame\": {\"duration\": 0, \"redraw\": true}, \"fromcurrent\": true, \"mode\": \"immediate\", \"transition\": {\"duration\": 0, \"easing\": \"linear\"}}], \"label\": \"2016\", \"method\": \"animate\"}], \"x\": 0.1, \"xanchor\": \"left\", \"y\": 0, \"yanchor\": \"top\"}], \"template\": {\"data\": {\"bar\": [{\"error_x\": {\"color\": \"#2a3f5f\"}, \"error_y\": {\"color\": \"#2a3f5f\"}, \"marker\": {\"line\": {\"color\": \"#E5ECF6\", \"width\": 0.5}}, \"type\": \"bar\"}], \"barpolar\": [{\"marker\": {\"line\": {\"color\": \"#E5ECF6\", \"width\": 0.5}}, \"type\": \"barpolar\"}], \"carpet\": [{\"aaxis\": {\"endlinecolor\": \"#2a3f5f\", \"gridcolor\": \"white\", \"linecolor\": \"white\", \"minorgridcolor\": \"white\", \"startlinecolor\": \"#2a3f5f\"}, \"baxis\": {\"endlinecolor\": \"#2a3f5f\", \"gridcolor\": \"white\", \"linecolor\": \"white\", \"minorgridcolor\": \"white\", \"startlinecolor\": \"#2a3f5f\"}, \"type\": \"carpet\"}], \"choropleth\": [{\"colorbar\": {\"outlinewidth\": 0, \"ticks\": \"\"}, \"type\": \"choropleth\"}], \"contour\": [{\"colorbar\": {\"outlinewidth\": 0, \"ticks\": \"\"}, \"colorscale\": [[0.0, \"#0d0887\"], [0.1111111111111111, \"#46039f\"], [0.2222222222222222, \"#7201a8\"], [0.3333333333333333, \"#9c179e\"], [0.4444444444444444, \"#bd3786\"], [0.5555555555555556, \"#d8576b\"], [0.6666666666666666, \"#ed7953\"], [0.7777777777777778, \"#fb9f3a\"], [0.8888888888888888, \"#fdca26\"], [1.0, \"#f0f921\"]], \"type\": \"contour\"}], \"contourcarpet\": [{\"colorbar\": {\"outlinewidth\": 0, \"ticks\": \"\"}, \"type\": \"contourcarpet\"}], \"heatmap\": [{\"colorbar\": {\"outlinewidth\": 0, \"ticks\": \"\"}, \"colorscale\": [[0.0, \"#0d0887\"], [0.1111111111111111, \"#46039f\"], [0.2222222222222222, \"#7201a8\"], [0.3333333333333333, \"#9c179e\"], [0.4444444444444444, \"#bd3786\"], [0.5555555555555556, \"#d8576b\"], [0.6666666666666666, \"#ed7953\"], [0.7777777777777778, \"#fb9f3a\"], [0.8888888888888888, \"#fdca26\"], [1.0, \"#f0f921\"]], \"type\": \"heatmap\"}], \"heatmapgl\": [{\"colorbar\": {\"outlinewidth\": 0, \"ticks\": \"\"}, \"colorscale\": [[0.0, \"#0d0887\"], [0.1111111111111111, \"#46039f\"], [0.2222222222222222, \"#7201a8\"], [0.3333333333333333, \"#9c179e\"], [0.4444444444444444, \"#bd3786\"], [0.5555555555555556, \"#d8576b\"], [0.6666666666666666, \"#ed7953\"], [0.7777777777777778, \"#fb9f3a\"], [0.8888888888888888, \"#fdca26\"], [1.0, \"#f0f921\"]], \"type\": \"heatmapgl\"}], \"histogram\": [{\"marker\": {\"colorbar\": {\"outlinewidth\": 0, \"ticks\": \"\"}}, \"type\": \"histogram\"}], \"histogram2d\": [{\"colorbar\": {\"outlinewidth\": 0, \"ticks\": \"\"}, \"colorscale\": [[0.0, \"#0d0887\"], [0.1111111111111111, \"#46039f\"], [0.2222222222222222, \"#7201a8\"], [0.3333333333333333, \"#9c179e\"], [0.4444444444444444, \"#bd3786\"], [0.5555555555555556, \"#d8576b\"], [0.6666666666666666, \"#ed7953\"], [0.7777777777777778, \"#fb9f3a\"], [0.8888888888888888, \"#fdca26\"], [1.0, \"#f0f921\"]], \"type\": \"histogram2d\"}], \"histogram2dcontour\": [{\"colorbar\": {\"outlinewidth\": 0, \"ticks\": \"\"}, \"colorscale\": [[0.0, \"#0d0887\"], [0.1111111111111111, \"#46039f\"], [0.2222222222222222, \"#7201a8\"], [0.3333333333333333, \"#9c179e\"], [0.4444444444444444, \"#bd3786\"], [0.5555555555555556, \"#d8576b\"], [0.6666666666666666, \"#ed7953\"], [0.7777777777777778, \"#fb9f3a\"], [0.8888888888888888, \"#fdca26\"], [1.0, \"#f0f921\"]], \"type\": \"histogram2dcontour\"}], \"mesh3d\": [{\"colorbar\": {\"outlinewidth\": 0, \"ticks\": \"\"}, \"type\": \"mesh3d\"}], \"parcoords\": [{\"line\": {\"colorbar\": {\"outlinewidth\": 0, \"ticks\": \"\"}}, \"type\": \"parcoords\"}], \"pie\": [{\"automargin\": true, \"type\": \"pie\"}], \"scatter\": [{\"marker\": {\"colorbar\": {\"outlinewidth\": 0, \"ticks\": \"\"}}, \"type\": \"scatter\"}], \"scatter3d\": [{\"line\": {\"colorbar\": {\"outlinewidth\": 0, \"ticks\": \"\"}}, \"marker\": {\"colorbar\": {\"outlinewidth\": 0, \"ticks\": \"\"}}, \"type\": \"scatter3d\"}], \"scattercarpet\": [{\"marker\": {\"colorbar\": {\"outlinewidth\": 0, \"ticks\": \"\"}}, \"type\": \"scattercarpet\"}], \"scattergeo\": [{\"marker\": {\"colorbar\": {\"outlinewidth\": 0, \"ticks\": \"\"}}, \"type\": \"scattergeo\"}], \"scattergl\": [{\"marker\": {\"colorbar\": {\"outlinewidth\": 0, \"ticks\": \"\"}}, \"type\": \"scattergl\"}], \"scattermapbox\": [{\"marker\": {\"colorbar\": {\"outlinewidth\": 0, \"ticks\": \"\"}}, \"type\": \"scattermapbox\"}], \"scatterpolar\": [{\"marker\": {\"colorbar\": {\"outlinewidth\": 0, \"ticks\": \"\"}}, \"type\": \"scatterpolar\"}], \"scatterpolargl\": [{\"marker\": {\"colorbar\": {\"outlinewidth\": 0, \"ticks\": \"\"}}, \"type\": \"scatterpolargl\"}], \"scatterternary\": [{\"marker\": {\"colorbar\": {\"outlinewidth\": 0, \"ticks\": \"\"}}, \"type\": \"scatterternary\"}], \"surface\": [{\"colorbar\": {\"outlinewidth\": 0, \"ticks\": \"\"}, \"colorscale\": [[0.0, \"#0d0887\"], [0.1111111111111111, \"#46039f\"], [0.2222222222222222, \"#7201a8\"], [0.3333333333333333, \"#9c179e\"], [0.4444444444444444, \"#bd3786\"], [0.5555555555555556, \"#d8576b\"], [0.6666666666666666, \"#ed7953\"], [0.7777777777777778, \"#fb9f3a\"], [0.8888888888888888, \"#fdca26\"], [1.0, \"#f0f921\"]], \"type\": \"surface\"}], \"table\": [{\"cells\": {\"fill\": {\"color\": \"#EBF0F8\"}, \"line\": {\"color\": \"white\"}}, \"header\": {\"fill\": {\"color\": \"#C8D4E3\"}, \"line\": {\"color\": \"white\"}}, \"type\": \"table\"}]}, \"layout\": {\"annotationdefaults\": {\"arrowcolor\": \"#2a3f5f\", \"arrowhead\": 0, \"arrowwidth\": 1}, \"coloraxis\": {\"colorbar\": {\"outlinewidth\": 0, \"ticks\": \"\"}}, \"colorscale\": {\"diverging\": [[0, \"#8e0152\"], [0.1, \"#c51b7d\"], [0.2, \"#de77ae\"], [0.3, \"#f1b6da\"], [0.4, \"#fde0ef\"], [0.5, \"#f7f7f7\"], [0.6, \"#e6f5d0\"], [0.7, \"#b8e186\"], [0.8, \"#7fbc41\"], [0.9, \"#4d9221\"], [1, \"#276419\"]], \"sequential\": [[0.0, \"#0d0887\"], [0.1111111111111111, \"#46039f\"], [0.2222222222222222, \"#7201a8\"], [0.3333333333333333, \"#9c179e\"], [0.4444444444444444, \"#bd3786\"], [0.5555555555555556, \"#d8576b\"], [0.6666666666666666, \"#ed7953\"], [0.7777777777777778, \"#fb9f3a\"], [0.8888888888888888, \"#fdca26\"], [1.0, \"#f0f921\"]], \"sequentialminus\": [[0.0, \"#0d0887\"], [0.1111111111111111, \"#46039f\"], [0.2222222222222222, \"#7201a8\"], [0.3333333333333333, \"#9c179e\"], [0.4444444444444444, \"#bd3786\"], [0.5555555555555556, \"#d8576b\"], [0.6666666666666666, \"#ed7953\"], [0.7777777777777778, \"#fb9f3a\"], [0.8888888888888888, \"#fdca26\"], [1.0, \"#f0f921\"]]}, \"colorway\": [\"#636efa\", \"#EF553B\", \"#00cc96\", \"#ab63fa\", \"#FFA15A\", \"#19d3f3\", \"#FF6692\", \"#B6E880\", \"#FF97FF\", \"#FECB52\"], \"font\": {\"color\": \"#2a3f5f\"}, \"geo\": {\"bgcolor\": \"white\", \"lakecolor\": \"white\", \"landcolor\": \"#E5ECF6\", \"showlakes\": true, \"showland\": true, \"subunitcolor\": \"white\"}, \"hoverlabel\": {\"align\": \"left\"}, \"hovermode\": \"closest\", \"mapbox\": {\"style\": \"light\"}, \"paper_bgcolor\": \"white\", \"plot_bgcolor\": \"#E5ECF6\", \"polar\": {\"angularaxis\": {\"gridcolor\": \"white\", \"linecolor\": \"white\", \"ticks\": \"\"}, \"bgcolor\": \"#E5ECF6\", \"radialaxis\": {\"gridcolor\": \"white\", \"linecolor\": \"white\", \"ticks\": \"\"}}, \"scene\": {\"xaxis\": {\"backgroundcolor\": \"#E5ECF6\", \"gridcolor\": \"white\", \"gridwidth\": 2, \"linecolor\": \"white\", \"showbackground\": true, \"ticks\": \"\", \"zerolinecolor\": \"white\"}, \"yaxis\": {\"backgroundcolor\": \"#E5ECF6\", \"gridcolor\": \"white\", \"gridwidth\": 2, \"linecolor\": \"white\", \"showbackground\": true, \"ticks\": \"\", \"zerolinecolor\": \"white\"}, \"zaxis\": {\"backgroundcolor\": \"#E5ECF6\", \"gridcolor\": \"white\", \"gridwidth\": 2, \"linecolor\": \"white\", \"showbackground\": true, \"ticks\": \"\", \"zerolinecolor\": \"white\"}}, \"shapedefaults\": {\"line\": {\"color\": \"#2a3f5f\"}}, \"ternary\": {\"aaxis\": {\"gridcolor\": \"white\", \"linecolor\": \"white\", \"ticks\": \"\"}, \"baxis\": {\"gridcolor\": \"white\", \"linecolor\": \"white\", \"ticks\": \"\"}, \"bgcolor\": \"#E5ECF6\", \"caxis\": {\"gridcolor\": \"white\", \"linecolor\": \"white\", \"ticks\": \"\"}}, \"title\": {\"x\": 0.05}, \"xaxis\": {\"automargin\": true, \"gridcolor\": \"white\", \"linecolor\": \"white\", \"ticks\": \"\", \"title\": {\"standoff\": 15}, \"zerolinecolor\": \"white\", \"zerolinewidth\": 2}, \"yaxis\": {\"automargin\": true, \"gridcolor\": \"white\", \"linecolor\": \"white\", \"ticks\": \"\", \"title\": {\"standoff\": 15}, \"zerolinecolor\": \"white\", \"zerolinewidth\": 2}}}, \"title\": {\"text\": \"2015-2016 Y\\u0131llar\\u0131 Aras\\u0131 Mutluluk De\\u011fi\\u015fimi\"}, \"transition\": {\"duration\": 1000}, \"updatemenus\": [{\"buttons\": [{\"args\": [null, {\"frame\": {\"duration\": 500, \"redraw\": true}, \"fromcurrent\": true, \"mode\": \"immediate\", \"transition\": {\"duration\": 500, \"easing\": \"linear\"}}], \"label\": \"&#9654;\", \"method\": \"animate\"}, {\"args\": [[null], {\"frame\": {\"duration\": 0, \"redraw\": true}, \"fromcurrent\": true, \"mode\": \"immediate\", \"transition\": {\"duration\": 0, \"easing\": \"linear\"}}], \"label\": \"&#9724;\", \"method\": \"animate\"}], \"direction\": \"left\", \"pad\": {\"r\": 10, \"t\": 70}, \"showactive\": false, \"type\": \"buttons\", \"x\": 0.1, \"xanchor\": \"right\", \"y\": 0, \"yanchor\": \"top\"}], \"xaxis\": {\"anchor\": \"y\", \"domain\": [0.0, 1.0], \"title\": {\"text\": \"value\"}}, \"yaxis\": {\"anchor\": \"x\", \"domain\": [0.0, 1.0], \"title\": {\"text\": \"Country\"}}},\n",
              "                        {\"responsive\": true}\n",
              "                    ).then(function(){\n",
              "                            Plotly.addFrames('63a7291e-fbdf-409e-91c7-5501f2d9ab05', [{\"data\": [{\"alignmentgroup\": \"True\", \"hoverlabel\": {\"namelength\": 0}, \"hovertemplate\": \"variable=Dystopia Residual<br>Year=2015<br>value=%{text}<br>Country=%{y}\", \"legendgroup\": \"variable=Dystopia Residual\", \"marker\": {\"color\": \"#636efa\", \"opacity\": 0.2}, \"name\": \"variable=Dystopia Residual\", \"offsetgroup\": \"variable=Dystopia Residual\", \"orientation\": \"v\", \"showlegend\": true, \"text\": [2.26646, 2.26425, 2.3711900000000004, 2.4657, 2.61955, 2.4517599999999997, 2.4653099999999997, 2.4920400000000003, 2.70201, 2.5173799999999997], \"textposition\": \"auto\", \"x\": [2.26646, 2.26425, 2.3711900000000004, 2.4657, 2.61955, 2.4517599999999997, 2.4653099999999997, 2.4920400000000003, 2.70201, 2.5173799999999997], \"xaxis\": \"x\", \"y\": [\"Australia\", \"New Zealand\", \"Sweden\", \"Netherlands\", \"Finland\", \"Canada\", \"Norway\", \"Denmark\", \"Iceland\", \"Switzerland\"], \"yaxis\": \"y\", \"type\": \"bar\"}, {\"alignmentgroup\": \"True\", \"hoverlabel\": {\"namelength\": 0}, \"hovertemplate\": \"variable=Life<br>Year=2015<br>value=%{text}<br>Country=%{y}\", \"legendgroup\": \"variable=Life\", \"marker\": {\"color\": \"#EF553B\", \"opacity\": 0.2}, \"name\": \"variable=Life\", \"offsetgroup\": \"variable=Life\", \"orientation\": \"v\", \"showlegend\": true, \"text\": [0.93156, 0.9083700000000001, 0.9108700000000001, 0.89284, 0.8891100000000001, 0.9056299999999999, 0.88521, 0.87464, 0.94784, 0.9414299999999999], \"textposition\": \"auto\", \"x\": [0.93156, 0.9083700000000001, 0.9108700000000001, 0.89284, 0.8891100000000001, 0.9056299999999999, 0.88521, 0.87464, 0.94784, 0.9414299999999999], \"xaxis\": \"x\", \"y\": [\"Australia\", \"New Zealand\", \"Sweden\", \"Netherlands\", \"Finland\", \"Canada\", \"Norway\", \"Denmark\", \"Iceland\", \"Switzerland\"], \"yaxis\": \"y\", \"type\": \"bar\"}, {\"alignmentgroup\": \"True\", \"hoverlabel\": {\"namelength\": 0}, \"hovertemplate\": \"variable=Freedom<br>Year=2015<br>value=%{text}<br>Country=%{y}\", \"legendgroup\": \"variable=Freedom\", \"marker\": {\"color\": \"#00cc96\", \"opacity\": 0.2}, \"name\": \"variable=Freedom\", \"offsetgroup\": \"variable=Freedom\", \"orientation\": \"v\", \"showlegend\": true, \"text\": [0.6512399999999999, 0.6393800000000001, 0.6598, 0.6157600000000001, 0.64169, 0.63297, 0.66973, 0.6493800000000001, 0.6287699999999999, 0.66557], \"textposition\": \"auto\", \"x\": [0.6512399999999999, 0.6393800000000001, 0.6598, 0.6157600000000001, 0.64169, 0.63297, 0.66973, 0.6493800000000001, 0.6287699999999999, 0.66557], \"xaxis\": \"x\", \"y\": [\"Australia\", \"New Zealand\", \"Sweden\", \"Netherlands\", \"Finland\", \"Canada\", \"Norway\", \"Denmark\", \"Iceland\", \"Switzerland\"], \"yaxis\": \"y\", \"type\": \"bar\"}, {\"alignmentgroup\": \"True\", \"hoverlabel\": {\"namelength\": 0}, \"hovertemplate\": \"variable=Trust<br>Year=2015<br>value=%{text}<br>Country=%{y}\", \"legendgroup\": \"variable=Trust\", \"marker\": {\"color\": \"#ab63fa\", \"opacity\": 0.2}, \"name\": \"variable=Trust\", \"offsetgroup\": \"variable=Trust\", \"orientation\": \"v\", \"showlegend\": true, \"text\": [0.35636999999999996, 0.42922, 0.43843999999999994, 0.31814000000000003, 0.41372, 0.32957, 0.36503, 0.48357, 0.14145, 0.41978000000000004], \"textposition\": \"auto\", \"x\": [0.35636999999999996, 0.42922, 0.43843999999999994, 0.31814000000000003, 0.41372, 0.32957, 0.36503, 0.48357, 0.14145, 0.41978000000000004], \"xaxis\": \"x\", \"y\": [\"Australia\", \"New Zealand\", \"Sweden\", \"Netherlands\", \"Finland\", \"Canada\", \"Norway\", \"Denmark\", \"Iceland\", \"Switzerland\"], \"yaxis\": \"y\", \"type\": \"bar\"}, {\"alignmentgroup\": \"True\", \"hoverlabel\": {\"namelength\": 0}, \"hovertemplate\": \"variable=Generosity<br>Year=2015<br>value=%{text}<br>Country=%{y}\", \"legendgroup\": \"variable=Generosity\", \"marker\": {\"color\": \"#FFA15A\", \"opacity\": 0.2}, \"name\": \"variable=Generosity\", \"offsetgroup\": \"variable=Generosity\", \"orientation\": \"v\", \"showlegend\": true, \"text\": [0.43562, 0.47501000000000004, 0.36262, 0.4761, 0.23351, 0.45811, 0.34699, 0.34139, 0.4363, 0.29678000000000004], \"textposition\": \"auto\", \"x\": [0.43562, 0.47501000000000004, 0.36262, 0.4761, 0.23351, 0.45811, 0.34699, 0.34139, 0.4363, 0.29678000000000004], \"xaxis\": \"x\", \"y\": [\"Australia\", \"New Zealand\", \"Sweden\", \"Netherlands\", \"Finland\", \"Canada\", \"Norway\", \"Denmark\", \"Iceland\", \"Switzerland\"], \"yaxis\": \"y\", \"type\": \"bar\"}, {\"alignmentgroup\": \"True\", \"hoverlabel\": {\"namelength\": 0}, \"hovertemplate\": \"variable=GDP<br>Year=2015<br>value=%{text}<br>Country=%{y}\", \"legendgroup\": \"variable=GDP\", \"marker\": {\"color\": \"#19d3f3\", \"opacity\": 0.2}, \"name\": \"variable=GDP\", \"offsetgroup\": \"variable=GDP\", \"orientation\": \"v\", \"showlegend\": true, \"text\": [1.33358, 1.2501799999999998, 1.33171, 1.32944, 1.29025, 1.32629, 1.459, 1.32548, 1.3023200000000001, 1.3965100000000001], \"textposition\": \"auto\", \"x\": [1.33358, 1.2501799999999998, 1.33171, 1.32944, 1.29025, 1.32629, 1.459, 1.32548, 1.3023200000000001, 1.3965100000000001], \"xaxis\": \"x\", \"y\": [\"Australia\", \"New Zealand\", \"Sweden\", \"Netherlands\", \"Finland\", \"Canada\", \"Norway\", \"Denmark\", \"Iceland\", \"Switzerland\"], \"yaxis\": \"y\", \"type\": \"bar\"}, {\"alignmentgroup\": \"True\", \"hoverlabel\": {\"namelength\": 0}, \"hovertemplate\": \"variable=Family<br>Year=2015<br>value=%{text}<br>Country=%{y}\", \"legendgroup\": \"variable=Family\", \"marker\": {\"color\": \"#FF6692\", \"opacity\": 0.2}, \"name\": \"variable=Family\", \"offsetgroup\": \"variable=Family\", \"orientation\": \"v\", \"showlegend\": true, \"text\": [1.30923, 1.3196700000000001, 1.2890700000000002, 1.28017, 1.31826, 1.32261, 1.33095, 1.36058, 1.4022299999999999, 1.34951], \"textposition\": \"auto\", \"x\": [1.30923, 1.3196700000000001, 1.2890700000000002, 1.28017, 1.31826, 1.32261, 1.33095, 1.36058, 1.4022299999999999, 1.34951], \"xaxis\": \"x\", \"y\": [\"Australia\", \"New Zealand\", \"Sweden\", \"Netherlands\", \"Finland\", \"Canada\", \"Norway\", \"Denmark\", \"Iceland\", \"Switzerland\"], \"yaxis\": \"y\", \"type\": \"bar\"}], \"name\": \"2015\"}, {\"data\": [{\"alignmentgroup\": \"True\", \"hoverlabel\": {\"namelength\": 0}, \"hovertemplate\": \"variable=Dystopia Residual<br>Year=2016<br>value=%{text}<br>Country=%{y}\", \"legendgroup\": \"variable=Dystopia Residual\", \"marker\": {\"color\": \"#636efa\", \"opacity\": 0.2}, \"name\": \"variable=Dystopia Residual\", \"offsetgroup\": \"variable=Dystopia Residual\", \"orientation\": \"v\", \"showlegend\": true, \"text\": [2.54734, 2.5465, 2.47553, 2.70749, 2.70485, 2.82596, 2.66465, 2.83137, 2.69463, 2.73939], \"textposition\": \"auto\", \"x\": [2.54734, 2.5465, 2.47553, 2.70749, 2.70485, 2.82596, 2.66465, 2.83137, 2.69463, 2.73939], \"xaxis\": \"x\", \"y\": [\"Sweden\", \"Australia\", \"New Zealand\", \"Netherlands\", \"Canada\", \"Finland\", \"Norway\", \"Iceland\", \"Switzerland\", \"Denmark\"], \"yaxis\": \"y\", \"type\": \"bar\"}, {\"alignmentgroup\": \"True\", \"hoverlabel\": {\"namelength\": 0}, \"hovertemplate\": \"variable=Life<br>Year=2016<br>value=%{text}<br>Country=%{y}\", \"legendgroup\": \"variable=Life\", \"marker\": {\"color\": \"#EF553B\", \"opacity\": 0.2}, \"name\": \"variable=Life\", \"offsetgroup\": \"variable=Life\", \"orientation\": \"v\", \"showlegend\": true, \"text\": [0.83121, 0.8512, 0.83096, 0.8123100000000001, 0.8276, 0.81091, 0.79579, 0.8673299999999999, 0.86303, 0.79504], \"textposition\": \"auto\", \"x\": [0.83121, 0.8512, 0.83096, 0.8123100000000001, 0.8276, 0.81091, 0.79579, 0.8673299999999999, 0.86303, 0.79504], \"xaxis\": \"x\", \"y\": [\"Sweden\", \"Australia\", \"New Zealand\", \"Netherlands\", \"Canada\", \"Finland\", \"Norway\", \"Iceland\", \"Switzerland\", \"Denmark\"], \"yaxis\": \"y\", \"type\": \"bar\"}, {\"alignmentgroup\": \"True\", \"hoverlabel\": {\"namelength\": 0}, \"hovertemplate\": \"variable=Freedom<br>Year=2016<br>value=%{text}<br>Country=%{y}\", \"legendgroup\": \"variable=Freedom\", \"marker\": {\"color\": \"#00cc96\", \"opacity\": 0.2}, \"name\": \"variable=Freedom\", \"offsetgroup\": \"variable=Freedom\", \"orientation\": \"v\", \"showlegend\": true, \"text\": [0.58218, 0.5683699999999999, 0.5814699999999999, 0.55211, 0.5737, 0.57104, 0.59609, 0.56624, 0.58557, 0.5794100000000001], \"textposition\": \"auto\", \"x\": [0.58218, 0.5683699999999999, 0.5814699999999999, 0.55211, 0.5737, 0.57104, 0.59609, 0.56624, 0.58557, 0.5794100000000001], \"xaxis\": \"x\", \"y\": [\"Sweden\", \"Australia\", \"New Zealand\", \"Netherlands\", \"Canada\", \"Finland\", \"Norway\", \"Iceland\", \"Switzerland\", \"Denmark\"], \"yaxis\": \"y\", \"type\": \"bar\"}, {\"alignmentgroup\": \"True\", \"hoverlabel\": {\"namelength\": 0}, \"hovertemplate\": \"variable=Trust<br>Year=2016<br>value=%{text}<br>Country=%{y}\", \"legendgroup\": \"variable=Trust\", \"marker\": {\"color\": \"#ab63fa\", \"opacity\": 0.2}, \"name\": \"variable=Trust\", \"offsetgroup\": \"variable=Trust\", \"orientation\": \"v\", \"showlegend\": true, \"text\": [0.40867, 0.32331, 0.41903999999999997, 0.29927, 0.31329, 0.41003999999999996, 0.35775999999999997, 0.14975, 0.41203, 0.44453000000000004], \"textposition\": \"auto\", \"x\": [0.40867, 0.32331, 0.41903999999999997, 0.29927, 0.31329, 0.41003999999999996, 0.35775999999999997, 0.14975, 0.41203, 0.44453000000000004], \"xaxis\": \"x\", \"y\": [\"Sweden\", \"Australia\", \"New Zealand\", \"Netherlands\", \"Canada\", \"Finland\", \"Norway\", \"Iceland\", \"Switzerland\", \"Denmark\"], \"yaxis\": \"y\", \"type\": \"bar\"}, {\"alignmentgroup\": \"True\", \"hoverlabel\": {\"namelength\": 0}, \"hovertemplate\": \"variable=Generosity<br>Year=2016<br>value=%{text}<br>Country=%{y}\", \"legendgroup\": \"variable=Generosity\", \"marker\": {\"color\": \"#FFA15A\", \"opacity\": 0.2}, \"name\": \"variable=Generosity\", \"offsetgroup\": \"variable=Generosity\", \"orientation\": \"v\", \"showlegend\": true, \"text\": [0.38254, 0.47407, 0.49401000000000006, 0.47416, 0.44833999999999996, 0.25492, 0.37895, 0.47678000000000004, 0.28083, 0.36171], \"textposition\": \"auto\", \"x\": [0.38254, 0.47407, 0.49401000000000006, 0.47416, 0.44833999999999996, 0.25492, 0.37895, 0.47678000000000004, 0.28083, 0.36171], \"xaxis\": \"x\", \"y\": [\"Sweden\", \"Australia\", \"New Zealand\", \"Netherlands\", \"Canada\", \"Finland\", \"Norway\", \"Iceland\", \"Switzerland\", \"Denmark\"], \"yaxis\": \"y\", \"type\": \"bar\"}, {\"alignmentgroup\": \"True\", \"hoverlabel\": {\"namelength\": 0}, \"hovertemplate\": \"variable=GDP<br>Year=2016<br>value=%{text}<br>Country=%{y}\", \"legendgroup\": \"variable=GDP\", \"marker\": {\"color\": \"#19d3f3\", \"opacity\": 0.2}, \"name\": \"variable=GDP\", \"offsetgroup\": \"variable=GDP\", \"orientation\": \"v\", \"showlegend\": true, \"text\": [1.45181, 1.4444299999999999, 1.36066, 1.46468, 1.44015, 1.40598, 1.57744, 1.42666, 1.5273299999999999, 1.4417799999999998], \"textposition\": \"auto\", \"x\": [1.45181, 1.4444299999999999, 1.36066, 1.46468, 1.44015, 1.40598, 1.57744, 1.42666, 1.5273299999999999, 1.4417799999999998], \"xaxis\": \"x\", \"y\": [\"Sweden\", \"Australia\", \"New Zealand\", \"Netherlands\", \"Canada\", \"Finland\", \"Norway\", \"Iceland\", \"Switzerland\", \"Denmark\"], \"yaxis\": \"y\", \"type\": \"bar\"}, {\"alignmentgroup\": \"True\", \"hoverlabel\": {\"namelength\": 0}, \"hovertemplate\": \"variable=Family<br>Year=2016<br>value=%{text}<br>Country=%{y}\", \"legendgroup\": \"variable=Family\", \"marker\": {\"color\": \"#FF6692\", \"opacity\": 0.2}, \"name\": \"variable=Family\", \"offsetgroup\": \"variable=Family\", \"orientation\": \"v\", \"showlegend\": true, \"text\": [1.08764, 1.10476, 1.17278, 1.02912, 1.0961, 1.1346399999999999, 1.1269, 1.18326, 1.14524, 1.16374], \"textposition\": \"auto\", \"x\": [1.08764, 1.10476, 1.17278, 1.02912, 1.0961, 1.1346399999999999, 1.1269, 1.18326, 1.14524, 1.16374], \"xaxis\": \"x\", \"y\": [\"Sweden\", \"Australia\", \"New Zealand\", \"Netherlands\", \"Canada\", \"Finland\", \"Norway\", \"Iceland\", \"Switzerland\", \"Denmark\"], \"yaxis\": \"y\", \"type\": \"bar\"}], \"name\": \"2016\"}]);\n",
              "                        }).then(function(){\n",
              "                            \n",
              "var gd = document.getElementById('63a7291e-fbdf-409e-91c7-5501f2d9ab05');\n",
              "var x = new MutationObserver(function (mutations, observer) {{\n",
              "        var display = window.getComputedStyle(gd).display;\n",
              "        if (!display || display === 'none') {{\n",
              "            console.log([gd, 'removed!']);\n",
              "            Plotly.purge(gd);\n",
              "            observer.disconnect();\n",
              "        }}\n",
              "}});\n",
              "\n",
              "// Listen for the removal of the full notebook cells\n",
              "var notebookContainer = gd.closest('#notebook-container');\n",
              "if (notebookContainer) {{\n",
              "    x.observe(notebookContainer, {childList: true});\n",
              "}}\n",
              "\n",
              "// Listen for the clearing of the current output cell\n",
              "var outputEl = gd.closest('.output');\n",
              "if (outputEl) {{\n",
              "    x.observe(outputEl, {childList: true});\n",
              "}}\n",
              "\n",
              "                        })\n",
              "                };\n",
              "                \n",
              "            </script>\n",
              "        </div>\n",
              "</body>\n",
              "</html>"
            ]
          },
          "metadata": {}
        }
      ]
    },
    {
      "cell_type": "code",
      "source": [
        "df_2 = pd.concat([df2016.melt(id_vars=['Country','Year','Happiness Score','Happiness Rank','Region']),\n",
        "                 df2017.melt(id_vars=['Country','Year','Happiness Score','Happiness Rank','Region']),],ignore_index=True)\n",
        "fig = px.bar(df_2[df_2[\"Happiness Rank\"] <=10].sort_values(by=\"Happiness Score\"), y=\"Country\", x=\"value\", color='variable',animation_frame='Year',\n",
        "             height=700,title=\"2016-2017 Yılları Arası Mutluluk Değişimi\",opacity=.2,text=\"value\")\n",
        "fig.update_traces(texttemplate='%{text:.2f}',textposition='auto')\n",
        "fig.update_layout(transition = {'duration': 1000})\n",
        "fig.show(renderer=\"colab\")"
      ],
      "metadata": {
        "colab": {
          "base_uri": "https://localhost:8080/",
          "height": 717
        },
        "id": "Q5BlwHUQoAq_",
        "outputId": "0751b66c-85d8-4c30-efac-90938bbc7482"
      },
      "execution_count": null,
      "outputs": [
        {
          "output_type": "display_data",
          "data": {
            "text/html": [
              "<html>\n",
              "<head><meta charset=\"utf-8\" /></head>\n",
              "<body>\n",
              "    <div>\n",
              "            <script src=\"https://cdnjs.cloudflare.com/ajax/libs/mathjax/2.7.5/MathJax.js?config=TeX-AMS-MML_SVG\"></script><script type=\"text/javascript\">if (window.MathJax) {MathJax.Hub.Config({SVG: {font: \"STIX-Web\"}});}</script>\n",
              "                <script type=\"text/javascript\">window.PlotlyConfig = {MathJaxConfig: 'local'};</script>\n",
              "        <script src=\"https://cdn.plot.ly/plotly-latest.min.js\"></script>    \n",
              "            <div id=\"f53f095a-84a7-4708-ba19-61aa9d8dc141\" class=\"plotly-graph-div\" style=\"height:700px; width:100%;\"></div>\n",
              "            <script type=\"text/javascript\">\n",
              "                \n",
              "                    window.PLOTLYENV=window.PLOTLYENV || {};\n",
              "                    \n",
              "                if (document.getElementById(\"f53f095a-84a7-4708-ba19-61aa9d8dc141\")) {\n",
              "                    Plotly.newPlot(\n",
              "                        'f53f095a-84a7-4708-ba19-61aa9d8dc141',\n",
              "                        [{\"alignmentgroup\": \"True\", \"hoverlabel\": {\"namelength\": 0}, \"hovertemplate\": \"variable=Dystopia Residual<br>Year=2017<br>value=%{text}<br>Country=%{y}\", \"legendgroup\": \"variable=Dystopia Residual\", \"marker\": {\"color\": \"#636efa\", \"opacity\": 0.2}, \"name\": \"variable=Dystopia Residual\", \"offsetgroup\": \"variable=Dystopia Residual\", \"orientation\": \"v\", \"showlegend\": true, \"text\": [2.06521081924438, 2.09753799438477, 2.0464563369751, 2.18726444244385, 2.29480409622192, 2.4301815032958998, 2.2767162322998, 2.32271528244019, 2.31370735168457, 2.27702665328979], \"textposition\": \"auto\", \"texttemplate\": \"%{text:.2f}\", \"type\": \"bar\", \"x\": [2.06521081924438, 2.09753799438477, 2.0464563369751, 2.18726444244385, 2.29480409622192, 2.4301815032958998, 2.2767162322998, 2.32271528244019, 2.31370735168457, 2.27702665328979], \"xaxis\": \"x\", \"y\": [\"Australia\", \"Sweden\", \"New Zealand\", \"Canada\", \"Netherlands\", \"Finland\", \"Switzerland\", \"Iceland\", \"Denmark\", \"Norway\"], \"yaxis\": \"y\"}, {\"alignmentgroup\": \"True\", \"hoverlabel\": {\"namelength\": 0}, \"hovertemplate\": \"variable=GDP<br>Year=2017<br>value=%{text}<br>Country=%{y}\", \"legendgroup\": \"variable=GDP\", \"marker\": {\"color\": \"#EF553B\", \"opacity\": 0.2}, \"name\": \"variable=GDP\", \"offsetgroup\": \"variable=GDP\", \"orientation\": \"v\", \"showlegend\": true, \"text\": [1.49438726902008, 1.4844149351120002, 1.40570604801178, 1.47920441627502, 1.50394463539124, 1.44357192516327, 1.5649795532226598, 1.480633020401, 1.48238301277161, 1.6164631843566901], \"textposition\": \"auto\", \"texttemplate\": \"%{text:.2f}\", \"type\": \"bar\", \"x\": [1.49438726902008, 1.4844149351120002, 1.40570604801178, 1.47920441627502, 1.50394463539124, 1.44357192516327, 1.5649795532226598, 1.480633020401, 1.48238301277161, 1.6164631843566901], \"xaxis\": \"x\", \"y\": [\"Sweden\", \"Australia\", \"New Zealand\", \"Canada\", \"Netherlands\", \"Finland\", \"Switzerland\", \"Iceland\", \"Denmark\", \"Norway\"], \"yaxis\": \"y\"}, {\"alignmentgroup\": \"True\", \"hoverlabel\": {\"namelength\": 0}, \"hovertemplate\": \"variable=Family<br>Year=2017<br>value=%{text}<br>Country=%{y}\", \"legendgroup\": \"variable=Family\", \"marker\": {\"color\": \"#00cc96\", \"opacity\": 0.2}, \"name\": \"variable=Family\", \"offsetgroup\": \"variable=Family\", \"orientation\": \"v\", \"showlegend\": true, \"text\": [1.47816216945648, 1.5100419521331798, 1.54819512367249, 1.48134899139404, 1.42893922328949, 1.5402467250824, 1.51691174507141, 1.6105740070343, 1.55112159252167, 1.53352355957031], \"textposition\": \"auto\", \"texttemplate\": \"%{text:.2f}\", \"type\": \"bar\", \"x\": [1.47816216945648, 1.5100419521331798, 1.54819512367249, 1.48134899139404, 1.42893922328949, 1.5402467250824, 1.51691174507141, 1.6105740070343, 1.55112159252167, 1.53352355957031], \"xaxis\": \"x\", \"y\": [\"Sweden\", \"Australia\", \"New Zealand\", \"Canada\", \"Netherlands\", \"Finland\", \"Switzerland\", \"Iceland\", \"Denmark\", \"Norway\"], \"yaxis\": \"y\"}, {\"alignmentgroup\": \"True\", \"hoverlabel\": {\"namelength\": 0}, \"hovertemplate\": \"variable=Life<br>Year=2017<br>value=%{text}<br>Country=%{y}\", \"legendgroup\": \"variable=Life\", \"marker\": {\"color\": \"#ab63fa\", \"opacity\": 0.2}, \"name\": \"variable=Life\", \"offsetgroup\": \"variable=Life\", \"orientation\": \"v\", \"showlegend\": true, \"text\": [0.830875158309937, 0.84388679265976, 0.816759705543518, 0.83455765247345, 0.8106961250305179, 0.80915766954422, 0.858131289482117, 0.8335521221160892, 0.7925655245780941, 0.796666502952576], \"textposition\": \"auto\", \"texttemplate\": \"%{text:.2f}\", \"type\": \"bar\", \"x\": [0.830875158309937, 0.84388679265976, 0.816759705543518, 0.83455765247345, 0.8106961250305179, 0.80915766954422, 0.858131289482117, 0.8335521221160892, 0.7925655245780941, 0.796666502952576], \"xaxis\": \"x\", \"y\": [\"Sweden\", \"Australia\", \"New Zealand\", \"Canada\", \"Netherlands\", \"Finland\", \"Switzerland\", \"Iceland\", \"Denmark\", \"Norway\"], \"yaxis\": \"y\"}, {\"alignmentgroup\": \"True\", \"hoverlabel\": {\"namelength\": 0}, \"hovertemplate\": \"variable=Freedom<br>Year=2017<br>value=%{text}<br>Country=%{y}\", \"legendgroup\": \"variable=Freedom\", \"marker\": {\"color\": \"#FFA15A\", \"opacity\": 0.2}, \"name\": \"variable=Freedom\", \"offsetgroup\": \"variable=Freedom\", \"orientation\": \"v\", \"showlegend\": true, \"text\": [0.601607382297516, 0.612924098968506, 0.6140621304512021, 0.611100912094116, 0.5853844881057739, 0.6179508566856379, 0.620070576667786, 0.6271626353263849, 0.626006722450256, 0.635422587394714], \"textposition\": \"auto\", \"texttemplate\": \"%{text:.2f}\", \"type\": \"bar\", \"x\": [0.601607382297516, 0.612924098968506, 0.6140621304512021, 0.611100912094116, 0.5853844881057739, 0.6179508566856379, 0.620070576667786, 0.6271626353263849, 0.626006722450256, 0.635422587394714], \"xaxis\": \"x\", \"y\": [\"Australia\", \"Sweden\", \"New Zealand\", \"Canada\", \"Netherlands\", \"Finland\", \"Switzerland\", \"Iceland\", \"Denmark\", \"Norway\"], \"yaxis\": \"y\"}, {\"alignmentgroup\": \"True\", \"hoverlabel\": {\"namelength\": 0}, \"hovertemplate\": \"variable=Generosity<br>Year=2017<br>value=%{text}<br>Country=%{y}\", \"legendgroup\": \"variable=Generosity\", \"marker\": {\"color\": \"#19d3f3\", \"opacity\": 0.2}, \"name\": \"variable=Generosity\", \"offsetgroup\": \"variable=Generosity\", \"orientation\": \"v\", \"showlegend\": true, \"text\": [0.38539925217628496, 0.47769924998283403, 0.500005125999451, 0.435539722442627, 0.47048982977867104, 0.24548277258873, 0.29054927825927696, 0.47554022073745705, 0.3552804887294771, 0.36201223731041], \"textposition\": \"auto\", \"texttemplate\": \"%{text:.2f}\", \"type\": \"bar\", \"x\": [0.38539925217628496, 0.47769924998283403, 0.500005125999451, 0.435539722442627, 0.47048982977867104, 0.24548277258873, 0.29054927825927696, 0.47554022073745705, 0.3552804887294771, 0.36201223731041], \"xaxis\": \"x\", \"y\": [\"Sweden\", \"Australia\", \"New Zealand\", \"Canada\", \"Netherlands\", \"Finland\", \"Switzerland\", \"Iceland\", \"Denmark\", \"Norway\"], \"yaxis\": \"y\"}, {\"alignmentgroup\": \"True\", \"hoverlabel\": {\"namelength\": 0}, \"hovertemplate\": \"variable=Trust<br>Year=2017<br>value=%{text}<br>Country=%{y}\", \"legendgroup\": \"variable=Trust\", \"marker\": {\"color\": \"#FF6692\", \"opacity\": 0.2}, \"name\": \"variable=Trust\", \"offsetgroup\": \"variable=Trust\", \"orientation\": \"v\", \"showlegend\": true, \"text\": [0.384398728609085, 0.301183730363846, 0.38281670212745705, 0.287371516227722, 0.282661825418472, 0.38261154294014, 0.36700728535652205, 0.15352655947208402, 0.40077006816863997, 0.31596383452415505], \"textposition\": \"auto\", \"texttemplate\": \"%{text:.2f}\", \"type\": \"bar\", \"x\": [0.384398728609085, 0.301183730363846, 0.38281670212745705, 0.287371516227722, 0.282661825418472, 0.38261154294014, 0.36700728535652205, 0.15352655947208402, 0.40077006816863997, 0.31596383452415505], \"xaxis\": \"x\", \"y\": [\"Sweden\", \"Australia\", \"New Zealand\", \"Canada\", \"Netherlands\", \"Finland\", \"Switzerland\", \"Iceland\", \"Denmark\", \"Norway\"], \"yaxis\": \"y\"}],\n",
              "                        {\"barmode\": \"relative\", \"height\": 700, \"legend\": {\"tracegroupgap\": 0}, \"sliders\": [{\"active\": 0, \"currentvalue\": {\"prefix\": \"Year=\"}, \"len\": 0.9, \"pad\": {\"b\": 10, \"t\": 60}, \"steps\": [{\"args\": [[\"2017\"], {\"frame\": {\"duration\": 0, \"redraw\": true}, \"fromcurrent\": true, \"mode\": \"immediate\", \"transition\": {\"duration\": 0, \"easing\": \"linear\"}}], \"label\": \"2017\", \"method\": \"animate\"}, {\"args\": [[\"2016\"], {\"frame\": {\"duration\": 0, \"redraw\": true}, \"fromcurrent\": true, \"mode\": \"immediate\", \"transition\": {\"duration\": 0, \"easing\": \"linear\"}}], \"label\": \"2016\", \"method\": \"animate\"}], \"x\": 0.1, \"xanchor\": \"left\", \"y\": 0, \"yanchor\": \"top\"}], \"template\": {\"data\": {\"bar\": [{\"error_x\": {\"color\": \"#2a3f5f\"}, \"error_y\": {\"color\": \"#2a3f5f\"}, \"marker\": {\"line\": {\"color\": \"#E5ECF6\", \"width\": 0.5}}, \"type\": \"bar\"}], \"barpolar\": [{\"marker\": {\"line\": {\"color\": \"#E5ECF6\", \"width\": 0.5}}, \"type\": \"barpolar\"}], \"carpet\": [{\"aaxis\": {\"endlinecolor\": \"#2a3f5f\", \"gridcolor\": \"white\", \"linecolor\": \"white\", \"minorgridcolor\": \"white\", \"startlinecolor\": \"#2a3f5f\"}, \"baxis\": {\"endlinecolor\": \"#2a3f5f\", \"gridcolor\": \"white\", \"linecolor\": \"white\", \"minorgridcolor\": \"white\", \"startlinecolor\": \"#2a3f5f\"}, \"type\": \"carpet\"}], \"choropleth\": [{\"colorbar\": {\"outlinewidth\": 0, \"ticks\": \"\"}, \"type\": \"choropleth\"}], \"contour\": [{\"colorbar\": {\"outlinewidth\": 0, \"ticks\": \"\"}, \"colorscale\": [[0.0, \"#0d0887\"], [0.1111111111111111, \"#46039f\"], [0.2222222222222222, \"#7201a8\"], [0.3333333333333333, \"#9c179e\"], [0.4444444444444444, \"#bd3786\"], [0.5555555555555556, \"#d8576b\"], [0.6666666666666666, \"#ed7953\"], [0.7777777777777778, \"#fb9f3a\"], [0.8888888888888888, \"#fdca26\"], [1.0, \"#f0f921\"]], \"type\": \"contour\"}], \"contourcarpet\": [{\"colorbar\": {\"outlinewidth\": 0, \"ticks\": \"\"}, \"type\": \"contourcarpet\"}], \"heatmap\": [{\"colorbar\": {\"outlinewidth\": 0, \"ticks\": \"\"}, \"colorscale\": [[0.0, \"#0d0887\"], [0.1111111111111111, \"#46039f\"], [0.2222222222222222, \"#7201a8\"], [0.3333333333333333, \"#9c179e\"], [0.4444444444444444, \"#bd3786\"], [0.5555555555555556, \"#d8576b\"], [0.6666666666666666, \"#ed7953\"], [0.7777777777777778, \"#fb9f3a\"], [0.8888888888888888, \"#fdca26\"], [1.0, \"#f0f921\"]], \"type\": \"heatmap\"}], \"heatmapgl\": [{\"colorbar\": {\"outlinewidth\": 0, \"ticks\": \"\"}, \"colorscale\": [[0.0, \"#0d0887\"], [0.1111111111111111, \"#46039f\"], [0.2222222222222222, \"#7201a8\"], [0.3333333333333333, \"#9c179e\"], [0.4444444444444444, \"#bd3786\"], [0.5555555555555556, \"#d8576b\"], [0.6666666666666666, \"#ed7953\"], [0.7777777777777778, \"#fb9f3a\"], [0.8888888888888888, \"#fdca26\"], [1.0, \"#f0f921\"]], \"type\": \"heatmapgl\"}], \"histogram\": [{\"marker\": {\"colorbar\": {\"outlinewidth\": 0, \"ticks\": \"\"}}, \"type\": \"histogram\"}], \"histogram2d\": [{\"colorbar\": {\"outlinewidth\": 0, \"ticks\": \"\"}, \"colorscale\": [[0.0, \"#0d0887\"], [0.1111111111111111, \"#46039f\"], [0.2222222222222222, \"#7201a8\"], [0.3333333333333333, \"#9c179e\"], [0.4444444444444444, \"#bd3786\"], [0.5555555555555556, \"#d8576b\"], [0.6666666666666666, \"#ed7953\"], [0.7777777777777778, \"#fb9f3a\"], [0.8888888888888888, \"#fdca26\"], [1.0, \"#f0f921\"]], \"type\": \"histogram2d\"}], \"histogram2dcontour\": [{\"colorbar\": {\"outlinewidth\": 0, \"ticks\": \"\"}, \"colorscale\": [[0.0, \"#0d0887\"], [0.1111111111111111, \"#46039f\"], [0.2222222222222222, \"#7201a8\"], [0.3333333333333333, \"#9c179e\"], [0.4444444444444444, \"#bd3786\"], [0.5555555555555556, \"#d8576b\"], [0.6666666666666666, \"#ed7953\"], [0.7777777777777778, \"#fb9f3a\"], [0.8888888888888888, \"#fdca26\"], [1.0, \"#f0f921\"]], \"type\": \"histogram2dcontour\"}], \"mesh3d\": [{\"colorbar\": {\"outlinewidth\": 0, \"ticks\": \"\"}, \"type\": \"mesh3d\"}], \"parcoords\": [{\"line\": {\"colorbar\": {\"outlinewidth\": 0, \"ticks\": \"\"}}, \"type\": \"parcoords\"}], \"pie\": [{\"automargin\": true, \"type\": \"pie\"}], \"scatter\": [{\"marker\": {\"colorbar\": {\"outlinewidth\": 0, \"ticks\": \"\"}}, \"type\": \"scatter\"}], \"scatter3d\": [{\"line\": {\"colorbar\": {\"outlinewidth\": 0, \"ticks\": \"\"}}, \"marker\": {\"colorbar\": {\"outlinewidth\": 0, \"ticks\": \"\"}}, \"type\": \"scatter3d\"}], \"scattercarpet\": [{\"marker\": {\"colorbar\": {\"outlinewidth\": 0, \"ticks\": \"\"}}, \"type\": \"scattercarpet\"}], \"scattergeo\": [{\"marker\": {\"colorbar\": {\"outlinewidth\": 0, \"ticks\": \"\"}}, \"type\": \"scattergeo\"}], \"scattergl\": [{\"marker\": {\"colorbar\": {\"outlinewidth\": 0, \"ticks\": \"\"}}, \"type\": \"scattergl\"}], \"scattermapbox\": [{\"marker\": {\"colorbar\": {\"outlinewidth\": 0, \"ticks\": \"\"}}, \"type\": \"scattermapbox\"}], \"scatterpolar\": [{\"marker\": {\"colorbar\": {\"outlinewidth\": 0, \"ticks\": \"\"}}, \"type\": \"scatterpolar\"}], \"scatterpolargl\": [{\"marker\": {\"colorbar\": {\"outlinewidth\": 0, \"ticks\": \"\"}}, \"type\": \"scatterpolargl\"}], \"scatterternary\": [{\"marker\": {\"colorbar\": {\"outlinewidth\": 0, \"ticks\": \"\"}}, \"type\": \"scatterternary\"}], \"surface\": [{\"colorbar\": {\"outlinewidth\": 0, \"ticks\": \"\"}, \"colorscale\": [[0.0, \"#0d0887\"], [0.1111111111111111, \"#46039f\"], [0.2222222222222222, \"#7201a8\"], [0.3333333333333333, \"#9c179e\"], [0.4444444444444444, \"#bd3786\"], [0.5555555555555556, \"#d8576b\"], [0.6666666666666666, \"#ed7953\"], [0.7777777777777778, \"#fb9f3a\"], [0.8888888888888888, \"#fdca26\"], [1.0, \"#f0f921\"]], \"type\": \"surface\"}], \"table\": [{\"cells\": {\"fill\": {\"color\": \"#EBF0F8\"}, \"line\": {\"color\": \"white\"}}, \"header\": {\"fill\": {\"color\": \"#C8D4E3\"}, \"line\": {\"color\": \"white\"}}, \"type\": \"table\"}]}, \"layout\": {\"annotationdefaults\": {\"arrowcolor\": \"#2a3f5f\", \"arrowhead\": 0, \"arrowwidth\": 1}, \"coloraxis\": {\"colorbar\": {\"outlinewidth\": 0, \"ticks\": \"\"}}, \"colorscale\": {\"diverging\": [[0, \"#8e0152\"], [0.1, \"#c51b7d\"], [0.2, \"#de77ae\"], [0.3, \"#f1b6da\"], [0.4, \"#fde0ef\"], [0.5, \"#f7f7f7\"], [0.6, \"#e6f5d0\"], [0.7, \"#b8e186\"], [0.8, \"#7fbc41\"], [0.9, \"#4d9221\"], [1, \"#276419\"]], \"sequential\": [[0.0, \"#0d0887\"], [0.1111111111111111, \"#46039f\"], [0.2222222222222222, \"#7201a8\"], [0.3333333333333333, \"#9c179e\"], [0.4444444444444444, \"#bd3786\"], [0.5555555555555556, \"#d8576b\"], [0.6666666666666666, \"#ed7953\"], [0.7777777777777778, \"#fb9f3a\"], [0.8888888888888888, \"#fdca26\"], [1.0, \"#f0f921\"]], \"sequentialminus\": [[0.0, \"#0d0887\"], [0.1111111111111111, \"#46039f\"], [0.2222222222222222, \"#7201a8\"], [0.3333333333333333, \"#9c179e\"], [0.4444444444444444, \"#bd3786\"], [0.5555555555555556, \"#d8576b\"], [0.6666666666666666, \"#ed7953\"], [0.7777777777777778, \"#fb9f3a\"], [0.8888888888888888, \"#fdca26\"], [1.0, \"#f0f921\"]]}, \"colorway\": [\"#636efa\", \"#EF553B\", \"#00cc96\", \"#ab63fa\", \"#FFA15A\", \"#19d3f3\", \"#FF6692\", \"#B6E880\", \"#FF97FF\", \"#FECB52\"], \"font\": {\"color\": \"#2a3f5f\"}, \"geo\": {\"bgcolor\": \"white\", \"lakecolor\": \"white\", \"landcolor\": \"#E5ECF6\", \"showlakes\": true, \"showland\": true, \"subunitcolor\": \"white\"}, \"hoverlabel\": {\"align\": \"left\"}, \"hovermode\": \"closest\", \"mapbox\": {\"style\": \"light\"}, \"paper_bgcolor\": \"white\", \"plot_bgcolor\": \"#E5ECF6\", \"polar\": {\"angularaxis\": {\"gridcolor\": \"white\", \"linecolor\": \"white\", \"ticks\": \"\"}, \"bgcolor\": \"#E5ECF6\", \"radialaxis\": {\"gridcolor\": \"white\", \"linecolor\": \"white\", \"ticks\": \"\"}}, \"scene\": {\"xaxis\": {\"backgroundcolor\": \"#E5ECF6\", \"gridcolor\": \"white\", \"gridwidth\": 2, \"linecolor\": \"white\", \"showbackground\": true, \"ticks\": \"\", \"zerolinecolor\": \"white\"}, \"yaxis\": {\"backgroundcolor\": \"#E5ECF6\", \"gridcolor\": \"white\", \"gridwidth\": 2, \"linecolor\": \"white\", \"showbackground\": true, \"ticks\": \"\", \"zerolinecolor\": \"white\"}, \"zaxis\": {\"backgroundcolor\": \"#E5ECF6\", \"gridcolor\": \"white\", \"gridwidth\": 2, \"linecolor\": \"white\", \"showbackground\": true, \"ticks\": \"\", \"zerolinecolor\": \"white\"}}, \"shapedefaults\": {\"line\": {\"color\": \"#2a3f5f\"}}, \"ternary\": {\"aaxis\": {\"gridcolor\": \"white\", \"linecolor\": \"white\", \"ticks\": \"\"}, \"baxis\": {\"gridcolor\": \"white\", \"linecolor\": \"white\", \"ticks\": \"\"}, \"bgcolor\": \"#E5ECF6\", \"caxis\": {\"gridcolor\": \"white\", \"linecolor\": \"white\", \"ticks\": \"\"}}, \"title\": {\"x\": 0.05}, \"xaxis\": {\"automargin\": true, \"gridcolor\": \"white\", \"linecolor\": \"white\", \"ticks\": \"\", \"title\": {\"standoff\": 15}, \"zerolinecolor\": \"white\", \"zerolinewidth\": 2}, \"yaxis\": {\"automargin\": true, \"gridcolor\": \"white\", \"linecolor\": \"white\", \"ticks\": \"\", \"title\": {\"standoff\": 15}, \"zerolinecolor\": \"white\", \"zerolinewidth\": 2}}}, \"title\": {\"text\": \"2016-2017 Y\\u0131llar\\u0131 Aras\\u0131 Mutluluk De\\u011fi\\u015fimi\"}, \"transition\": {\"duration\": 1000}, \"updatemenus\": [{\"buttons\": [{\"args\": [null, {\"frame\": {\"duration\": 500, \"redraw\": true}, \"fromcurrent\": true, \"mode\": \"immediate\", \"transition\": {\"duration\": 500, \"easing\": \"linear\"}}], \"label\": \"&#9654;\", \"method\": \"animate\"}, {\"args\": [[null], {\"frame\": {\"duration\": 0, \"redraw\": true}, \"fromcurrent\": true, \"mode\": \"immediate\", \"transition\": {\"duration\": 0, \"easing\": \"linear\"}}], \"label\": \"&#9724;\", \"method\": \"animate\"}], \"direction\": \"left\", \"pad\": {\"r\": 10, \"t\": 70}, \"showactive\": false, \"type\": \"buttons\", \"x\": 0.1, \"xanchor\": \"right\", \"y\": 0, \"yanchor\": \"top\"}], \"xaxis\": {\"anchor\": \"y\", \"domain\": [0.0, 1.0], \"title\": {\"text\": \"value\"}}, \"yaxis\": {\"anchor\": \"x\", \"domain\": [0.0, 1.0], \"title\": {\"text\": \"Country\"}}},\n",
              "                        {\"responsive\": true}\n",
              "                    ).then(function(){\n",
              "                            Plotly.addFrames('f53f095a-84a7-4708-ba19-61aa9d8dc141', [{\"data\": [{\"alignmentgroup\": \"True\", \"hoverlabel\": {\"namelength\": 0}, \"hovertemplate\": \"variable=Dystopia Residual<br>Year=2017<br>value=%{text}<br>Country=%{y}\", \"legendgroup\": \"variable=Dystopia Residual\", \"marker\": {\"color\": \"#636efa\", \"opacity\": 0.2}, \"name\": \"variable=Dystopia Residual\", \"offsetgroup\": \"variable=Dystopia Residual\", \"orientation\": \"v\", \"showlegend\": true, \"text\": [2.06521081924438, 2.09753799438477, 2.0464563369751, 2.18726444244385, 2.29480409622192, 2.4301815032958998, 2.2767162322998, 2.32271528244019, 2.31370735168457, 2.27702665328979], \"textposition\": \"auto\", \"x\": [2.06521081924438, 2.09753799438477, 2.0464563369751, 2.18726444244385, 2.29480409622192, 2.4301815032958998, 2.2767162322998, 2.32271528244019, 2.31370735168457, 2.27702665328979], \"xaxis\": \"x\", \"y\": [\"Australia\", \"Sweden\", \"New Zealand\", \"Canada\", \"Netherlands\", \"Finland\", \"Switzerland\", \"Iceland\", \"Denmark\", \"Norway\"], \"yaxis\": \"y\", \"type\": \"bar\"}, {\"alignmentgroup\": \"True\", \"hoverlabel\": {\"namelength\": 0}, \"hovertemplate\": \"variable=GDP<br>Year=2017<br>value=%{text}<br>Country=%{y}\", \"legendgroup\": \"variable=GDP\", \"marker\": {\"color\": \"#EF553B\", \"opacity\": 0.2}, \"name\": \"variable=GDP\", \"offsetgroup\": \"variable=GDP\", \"orientation\": \"v\", \"showlegend\": true, \"text\": [1.49438726902008, 1.4844149351120002, 1.40570604801178, 1.47920441627502, 1.50394463539124, 1.44357192516327, 1.5649795532226598, 1.480633020401, 1.48238301277161, 1.6164631843566901], \"textposition\": \"auto\", \"x\": [1.49438726902008, 1.4844149351120002, 1.40570604801178, 1.47920441627502, 1.50394463539124, 1.44357192516327, 1.5649795532226598, 1.480633020401, 1.48238301277161, 1.6164631843566901], \"xaxis\": \"x\", \"y\": [\"Sweden\", \"Australia\", \"New Zealand\", \"Canada\", \"Netherlands\", \"Finland\", \"Switzerland\", \"Iceland\", \"Denmark\", \"Norway\"], \"yaxis\": \"y\", \"type\": \"bar\"}, {\"alignmentgroup\": \"True\", \"hoverlabel\": {\"namelength\": 0}, \"hovertemplate\": \"variable=Family<br>Year=2017<br>value=%{text}<br>Country=%{y}\", \"legendgroup\": \"variable=Family\", \"marker\": {\"color\": \"#00cc96\", \"opacity\": 0.2}, \"name\": \"variable=Family\", \"offsetgroup\": \"variable=Family\", \"orientation\": \"v\", \"showlegend\": true, \"text\": [1.47816216945648, 1.5100419521331798, 1.54819512367249, 1.48134899139404, 1.42893922328949, 1.5402467250824, 1.51691174507141, 1.6105740070343, 1.55112159252167, 1.53352355957031], \"textposition\": \"auto\", \"x\": [1.47816216945648, 1.5100419521331798, 1.54819512367249, 1.48134899139404, 1.42893922328949, 1.5402467250824, 1.51691174507141, 1.6105740070343, 1.55112159252167, 1.53352355957031], \"xaxis\": \"x\", \"y\": [\"Sweden\", \"Australia\", \"New Zealand\", \"Canada\", \"Netherlands\", \"Finland\", \"Switzerland\", \"Iceland\", \"Denmark\", \"Norway\"], \"yaxis\": \"y\", \"type\": \"bar\"}, {\"alignmentgroup\": \"True\", \"hoverlabel\": {\"namelength\": 0}, \"hovertemplate\": \"variable=Life<br>Year=2017<br>value=%{text}<br>Country=%{y}\", \"legendgroup\": \"variable=Life\", \"marker\": {\"color\": \"#ab63fa\", \"opacity\": 0.2}, \"name\": \"variable=Life\", \"offsetgroup\": \"variable=Life\", \"orientation\": \"v\", \"showlegend\": true, \"text\": [0.830875158309937, 0.84388679265976, 0.816759705543518, 0.83455765247345, 0.8106961250305179, 0.80915766954422, 0.858131289482117, 0.8335521221160892, 0.7925655245780941, 0.796666502952576], \"textposition\": \"auto\", \"x\": [0.830875158309937, 0.84388679265976, 0.816759705543518, 0.83455765247345, 0.8106961250305179, 0.80915766954422, 0.858131289482117, 0.8335521221160892, 0.7925655245780941, 0.796666502952576], \"xaxis\": \"x\", \"y\": [\"Sweden\", \"Australia\", \"New Zealand\", \"Canada\", \"Netherlands\", \"Finland\", \"Switzerland\", \"Iceland\", \"Denmark\", \"Norway\"], \"yaxis\": \"y\", \"type\": \"bar\"}, {\"alignmentgroup\": \"True\", \"hoverlabel\": {\"namelength\": 0}, \"hovertemplate\": \"variable=Freedom<br>Year=2017<br>value=%{text}<br>Country=%{y}\", \"legendgroup\": \"variable=Freedom\", \"marker\": {\"color\": \"#FFA15A\", \"opacity\": 0.2}, \"name\": \"variable=Freedom\", \"offsetgroup\": \"variable=Freedom\", \"orientation\": \"v\", \"showlegend\": true, \"text\": [0.601607382297516, 0.612924098968506, 0.6140621304512021, 0.611100912094116, 0.5853844881057739, 0.6179508566856379, 0.620070576667786, 0.6271626353263849, 0.626006722450256, 0.635422587394714], \"textposition\": \"auto\", \"x\": [0.601607382297516, 0.612924098968506, 0.6140621304512021, 0.611100912094116, 0.5853844881057739, 0.6179508566856379, 0.620070576667786, 0.6271626353263849, 0.626006722450256, 0.635422587394714], \"xaxis\": \"x\", \"y\": [\"Australia\", \"Sweden\", \"New Zealand\", \"Canada\", \"Netherlands\", \"Finland\", \"Switzerland\", \"Iceland\", \"Denmark\", \"Norway\"], \"yaxis\": \"y\", \"type\": \"bar\"}, {\"alignmentgroup\": \"True\", \"hoverlabel\": {\"namelength\": 0}, \"hovertemplate\": \"variable=Generosity<br>Year=2017<br>value=%{text}<br>Country=%{y}\", \"legendgroup\": \"variable=Generosity\", \"marker\": {\"color\": \"#19d3f3\", \"opacity\": 0.2}, \"name\": \"variable=Generosity\", \"offsetgroup\": \"variable=Generosity\", \"orientation\": \"v\", \"showlegend\": true, \"text\": [0.38539925217628496, 0.47769924998283403, 0.500005125999451, 0.435539722442627, 0.47048982977867104, 0.24548277258873, 0.29054927825927696, 0.47554022073745705, 0.3552804887294771, 0.36201223731041], \"textposition\": \"auto\", \"x\": [0.38539925217628496, 0.47769924998283403, 0.500005125999451, 0.435539722442627, 0.47048982977867104, 0.24548277258873, 0.29054927825927696, 0.47554022073745705, 0.3552804887294771, 0.36201223731041], \"xaxis\": \"x\", \"y\": [\"Sweden\", \"Australia\", \"New Zealand\", \"Canada\", \"Netherlands\", \"Finland\", \"Switzerland\", \"Iceland\", \"Denmark\", \"Norway\"], \"yaxis\": \"y\", \"type\": \"bar\"}, {\"alignmentgroup\": \"True\", \"hoverlabel\": {\"namelength\": 0}, \"hovertemplate\": \"variable=Trust<br>Year=2017<br>value=%{text}<br>Country=%{y}\", \"legendgroup\": \"variable=Trust\", \"marker\": {\"color\": \"#FF6692\", \"opacity\": 0.2}, \"name\": \"variable=Trust\", \"offsetgroup\": \"variable=Trust\", \"orientation\": \"v\", \"showlegend\": true, \"text\": [0.384398728609085, 0.301183730363846, 0.38281670212745705, 0.287371516227722, 0.282661825418472, 0.38261154294014, 0.36700728535652205, 0.15352655947208402, 0.40077006816863997, 0.31596383452415505], \"textposition\": \"auto\", \"x\": [0.384398728609085, 0.301183730363846, 0.38281670212745705, 0.287371516227722, 0.282661825418472, 0.38261154294014, 0.36700728535652205, 0.15352655947208402, 0.40077006816863997, 0.31596383452415505], \"xaxis\": \"x\", \"y\": [\"Sweden\", \"Australia\", \"New Zealand\", \"Canada\", \"Netherlands\", \"Finland\", \"Switzerland\", \"Iceland\", \"Denmark\", \"Norway\"], \"yaxis\": \"y\", \"type\": \"bar\"}], \"name\": \"2017\"}, {\"data\": [{\"alignmentgroup\": \"True\", \"hoverlabel\": {\"namelength\": 0}, \"hovertemplate\": \"variable=Dystopia Residual<br>Year=2016<br>value=%{text}<br>Country=%{y}\", \"legendgroup\": \"variable=Dystopia Residual\", \"marker\": {\"color\": \"#636efa\", \"opacity\": 0.2}, \"name\": \"variable=Dystopia Residual\", \"offsetgroup\": \"variable=Dystopia Residual\", \"orientation\": \"v\", \"showlegend\": true, \"text\": [2.54734, 2.5465, 2.47553, 2.70749, 2.70485, 2.82596, 2.66465, 2.83137, 2.69463, 2.73939], \"textposition\": \"auto\", \"x\": [2.54734, 2.5465, 2.47553, 2.70749, 2.70485, 2.82596, 2.66465, 2.83137, 2.69463, 2.73939], \"xaxis\": \"x\", \"y\": [\"Sweden\", \"Australia\", \"New Zealand\", \"Netherlands\", \"Canada\", \"Finland\", \"Norway\", \"Iceland\", \"Switzerland\", \"Denmark\"], \"yaxis\": \"y\", \"type\": \"bar\"}, {\"alignmentgroup\": \"True\", \"hoverlabel\": {\"namelength\": 0}, \"hovertemplate\": \"variable=GDP<br>Year=2016<br>value=%{text}<br>Country=%{y}\", \"legendgroup\": \"variable=GDP\", \"marker\": {\"color\": \"#EF553B\", \"opacity\": 0.2}, \"name\": \"variable=GDP\", \"offsetgroup\": \"variable=GDP\", \"orientation\": \"v\", \"showlegend\": true, \"text\": [1.45181, 1.4444299999999999, 1.36066, 1.46468, 1.44015, 1.40598, 1.57744, 1.42666, 1.5273299999999999, 1.4417799999999998], \"textposition\": \"auto\", \"x\": [1.45181, 1.4444299999999999, 1.36066, 1.46468, 1.44015, 1.40598, 1.57744, 1.42666, 1.5273299999999999, 1.4417799999999998], \"xaxis\": \"x\", \"y\": [\"Sweden\", \"Australia\", \"New Zealand\", \"Netherlands\", \"Canada\", \"Finland\", \"Norway\", \"Iceland\", \"Switzerland\", \"Denmark\"], \"yaxis\": \"y\", \"type\": \"bar\"}, {\"alignmentgroup\": \"True\", \"hoverlabel\": {\"namelength\": 0}, \"hovertemplate\": \"variable=Family<br>Year=2016<br>value=%{text}<br>Country=%{y}\", \"legendgroup\": \"variable=Family\", \"marker\": {\"color\": \"#00cc96\", \"opacity\": 0.2}, \"name\": \"variable=Family\", \"offsetgroup\": \"variable=Family\", \"orientation\": \"v\", \"showlegend\": true, \"text\": [1.08764, 1.10476, 1.17278, 1.02912, 1.0961, 1.1346399999999999, 1.1269, 1.18326, 1.14524, 1.16374], \"textposition\": \"auto\", \"x\": [1.08764, 1.10476, 1.17278, 1.02912, 1.0961, 1.1346399999999999, 1.1269, 1.18326, 1.14524, 1.16374], \"xaxis\": \"x\", \"y\": [\"Sweden\", \"Australia\", \"New Zealand\", \"Netherlands\", \"Canada\", \"Finland\", \"Norway\", \"Iceland\", \"Switzerland\", \"Denmark\"], \"yaxis\": \"y\", \"type\": \"bar\"}, {\"alignmentgroup\": \"True\", \"hoverlabel\": {\"namelength\": 0}, \"hovertemplate\": \"variable=Life<br>Year=2016<br>value=%{text}<br>Country=%{y}\", \"legendgroup\": \"variable=Life\", \"marker\": {\"color\": \"#ab63fa\", \"opacity\": 0.2}, \"name\": \"variable=Life\", \"offsetgroup\": \"variable=Life\", \"orientation\": \"v\", \"showlegend\": true, \"text\": [0.83121, 0.8512, 0.83096, 0.8123100000000001, 0.8276, 0.81091, 0.79579, 0.8673299999999999, 0.86303, 0.79504], \"textposition\": \"auto\", \"x\": [0.83121, 0.8512, 0.83096, 0.8123100000000001, 0.8276, 0.81091, 0.79579, 0.8673299999999999, 0.86303, 0.79504], \"xaxis\": \"x\", \"y\": [\"Sweden\", \"Australia\", \"New Zealand\", \"Netherlands\", \"Canada\", \"Finland\", \"Norway\", \"Iceland\", \"Switzerland\", \"Denmark\"], \"yaxis\": \"y\", \"type\": \"bar\"}, {\"alignmentgroup\": \"True\", \"hoverlabel\": {\"namelength\": 0}, \"hovertemplate\": \"variable=Freedom<br>Year=2016<br>value=%{text}<br>Country=%{y}\", \"legendgroup\": \"variable=Freedom\", \"marker\": {\"color\": \"#FFA15A\", \"opacity\": 0.2}, \"name\": \"variable=Freedom\", \"offsetgroup\": \"variable=Freedom\", \"orientation\": \"v\", \"showlegend\": true, \"text\": [0.58218, 0.5683699999999999, 0.5814699999999999, 0.55211, 0.5737, 0.57104, 0.59609, 0.56624, 0.58557, 0.5794100000000001], \"textposition\": \"auto\", \"x\": [0.58218, 0.5683699999999999, 0.5814699999999999, 0.55211, 0.5737, 0.57104, 0.59609, 0.56624, 0.58557, 0.5794100000000001], \"xaxis\": \"x\", \"y\": [\"Sweden\", \"Australia\", \"New Zealand\", \"Netherlands\", \"Canada\", \"Finland\", \"Norway\", \"Iceland\", \"Switzerland\", \"Denmark\"], \"yaxis\": \"y\", \"type\": \"bar\"}, {\"alignmentgroup\": \"True\", \"hoverlabel\": {\"namelength\": 0}, \"hovertemplate\": \"variable=Generosity<br>Year=2016<br>value=%{text}<br>Country=%{y}\", \"legendgroup\": \"variable=Generosity\", \"marker\": {\"color\": \"#19d3f3\", \"opacity\": 0.2}, \"name\": \"variable=Generosity\", \"offsetgroup\": \"variable=Generosity\", \"orientation\": \"v\", \"showlegend\": true, \"text\": [0.38254, 0.47407, 0.49401000000000006, 0.47416, 0.44833999999999996, 0.25492, 0.37895, 0.47678000000000004, 0.28083, 0.36171], \"textposition\": \"auto\", \"x\": [0.38254, 0.47407, 0.49401000000000006, 0.47416, 0.44833999999999996, 0.25492, 0.37895, 0.47678000000000004, 0.28083, 0.36171], \"xaxis\": \"x\", \"y\": [\"Sweden\", \"Australia\", \"New Zealand\", \"Netherlands\", \"Canada\", \"Finland\", \"Norway\", \"Iceland\", \"Switzerland\", \"Denmark\"], \"yaxis\": \"y\", \"type\": \"bar\"}, {\"alignmentgroup\": \"True\", \"hoverlabel\": {\"namelength\": 0}, \"hovertemplate\": \"variable=Trust<br>Year=2016<br>value=%{text}<br>Country=%{y}\", \"legendgroup\": \"variable=Trust\", \"marker\": {\"color\": \"#FF6692\", \"opacity\": 0.2}, \"name\": \"variable=Trust\", \"offsetgroup\": \"variable=Trust\", \"orientation\": \"v\", \"showlegend\": true, \"text\": [0.40867, 0.32331, 0.41903999999999997, 0.29927, 0.31329, 0.41003999999999996, 0.35775999999999997, 0.14975, 0.41203, 0.44453000000000004], \"textposition\": \"auto\", \"x\": [0.40867, 0.32331, 0.41903999999999997, 0.29927, 0.31329, 0.41003999999999996, 0.35775999999999997, 0.14975, 0.41203, 0.44453000000000004], \"xaxis\": \"x\", \"y\": [\"Sweden\", \"Australia\", \"New Zealand\", \"Netherlands\", \"Canada\", \"Finland\", \"Norway\", \"Iceland\", \"Switzerland\", \"Denmark\"], \"yaxis\": \"y\", \"type\": \"bar\"}], \"name\": \"2016\"}]);\n",
              "                        }).then(function(){\n",
              "                            \n",
              "var gd = document.getElementById('f53f095a-84a7-4708-ba19-61aa9d8dc141');\n",
              "var x = new MutationObserver(function (mutations, observer) {{\n",
              "        var display = window.getComputedStyle(gd).display;\n",
              "        if (!display || display === 'none') {{\n",
              "            console.log([gd, 'removed!']);\n",
              "            Plotly.purge(gd);\n",
              "            observer.disconnect();\n",
              "        }}\n",
              "}});\n",
              "\n",
              "// Listen for the removal of the full notebook cells\n",
              "var notebookContainer = gd.closest('#notebook-container');\n",
              "if (notebookContainer) {{\n",
              "    x.observe(notebookContainer, {childList: true});\n",
              "}}\n",
              "\n",
              "// Listen for the clearing of the current output cell\n",
              "var outputEl = gd.closest('.output');\n",
              "if (outputEl) {{\n",
              "    x.observe(outputEl, {childList: true});\n",
              "}}\n",
              "\n",
              "                        })\n",
              "                };\n",
              "                \n",
              "            </script>\n",
              "        </div>\n",
              "</body>\n",
              "</html>"
            ]
          },
          "metadata": {}
        }
      ]
    },
    {
      "cell_type": "code",
      "source": [
        "import plotly.express as px\n",
        "happiest_countries = fuldf.groupby(['Country'], sort = False)['Happiness Score', 'Year', 'GDP'].max()\n",
        "top10 = happiest_countries.sort_values('Happiness Score', ascending = False)[:15]\n",
        "fig = px.scatter(top10,\n",
        "                x = top10.index,\n",
        "                y = 'Happiness Score',\n",
        "                size = 'GDP',\n",
        "                color = top10.index,\n",
        "                template = 'xgridoff',\n",
        "                animation_frame = 'Year',\n",
        "                title = 'En Mutlu 15 Ülke')\n",
        "fig.show(renderer=\"colab\")"
      ],
      "metadata": {
        "colab": {
          "base_uri": "https://localhost:8080/",
          "height": 542
        },
        "id": "FVOG2zquoJ29",
        "outputId": "c8e52b0d-b1ca-43cc-ca02-91717ae61779"
      },
      "execution_count": null,
      "outputs": [
        {
          "output_type": "display_data",
          "data": {
            "text/html": [
              "<html>\n",
              "<head><meta charset=\"utf-8\" /></head>\n",
              "<body>\n",
              "    <div>\n",
              "            <script src=\"https://cdnjs.cloudflare.com/ajax/libs/mathjax/2.7.5/MathJax.js?config=TeX-AMS-MML_SVG\"></script><script type=\"text/javascript\">if (window.MathJax) {MathJax.Hub.Config({SVG: {font: \"STIX-Web\"}});}</script>\n",
              "                <script type=\"text/javascript\">window.PlotlyConfig = {MathJaxConfig: 'local'};</script>\n",
              "        <script src=\"https://cdn.plot.ly/plotly-latest.min.js\"></script>    \n",
              "            <div id=\"c64cb8dc-08fd-4af7-bc48-3d17ce660e8f\" class=\"plotly-graph-div\" style=\"height:525px; width:100%;\"></div>\n",
              "            <script type=\"text/javascript\">\n",
              "                \n",
              "                    window.PLOTLYENV=window.PLOTLYENV || {};\n",
              "                    \n",
              "                if (document.getElementById(\"c64cb8dc-08fd-4af7-bc48-3d17ce660e8f\")) {\n",
              "                    Plotly.newPlot(\n",
              "                        'c64cb8dc-08fd-4af7-bc48-3d17ce660e8f',\n",
              "                        [{\"hoverlabel\": {\"namelength\": 0}, \"hovertemplate\": \"color=Finland<br>Year=2019<br>x=%{x}<br>Happiness Score=%{y}<br>GDP=%{marker.size}\", \"legendgroup\": \"color=Finland\", \"marker\": {\"color\": \"#1F77B4\", \"size\": [1.44357192516327], \"sizemode\": \"area\", \"sizeref\": 0.004041157960891726, \"symbol\": \"circle\"}, \"mode\": \"markers\", \"name\": \"color=Finland\", \"showlegend\": true, \"type\": \"scatter\", \"x\": [\"Finland\"], \"xaxis\": \"x\", \"y\": [7.769], \"yaxis\": \"y\"}, {\"hoverlabel\": {\"namelength\": 0}, \"hovertemplate\": \"color=Denmark<br>Year=2019<br>x=%{x}<br>Happiness Score=%{y}<br>GDP=%{marker.size}\", \"legendgroup\": \"color=Denmark\", \"marker\": {\"color\": \"#FF7F0E\", \"size\": [1.48238301277161], \"sizemode\": \"area\", \"sizeref\": 0.004041157960891726, \"symbol\": \"circle\"}, \"mode\": \"markers\", \"name\": \"color=Denmark\", \"showlegend\": true, \"type\": \"scatter\", \"x\": [\"Denmark\"], \"xaxis\": \"x\", \"y\": [7.6], \"yaxis\": \"y\"}, {\"hoverlabel\": {\"namelength\": 0}, \"hovertemplate\": \"color=Norway<br>Year=2019<br>x=%{x}<br>Happiness Score=%{y}<br>GDP=%{marker.size}\", \"legendgroup\": \"color=Norway\", \"marker\": {\"color\": \"#2CA02C\", \"size\": [1.6164631843566901], \"sizemode\": \"area\", \"sizeref\": 0.004041157960891726, \"symbol\": \"circle\"}, \"mode\": \"markers\", \"name\": \"color=Norway\", \"showlegend\": true, \"type\": \"scatter\", \"x\": [\"Norway\"], \"xaxis\": \"x\", \"y\": [7.593999999999999], \"yaxis\": \"y\"}, {\"hoverlabel\": {\"namelength\": 0}, \"hovertemplate\": \"color=Switzerland<br>Year=2019<br>x=%{x}<br>Happiness Score=%{y}<br>GDP=%{marker.size}\", \"legendgroup\": \"color=Switzerland\", \"marker\": {\"color\": \"#D62728\", \"size\": [1.5649795532226598], \"sizemode\": \"area\", \"sizeref\": 0.004041157960891726, \"symbol\": \"circle\"}, \"mode\": \"markers\", \"name\": \"color=Switzerland\", \"showlegend\": true, \"type\": \"scatter\", \"x\": [\"Switzerland\"], \"xaxis\": \"x\", \"y\": [7.587000000000001], \"yaxis\": \"y\"}, {\"hoverlabel\": {\"namelength\": 0}, \"hovertemplate\": \"color=Iceland<br>Year=2019<br>x=%{x}<br>Happiness Score=%{y}<br>GDP=%{marker.size}\", \"legendgroup\": \"color=Iceland\", \"marker\": {\"color\": \"#9467BD\", \"size\": [1.480633020401], \"sizemode\": \"area\", \"sizeref\": 0.004041157960891726, \"symbol\": \"circle\"}, \"mode\": \"markers\", \"name\": \"color=Iceland\", \"showlegend\": true, \"type\": \"scatter\", \"x\": [\"Iceland\"], \"xaxis\": \"x\", \"y\": [7.561], \"yaxis\": \"y\"}, {\"hoverlabel\": {\"namelength\": 0}, \"hovertemplate\": \"color=Netherlands<br>Year=2019<br>x=%{x}<br>Happiness Score=%{y}<br>GDP=%{marker.size}\", \"legendgroup\": \"color=Netherlands\", \"marker\": {\"color\": \"#8C564B\", \"size\": [1.50394463539124], \"sizemode\": \"area\", \"sizeref\": 0.004041157960891726, \"symbol\": \"circle\"}, \"mode\": \"markers\", \"name\": \"color=Netherlands\", \"showlegend\": true, \"type\": \"scatter\", \"x\": [\"Netherlands\"], \"xaxis\": \"x\", \"y\": [7.4879999999999995], \"yaxis\": \"y\"}, {\"hoverlabel\": {\"namelength\": 0}, \"hovertemplate\": \"color=Canada<br>Year=2019<br>x=%{x}<br>Happiness Score=%{y}<br>GDP=%{marker.size}\", \"legendgroup\": \"color=Canada\", \"marker\": {\"color\": \"#E377C2\", \"size\": [1.47920441627502], \"sizemode\": \"area\", \"sizeref\": 0.004041157960891726, \"symbol\": \"circle\"}, \"mode\": \"markers\", \"name\": \"color=Canada\", \"showlegend\": true, \"type\": \"scatter\", \"x\": [\"Canada\"], \"xaxis\": \"x\", \"y\": [7.4270000000000005], \"yaxis\": \"y\"}, {\"hoverlabel\": {\"namelength\": 0}, \"hovertemplate\": \"color=Sweden<br>Year=2019<br>x=%{x}<br>Happiness Score=%{y}<br>GDP=%{marker.size}\", \"legendgroup\": \"color=Sweden\", \"marker\": {\"color\": \"#7F7F7F\", \"size\": [1.49438726902008], \"sizemode\": \"area\", \"sizeref\": 0.004041157960891726, \"symbol\": \"circle\"}, \"mode\": \"markers\", \"name\": \"color=Sweden\", \"showlegend\": true, \"type\": \"scatter\", \"x\": [\"Sweden\"], \"xaxis\": \"x\", \"y\": [7.364], \"yaxis\": \"y\"}, {\"hoverlabel\": {\"namelength\": 0}, \"hovertemplate\": \"color=New Zealand<br>Year=2019<br>x=%{x}<br>Happiness Score=%{y}<br>GDP=%{marker.size}\", \"legendgroup\": \"color=New Zealand\", \"marker\": {\"color\": \"#BCBD22\", \"size\": [1.40570604801178], \"sizemode\": \"area\", \"sizeref\": 0.004041157960891726, \"symbol\": \"circle\"}, \"mode\": \"markers\", \"name\": \"color=New Zealand\", \"showlegend\": true, \"type\": \"scatter\", \"x\": [\"New Zealand\"], \"xaxis\": \"x\", \"y\": [7.334], \"yaxis\": \"y\"}, {\"hoverlabel\": {\"namelength\": 0}, \"hovertemplate\": \"color=Australia<br>Year=2019<br>x=%{x}<br>Happiness Score=%{y}<br>GDP=%{marker.size}\", \"legendgroup\": \"color=Australia\", \"marker\": {\"color\": \"#17BECF\", \"size\": [1.4844149351120002], \"sizemode\": \"area\", \"sizeref\": 0.004041157960891726, \"symbol\": \"circle\"}, \"mode\": \"markers\", \"name\": \"color=Australia\", \"showlegend\": true, \"type\": \"scatter\", \"x\": [\"Australia\"], \"xaxis\": \"x\", \"y\": [7.313], \"yaxis\": \"y\"}, {\"hoverlabel\": {\"namelength\": 0}, \"hovertemplate\": \"color=Israel<br>Year=2019<br>x=%{x}<br>Happiness Score=%{y}<br>GDP=%{marker.size}\", \"legendgroup\": \"color=Israel\", \"marker\": {\"color\": \"#1F77B4\", \"size\": [1.3753824234008798], \"sizemode\": \"area\", \"sizeref\": 0.004041157960891726, \"symbol\": \"circle\"}, \"mode\": \"markers\", \"name\": \"color=Israel\", \"showlegend\": true, \"type\": \"scatter\", \"x\": [\"Israel\"], \"xaxis\": \"x\", \"y\": [7.278], \"yaxis\": \"y\"}, {\"hoverlabel\": {\"namelength\": 0}, \"hovertemplate\": \"color=Austria<br>Year=2019<br>x=%{x}<br>Happiness Score=%{y}<br>GDP=%{marker.size}\", \"legendgroup\": \"color=Austria\", \"marker\": {\"color\": \"#FF7F0E\", \"size\": [1.4870972633361799], \"sizemode\": \"area\", \"sizeref\": 0.004041157960891726, \"symbol\": \"circle\"}, \"mode\": \"markers\", \"name\": \"color=Austria\", \"showlegend\": true, \"type\": \"scatter\", \"x\": [\"Austria\"], \"xaxis\": \"x\", \"y\": [7.246], \"yaxis\": \"y\"}, {\"hoverlabel\": {\"namelength\": 0}, \"hovertemplate\": \"color=Costa Rica<br>Year=2019<br>x=%{x}<br>Happiness Score=%{y}<br>GDP=%{marker.size}\", \"legendgroup\": \"color=Costa Rica\", \"marker\": {\"color\": \"#2CA02C\", \"size\": [1.10970628261566], \"sizemode\": \"area\", \"sizeref\": 0.004041157960891726, \"symbol\": \"circle\"}, \"mode\": \"markers\", \"name\": \"color=Costa Rica\", \"showlegend\": true, \"type\": \"scatter\", \"x\": [\"Costa Rica\"], \"xaxis\": \"x\", \"y\": [7.226], \"yaxis\": \"y\"}, {\"hoverlabel\": {\"namelength\": 0}, \"hovertemplate\": \"color=United Kingdom<br>Year=2019<br>x=%{x}<br>Happiness Score=%{y}<br>GDP=%{marker.size}\", \"legendgroup\": \"color=United Kingdom\", \"marker\": {\"color\": \"#D62728\", \"size\": [1.44163393974304], \"sizemode\": \"area\", \"sizeref\": 0.004041157960891726, \"symbol\": \"circle\"}, \"mode\": \"markers\", \"name\": \"color=United Kingdom\", \"showlegend\": true, \"type\": \"scatter\", \"x\": [\"United Kingdom\"], \"xaxis\": \"x\", \"y\": [7.19], \"yaxis\": \"y\"}, {\"hoverlabel\": {\"namelength\": 0}, \"hovertemplate\": \"color=Mexico<br>Year=2019<br>x=%{x}<br>Happiness Score=%{y}<br>GDP=%{marker.size}\", \"legendgroup\": \"color=Mexico\", \"marker\": {\"color\": \"#9467BD\", \"size\": [1.1531838178634601], \"sizemode\": \"area\", \"sizeref\": 0.004041157960891726, \"symbol\": \"circle\"}, \"mode\": \"markers\", \"name\": \"color=Mexico\", \"showlegend\": true, \"type\": \"scatter\", \"x\": [\"Mexico\"], \"xaxis\": \"x\", \"y\": [7.187], \"yaxis\": \"y\"}],\n",
              "                        {\"legend\": {\"itemsizing\": \"constant\", \"tracegroupgap\": 0}, \"template\": {\"data\": {\"pie\": [{\"automargin\": true, \"type\": \"pie\"}]}, \"layout\": {\"xaxis\": {\"showgrid\": false, \"title\": {\"standoff\": 15}}, \"yaxis\": {\"title\": {\"standoff\": 15}}}}, \"title\": {\"text\": \"En Mutlu 15 \\u00dclke\"}, \"xaxis\": {\"anchor\": \"y\", \"domain\": [0.0, 1.0], \"title\": {\"text\": \"x\"}}, \"yaxis\": {\"anchor\": \"x\", \"domain\": [0.0, 1.0], \"title\": {\"text\": \"Happiness Score\"}}},\n",
              "                        {\"responsive\": true}\n",
              "                    ).then(function(){\n",
              "                            \n",
              "var gd = document.getElementById('c64cb8dc-08fd-4af7-bc48-3d17ce660e8f');\n",
              "var x = new MutationObserver(function (mutations, observer) {{\n",
              "        var display = window.getComputedStyle(gd).display;\n",
              "        if (!display || display === 'none') {{\n",
              "            console.log([gd, 'removed!']);\n",
              "            Plotly.purge(gd);\n",
              "            observer.disconnect();\n",
              "        }}\n",
              "}});\n",
              "\n",
              "// Listen for the removal of the full notebook cells\n",
              "var notebookContainer = gd.closest('#notebook-container');\n",
              "if (notebookContainer) {{\n",
              "    x.observe(notebookContainer, {childList: true});\n",
              "}}\n",
              "\n",
              "// Listen for the clearing of the current output cell\n",
              "var outputEl = gd.closest('.output');\n",
              "if (outputEl) {{\n",
              "    x.observe(outputEl, {childList: true});\n",
              "}}\n",
              "\n",
              "                        })\n",
              "                };\n",
              "                \n",
              "            </script>\n",
              "        </div>\n",
              "</body>\n",
              "</html>"
            ]
          },
          "metadata": {}
        }
      ]
    },
    {
      "cell_type": "code",
      "source": [
        ""
      ],
      "metadata": {
        "id": "MTIeKiQJqC8l"
      },
      "execution_count": null,
      "outputs": []
    }
  ]
}